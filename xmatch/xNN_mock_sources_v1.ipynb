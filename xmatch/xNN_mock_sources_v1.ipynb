{
 "cells": [
  {
   "cell_type": "markdown",
   "metadata": {},
   "source": [
    "# The search for nearest-neighbors between (two) mock catalogs\n",
    "\n",
    "As a first step in working over the cross-matching of two astronomical catalogs, below I experiment a nearest-neighbor (NN) method using two sets of artificial sources.\n",
    "\n",
    "At the first part of this notebook I generate the (mock) sources and then search for the (positional) matching pairs.\n",
    "\n",
    "TOC:\n",
    "* [Simulation of source images](#Simulation-of-source-images)\n",
    "  * [Resultant simulation for the first image/catalog](#Result-of-the-simulation-for-the-first-image)\n",
    "  * [Resultant simulation for the second image/catalog](#Result-of-the-simulation-for-the-second-image)\n",
    "  * [Resultant merged images](#Merge-images)\n",
    "* [Cross-match the tables](#Finally-cross-match-the-catalogs)"
   ]
  },
  {
   "cell_type": "code",
   "execution_count": 1,
   "metadata": {
    "collapsed": false
   },
   "outputs": [],
   "source": [
    "%matplotlib inline\n",
    "\n",
    "from matplotlib import pyplot as plt\n",
    "from matplotlib import cm\n",
    "\n",
    "import numpy\n",
    "\n",
    "plt.rcParams['figure.figsize'] = (10.0, 10.0) "
   ]
  },
  {
   "cell_type": "markdown",
   "metadata": {},
   "source": [
    "## Simulation of source images\n",
    "\n",
    "Object (or \"sources\") in astronomical catalogs come from the processing of astronomical images through a detection algorithm. It is out the scope here to discuss such detection algorithms, as such we generate the sources across a region mocking some region of the sky. The images help us to see what were are going to process, and by all means add to the quality/completeness of the workflow."
   ]
  },
  {
   "cell_type": "code",
   "execution_count": 2,
   "metadata": {
    "collapsed": false
   },
   "outputs": [],
   "source": [
    "# Define parameters for the images and sources therein.\n",
    "\n",
    "# size of the images\n",
    "sx = 500\n",
    "sy = 500\n",
    "\n",
    "# number of sources on each image\n",
    "nsrc1 = int( 0.05 * (sx*sy)/(sx+sy) )\n",
    "nsrc2 = int( 0.5 * nsrc1 )\n",
    "\n",
    "# typical error radius (in pixels)\n",
    "rerr1 = 20\n",
    "rerr2 = rerr1"
   ]
  },
  {
   "cell_type": "code",
   "execution_count": 3,
   "metadata": {
    "collapsed": false
   },
   "outputs": [],
   "source": [
    "def generate_positions(npts,img_shape):\n",
    "    \"\"\"\n",
    "    Generate 'npts' points uniformly across 'image_shape'.\n",
    "    \n",
    "    Args:\n",
    "        npts      : number of points to generate\n",
    "        img_shape : (y,x) shape where to generate points\n",
    "\n",
    "    Returns:\n",
    "        Pair_Coordinates_List : list of (y,x) tuples\n",
    "    \"\"\"\n",
    "    import numpy as np\n",
    "    _sy,_sx = img_shape\n",
    "    assert _sy>=5 and _sx>=5 # because I want\n",
    "    indy = np.random.randint(0,_sy-1,npts)\n",
    "    indx = np.random.randint(0,_sx-1,npts)\n",
    "    _inds = zip(indy,indx)\n",
    "    return _inds\n",
    "\n",
    "# \"sources 1\"\n",
    "coords1 = generate_positions(nsrc1,(sy,sx))\n",
    "assert isinstance(coords1,list) and len(coords1) is nsrc1"
   ]
  },
  {
   "cell_type": "code",
   "execution_count": 4,
   "metadata": {
    "collapsed": false
   },
   "outputs": [],
   "source": [
    "# Below are utility functions just to handle an properly format\n",
    "#  the position table to be used -- first, as a dictionary -- by the image generation function\n",
    "#  and then -- as a pandas.DataFrame -- through the rest of the work\n",
    "\n",
    "def create_positions_table(coords,err_radius):\n",
    "    \"\"\"\n",
    "    \"\"\"\n",
    "    tab = {}\n",
    "    for i,oo in enumerate(coords):\n",
    "        i = i+1\n",
    "        tab[i] = [i,oo[1],oo[0],err_radius]\n",
    "    return tab\n",
    "\n",
    "# table for \"sources 1\"\n",
    "tab1 = create_positions_table(coords1,rerr1)\n",
    "\n",
    "def tab2df(tab):\n",
    "    nt = {'ID':[],'x':[],'y':[],'r':[]}\n",
    "    for k,v in tab.iteritems():\n",
    "        nt['ID'].append(v[0])\n",
    "        nt['x'].append(v[1])\n",
    "        nt['y'].append(v[2])\n",
    "        nt['r'].append(v[3])\n",
    "    import pandas\n",
    "    df = pandas.DataFrame(nt)\n",
    "    return df\n",
    "\n",
    "df1 = tab2df(tab1)"
   ]
  },
  {
   "cell_type": "code",
   "execution_count": 5,
   "metadata": {
    "collapsed": false
   },
   "outputs": [],
   "source": [
    "# create and draw each source on black(null) images\n",
    "def draw_image_sources(tab_positions,img_shape,colormap='colorful'):\n",
    "    \"\"\"\n",
    "    Returns a ~PIL.Image with the objects draw in it\n",
    "    \n",
    "    Input:\n",
    "     - tab_positions : dict()\n",
    "             dictionary with keys as row numbers (index)\n",
    "             and as values a tuple (index,x_position,y_position,radius)\n",
    "     - img_shape : tuple\n",
    "             tuple with (y,x) sizes, as a ~numpy.array.shape output\n",
    "     - colomap : str\n",
    "             name of the colormap to use: {colorful, blue, red, green}\n",
    "             \n",
    "    Output:\n",
    "     - tuple with: ~PIL.Image with the sources(circles) draw\n",
    "                 , a dictionary with identifiers for each source (internal use only)\n",
    "    \"\"\"\n",
    "    def color_filling(mode='colorful'):\n",
    "        def _colorful(x,y,size):\n",
    "            _R = int(255 - ( int(x/256) + int(y/256)*(1 + ceil(size[0]/256)) )) #TODO: restrict total size of image to avoid _R<=0\n",
    "            _G = x%256\n",
    "            _B = y%256\n",
    "            return (_R,_G,_B)\n",
    "\n",
    "        def _blue(x,y,size):\n",
    "            _R = 0\n",
    "            _G = 0\n",
    "            _B = 255\n",
    "            return (_R,_G,_B)\n",
    "\n",
    "        def _green(x,y,size):\n",
    "            _R = 0\n",
    "            _G = 255\n",
    "            _B = 0\n",
    "            return (_R,_G,_B)\n",
    "\n",
    "        def _red(x,y,size):\n",
    "            _R = 255\n",
    "            _G = 0\n",
    "            _B = 0\n",
    "            return (_R,_G,_B)\n",
    "\n",
    "        foos = {'blue'    : _blue,\n",
    "                'red'     : _red,\n",
    "                'green'   : _green,\n",
    "                'colorful': _colorful}\n",
    "        \n",
    "        try:\n",
    "            foo = foos[mode]\n",
    "        except:\n",
    "            foo = _colorful\n",
    "        return foo\n",
    "        \n",
    "        \n",
    "    from math import ceil\n",
    "    from PIL import Image,ImageDraw\n",
    "    assert(isinstance(img_shape,tuple) and len(img_shape) is 2)\n",
    "    size = img_shape[::-1]\n",
    "    # Modification to accomplish color codes ---\n",
    "    #mode = 'L'\n",
    "    mode = 'RGB'\n",
    "    # ---\n",
    "    color = \"black\"\n",
    "    img = Image.new(mode,size,color)\n",
    "    assert(len(tab_positions)>=1)\n",
    "    #\n",
    "    dictColorId = {}\n",
    "    filling_foo = color_filling(colormap)\n",
    "    #\n",
    "    for i,src in tab_positions.items():\n",
    "        assert isinstance(src,list) and src is tab_positions[i]\n",
    "        assert len(src)>=4, \"length of table raw %d is %d\" % (i,len(src))\n",
    "        assert i==src[0]\n",
    "        draw = ImageDraw.Draw(img)\n",
    "        x = src[1]\n",
    "        assert 0<=x and x<size[0], \"coordinate x is %d\" % x\n",
    "        y = src[2]\n",
    "        assert 0<=y and y<size[1], \"coordinate y is %d\" % y\n",
    "        r = src[3]\n",
    "        assert r<size[0]/2 and r<size[1]/2\n",
    "        box = (x-r,y-r,x+r,y+r)\n",
    "        # Modification to accomplish color codes ---\n",
    "        #fill=255\n",
    "        fill = filling_foo(x,y,size)\n",
    "        # ---\n",
    "        dictColorId[str(fill)] = i\n",
    "        draw.ellipse(box,fill=fill)\n",
    "        del draw,box,x,y,r\n",
    "    return (img,dictColorId)\n",
    "\n",
    "img1,cor2id1 = draw_image_sources(tab1,(sy,sx),colormap='blue')\n",
    "#img1.show()"
   ]
  },
  {
   "cell_type": "code",
   "execution_count": 6,
   "metadata": {
    "collapsed": false
   },
   "outputs": [],
   "source": [
    "## Utility functions to handle convertion between PIL -> numpy, to show it with Matplotlib\n",
    "#\n",
    "\n",
    "# cmap reference:\n",
    "#\n",
    "# cm api: http://matplotlib.org/api/cm_api.html\n",
    "# cmaps : http://matplotlib.org/users/colormaps.html\n",
    "# imshow: http://matplotlib.org/users/image_tutorial.html\n",
    "#cmap = cm.get_cmap('Blues')\n",
    "\n",
    "def pilImage_2_numpyArray(img,shape):\n",
    "    sx,sy = shape\n",
    "    img_array = numpy.array(list(img.getdata())).reshape(sx,sy,3)\n",
    "    return img_array\n",
    "\n",
    "def rgbArray_2_mono(img_arr,chanel='R'):\n",
    "    chanels = {'R':0,\n",
    "               'G':1,\n",
    "               'B':2}\n",
    "    _i = chanels[chanel]\n",
    "    return img_arr[:,:,_i]\n"
   ]
  },
  {
   "cell_type": "markdown",
   "metadata": {},
   "source": [
    "### Result of the simulation for the first image"
   ]
  },
  {
   "cell_type": "code",
   "execution_count": 7,
   "metadata": {
    "collapsed": false
   },
   "outputs": [
    {
     "name": "stdout",
     "output_type": "stream",
     "text": [
      "Catalog A:\n",
      "----------\n",
      "    ID   r    x    y\n",
      "0    1  20  261  381\n",
      "1    2  20  255  439\n",
      "2    3  20   66  130\n",
      "3    4  20  172  413\n",
      "4    5  20  450  174\n",
      "5    6  20  479  107\n",
      "6    7  20  315   46\n",
      "7    8  20  255  171\n",
      "8    9  20  203  130\n",
      "9   10  20   72   41\n",
      "10  11  20  484  336\n",
      "11  12  20   41   55\n"
     ]
    },
    {
     "data": {
      "image/png": "[encoded data removed]",
      "text/plain": [
       "<matplotlib.figure.Figure at 0x7fb902772ad0>"
      ]
     },
     "metadata": {},
     "output_type": "display_data"
    }
   ],
   "source": [
    "img1_array = pilImage_2_numpyArray(img1,[sx,sy])\n",
    "img1_mono = rgbArray_2_mono(img1_array,'B')\n",
    "\n",
    "plt.imshow(img1_mono,cmap='Blues')\n",
    "print \"Catalog A:\"\n",
    "print \"----------\"\n",
    "print df1"
   ]
  },
  {
   "cell_type": "code",
   "execution_count": 8,
   "metadata": {
    "collapsed": false
   },
   "outputs": [],
   "source": [
    "# do the same steps for \"sources 2\"\n",
    "coords2 = generate_positions(nsrc2,(sy,sx))\n",
    "assert isinstance(coords2,list) and len(coords2) is nsrc2\n",
    "tab2 = create_positions_table(coords2,rerr2)\n",
    "img2,cor2id2 = draw_image_sources(tab2,(sy,sx),colormap='red')\n",
    "#img2.show()\n",
    "df2 = tab2df(tab2)"
   ]
  },
  {
   "cell_type": "markdown",
   "metadata": {},
   "source": [
    "### Result of the simulation for the second image"
   ]
  },
  {
   "cell_type": "code",
   "execution_count": 9,
   "metadata": {
    "collapsed": false
   },
   "outputs": [
    {
     "name": "stdout",
     "output_type": "stream",
     "text": [
      "Catalog B:\n",
      "----------\n",
      "   ID   r    x    y\n",
      "0   1  20  444  368\n",
      "1   2  20  456  212\n",
      "2   3  20  298  273\n",
      "3   4  20   69  443\n",
      "4   5  20   46  335\n",
      "5   6  20  244  171\n"
     ]
    },
    {
     "data": {
      "text/plain": [
       "<matplotlib.image.AxesImage at 0x7fb8fffb56d0>"
      ]
     },
     "execution_count": 9,
     "metadata": {},
     "output_type": "execute_result"
    },
    {
     "data": {
      "image/png": "[encoded data removed]",
      "text/plain": [
       "<matplotlib.figure.Figure at 0x7fb8feaf7690>"
      ]
     },
     "metadata": {},
     "output_type": "display_data"
    }
   ],
   "source": [
    "img2_array = pilImage_2_numpyArray(img2,[sx,sy])\n",
    "img2_mono = rgbArray_2_mono(img2_array,'R')\n",
    "\n",
    "print \"Catalog B:\"\n",
    "print \"----------\"\n",
    "print df2\n",
    "plt.imshow(img2_mono,cmap='Reds')"
   ]
  },
  {
   "cell_type": "markdown",
   "metadata": {},
   "source": [
    "### Merge images"
   ]
  },
  {
   "cell_type": "code",
   "execution_count": 10,
   "metadata": {
    "collapsed": false
   },
   "outputs": [
    {
     "data": {
      "text/plain": [
       "<matplotlib.image.AxesImage at 0x7fb8ffefc5d0>"
      ]
     },
     "execution_count": 10,
     "metadata": {},
     "output_type": "execute_result"
    },
    {
     "data": {
      "image/png": "[encoded data removed]",
      "text/plain": [
       "<matplotlib.figure.Figure at 0x7fb8ffd8f290>"
      ]
     },
     "metadata": {},
     "output_type": "display_data"
    }
   ],
   "source": [
    "def add_arrays_2_image(img1,img2):\n",
    "    \"\"\"\n",
    "    \"\"\"\n",
    "    def array_2_image(arr):\n",
    "        from PIL import Image\n",
    "        imgout = Image.fromarray(numpy.uint8(arr))\n",
    "        return imgout\n",
    "    return array_2_image(img1+img2)\n",
    "\n",
    "img_sum = add_arrays_2_image(img1_array,img2_array)\n",
    "plt.imshow(img_sum)"
   ]
  },
  {
   "cell_type": "markdown",
   "metadata": {},
   "source": [
    "## Finally cross-match the catalogs"
   ]
  },
  {
   "cell_type": "code",
   "execution_count": 11,
   "metadata": {
    "collapsed": false
   },
   "outputs": [
    {
     "name": "stderr",
     "output_type": "stream",
     "text": [
      "/home/chbrandt/.conda/envs/booq-dev/lib/python2.7/site-packages/ipykernel/__main__.py:54: SettingWithCopyWarning: \n",
      "A value is trying to be set on a copy of a slice from a DataFrame.\n",
      "Try using .loc[row_indexer,col_indexer] = value instead\n",
      "\n",
      "See the caveats in the documentation: http://pandas.pydata.org/pandas-docs/stable/indexing.html#indexing-view-versus-copy\n"
     ]
    },
    {
     "data": {
      "text/html": [
       "&lt;Table masked=True length=12&gt;\n",
       "<table id=\"table140433251261584-676950\" class=\"table table-striped table-bordered table-condensed\">\n",
       "<thead><tr><th>A_ID</th><th>A_r</th><th>A_x</th><th>A_y</th><th>A_NN_in_B</th><th>B_ID</th><th>B_r</th><th>B_x</th><th>B_y</th><th>B_NN_in_A</th><th>dist</th></tr></thead>\n",
       "<tr><td>1</td><td>20</td><td>261</td><td>381</td><td>3</td><td>--</td><td>--</td><td>--</td><td>--</td><td>--</td><td>--</td></tr>\n",
       "<tr><td>2</td><td>20</td><td>255</td><td>439</td><td>3</td><td>--</td><td>--</td><td>--</td><td>--</td><td>--</td><td>--</td></tr>\n",
       "<tr><td>3</td><td>20</td><td>66</td><td>130</td><td>6</td><td>--</td><td>--</td><td>--</td><td>--</td><td>--</td><td>--</td></tr>\n",
       "<tr><td>4</td><td>20</td><td>172</td><td>413</td><td>4</td><td>4.0</td><td>20.0</td><td>69.0</td><td>443.0</td><td>4.0</td><td>107.0</td></tr>\n",
       "<tr><td>5</td><td>20</td><td>450</td><td>174</td><td>2</td><td>2.0</td><td>20.0</td><td>456.0</td><td>212.0</td><td>5.0</td><td>38.0</td></tr>\n",
       "<tr><td>6</td><td>20</td><td>479</td><td>107</td><td>2</td><td>--</td><td>--</td><td>--</td><td>--</td><td>--</td><td>--</td></tr>\n",
       "<tr><td>7</td><td>20</td><td>315</td><td>46</td><td>6</td><td>--</td><td>--</td><td>--</td><td>--</td><td>--</td><td>--</td></tr>\n",
       "<tr><td>8</td><td>20</td><td>255</td><td>171</td><td>6</td><td>6.0</td><td>20.0</td><td>244.0</td><td>171.0</td><td>8.0</td><td>10.0</td></tr>\n",
       "<tr><td>9</td><td>20</td><td>203</td><td>130</td><td>6</td><td>--</td><td>--</td><td>--</td><td>--</td><td>--</td><td>--</td></tr>\n",
       "<tr><td>10</td><td>20</td><td>72</td><td>41</td><td>6</td><td>--</td><td>--</td><td>--</td><td>--</td><td>--</td><td>--</td></tr>\n",
       "<tr><td>11</td><td>20</td><td>484</td><td>336</td><td>1</td><td>1.0</td><td>20.0</td><td>444.0</td><td>368.0</td><td>11.0</td><td>51.0</td></tr>\n",
       "<tr><td>12</td><td>20</td><td>41</td><td>55</td><td>6</td><td>--</td><td>--</td><td>--</td><td>--</td><td>--</td><td>--</td></tr>\n",
       "</table><style>table.dataTable {clear: both; width: auto !important; margin: 0 !important;}\n",
       ".dataTables_info, .dataTables_length, .dataTables_filter, .dataTables_paginate{\n",
       "display: inline-block; margin-right: 1em; }\n",
       ".paginate_button { margin-right: 5px; }\n",
       "</style>\n",
       "<script>\n",
       "require.config({paths: {\n",
       "    datatables: 'https://cdn.datatables.net/1.10.9/js/jquery.dataTables.min'\n",
       "}});\n",
       "require([\"datatables\"], function(){\n",
       "    console.log(\"$('#table140433251261584-676950').dataTable()\");\n",
       "    $('#table140433251261584-676950').dataTable({\n",
       "        \"order\": [],\n",
       "        \"iDisplayLength\": 50,\n",
       "        \"aLengthMenu\": [[10, 25, 50, 100, 500, 1000, -1], [10, 25, 50, 100, 500, 1000, 'All']],\n",
       "        \"pagingType\": \"full_numbers\"\n",
       "    });\n",
       "});\n",
       "</script>\n"
      ],
      "text/plain": [
       "<IPython.core.display.HTML object>"
      ]
     },
     "execution_count": 11,
     "metadata": {},
     "output_type": "execute_result"
    }
   ],
   "source": [
    "def nn_search(catA,catB):\n",
    "    \"\"\"\n",
    "    \"\"\"\n",
    "    \n",
    "    import pandas\n",
    "    assert isinstance(catA,pandas.DataFrame)\n",
    "    assert isinstance(catB,pandas.DataFrame)\n",
    "    \n",
    "    A = catA.copy()\n",
    "    B = catB.copy()\n",
    "    \n",
    "    from astropy.coordinates import SkyCoord\n",
    "    from astropy import units\n",
    "    norm_fact = 500.0\n",
    "    Ax_norm = A.x / norm_fact\n",
    "    Ay_norm = A.y / norm_fact\n",
    "    A_coord = SkyCoord(ra=Ax_norm, dec=Ay_norm, unit=units.deg)\n",
    "\n",
    "    Bx_norm = B.x / norm_fact\n",
    "    By_norm = B.y / norm_fact\n",
    "    B_coord = SkyCoord(ra=Bx_norm, dec=By_norm, unit=units.deg)\n",
    "\n",
    "    from astropy.coordinates import match_coordinates_sky\n",
    "    match_A_nn_idx, match_A_nn_sep, _d3d = match_coordinates_sky(A_coord, B_coord)\n",
    "    match_B_nn_idx, match_B_nn_sep, _d3d = match_coordinates_sky(B_coord, A_coord)\n",
    "\n",
    "\n",
    "    A['NN_in_B'] = B.ID[match_A_nn_idx].values\n",
    "    B['NN_in_A'] = A.ID[match_B_nn_idx].values\n",
    "\n",
    "    import numpy\n",
    "    A_matched_pairs = zip(numpy.arange(len(match_A_nn_idx)),\n",
    "                          match_A_nn_idx )\n",
    "    B_matched_pairs = set(zip(match_B_nn_idx,\n",
    "                              numpy.arange(len(match_B_nn_idx))))\n",
    "\n",
    "    duplicate_pairs = []\n",
    "    duplicate_dists = []\n",
    "    for i,p in enumerate(A_matched_pairs):\n",
    "        if p in B_matched_pairs:\n",
    "            duplicate_pairs.append(p)\n",
    "            duplicate_dists.append(match_A_nn_sep[i].value)\n",
    "\n",
    "    A_matched_idx,B_matched_idx = zip(*duplicate_pairs)\n",
    "    df_matched = pandas.DataFrame({ 'A_idx':A_matched_idx,\n",
    "                                    'B_idx':B_matched_idx,\n",
    "                                    'separation':duplicate_dists})\n",
    "    df_matched = df_matched.set_index('A_idx')\n",
    "\n",
    "    A.columns = [ 'A_'+c for c in A.columns ]\n",
    "    B.columns = [ 'B_'+c for c in B.columns ]\n",
    "\n",
    "    B_matched = B.iloc[df_matched.B_idx]\n",
    "    B_matched['A_idx'] = df_matched.index\n",
    "    B_matched = B_matched.set_index('A_idx')\n",
    "\n",
    "    B_matched['dist'] = numpy.asarray(df_matched.separation * norm_fact, dtype=int)\n",
    "\n",
    "    df = pandas.concat([A,B_matched],axis=1)\n",
    "    return df\n",
    "\n",
    "from astropy.table import Table\n",
    "table_match = Table.from_pandas( nn_search(df1,df2) )\n",
    "table_match.show_in_notebook()"
   ]
  },
  {
   "cell_type": "code",
   "execution_count": null,
   "metadata": {
    "collapsed": true
   },
   "outputs": [],
   "source": []
  }
 ],
 "metadata": {
  "kernelspec": {
   "display_name": "Python 2",
   "language": "python",
   "name": "python2"
  },
  "language_info": {
   "codemirror_mode": {
    "name": "ipython",
    "version": 2
   },
   "file_extension": ".py",
   "mimetype": "text/x-python",
   "name": "python",
   "nbconvert_exporter": "python",
   "pygments_lexer": "ipython2",
   "version": "2.7.12"
  }
 },
 "nbformat": 4,
 "nbformat_minor": 0
}
