{
 "metadata": {
  "name": "",
  "signature": "sha256:c02adedfa5b1fe28aec0ae04efcab66862401138f6db58121e448ec897b82a26"
 },
 "nbformat": 3,
 "nbformat_minor": 0,
 "worksheets": [
  {
   "cells": [
    {
     "cell_type": "code",
     "collapsed": false,
     "input": [
      "# first of all, let us define some parameters\n",
      "#\n",
      "# size of the images\n",
      "sx = 1000\n",
      "sy = 1000\n",
      "# number of sources on each image\n",
      "nsrc1 = 100\n",
      "nsrc2 = nsrc1\n",
      "# typical error radius (in pixels)\n",
      "rerr1 = 10\n",
      "rerr2 = rerr1"
     ],
     "language": "python",
     "metadata": {},
     "outputs": [],
     "prompt_number": 8
    },
    {
     "cell_type": "code",
     "collapsed": false,
     "input": [
      "# generate coordinate pairs for each image\n",
      "def generate_positions(npts,img_shape):\n",
      "    \"\"\"\n",
      "    Generate 'npts' points uniformly across 'image_shape'.\n",
      "    \n",
      "    Args:\n",
      "        npts      : number of points to generate\n",
      "        img_shape : (y,x) shape where to generate points\n",
      "\n",
      "    Returns:\n",
      "        Pair_Coordinates_List : list of (y,x) tuples\n",
      "    \"\"\"\n",
      "    import numpy as np\n",
      "    _sy,_sx = img_shape\n",
      "    assert _sy>=5 and _sx>=5 # because I want\n",
      "    indy = np.random.random_integers(0,_sy-1,npts)\n",
      "    indx = np.random.random_integers(0,_sx-1,npts)\n",
      "    _inds = zip(indy,indx)\n",
      "    return _inds\n",
      "\n",
      "# \"sources 1\"\n",
      "coords1 = generate_positions(nsrc1,(sy,sx))\n",
      "assert isinstance(coords1,list) and len(coords1) is nsrc1"
     ],
     "language": "python",
     "metadata": {},
     "outputs": [],
     "prompt_number": 9
    },
    {
     "cell_type": "code",
     "collapsed": false,
     "input": [
      "# create the positions table\n",
      "def create_positions_table(coords,err_radius):\n",
      "    \"\"\"\n",
      "    \"\"\"\n",
      "    tab = []\n",
      "    for i,oo in enumerate(coords):\n",
      "        tab.append([i,oo[1],oo[0],err_radius])\n",
      "    \n",
      "    return tab\n",
      "\n",
      "# table for \"sources 1\"\n",
      "tab1 = create_positions_table(coords1,rerr1)"
     ],
     "language": "python",
     "metadata": {},
     "outputs": [],
     "prompt_number": 10
    },
    {
     "cell_type": "code",
     "collapsed": false,
     "input": [
      "# create and draw each source on black(null) images\n",
      "def draw_image_sources(tab_positions,img_shape):\n",
      "    \"\"\"\n",
      "    \"\"\"\n",
      "    from math iport ceil\n",
      "    from PIL import Image,ImageDraw\n",
      "    assert(isinstance(img_shape,tuple) and len(img_shape) is 2)\n",
      "    size = img_shape[::-1]\n",
      "    # Modification to accomplish color codes ---\n",
      "    #mode = 'L'\n",
      "    mode = 'RGB'\n",
      "    # ---\n",
      "    color = \"black\"\n",
      "    img = Image.new(mode,size,color)\n",
      "    assert(len(tab_positions)>=1)\n",
      "    for i,src in enumerate(tab_positions):\n",
      "        assert len(src)>=4, \"length of table raw %d is %d\" % (i,len(src))\n",
      "        assert i==src[0]\n",
      "        draw = ImageDraw.Draw(img)\n",
      "        x = src[1]\n",
      "        assert 0<=x and x<size[0], \"coordinate x is %d\" % x\n",
      "        y = src[2]\n",
      "        assert 0<=y and y<size[1], \"coordinate y is %d\" % y\n",
      "        r = src[3]\n",
      "        assert r<size[0]/2 and r<size[1]/2\n",
      "        box = (x-r,y-r,x+r,y+r)\n",
      "        # Modification to accomplish color codes ---\n",
      "        #fill=255\n",
      "        _R = 255 - ( int(x/256) + int(y/256)(1 + ceil(size[0]/256)) ) #TODO: restrict total size of image to avoid _R<=0\n",
      "        _G = x%256\n",
      "        _B = y%256\n",
      "        fill = (_R,_G,_B)\n",
      "        # ---\n",
      "        draw.ellipse(box,fill=fill)\n",
      "        del draw,box,x,y,r\n",
      "        \n",
      "    return img\n",
      "\n",
      "img1 = draw_image_sources(tab1,(sy,sx))\n",
      "img1.show()"
     ],
     "language": "python",
     "metadata": {},
     "outputs": [
      {
       "ename": "SyntaxError",
       "evalue": "invalid syntax (<ipython-input-11-9b50b1e197f6>, line 5)",
       "output_type": "pyerr",
       "traceback": [
        "\u001b[0;36m  File \u001b[0;32m\"<ipython-input-11-9b50b1e197f6>\"\u001b[0;36m, line \u001b[0;32m5\u001b[0m\n\u001b[0;31m    from math iport ceil\u001b[0m\n\u001b[0m                  ^\u001b[0m\n\u001b[0;31mSyntaxError\u001b[0m\u001b[0;31m:\u001b[0m invalid syntax\n"
       ]
      }
     ],
     "prompt_number": 11
    },
    {
     "cell_type": "code",
     "collapsed": false,
     "input": [
      "# do the same steps for \"sources 2\"\n",
      "coords2 = generate_positions(nsrc2,(sy,sx))\n",
      "assert isinstance(coords2,list) and len(coords2) is nsrc2\n",
      "tab2 = create_positions_table(coords2,rerr2)\n",
      "img2 = draw_image_sources(tab2,(sy,sx))\n",
      "img2.show()"
     ],
     "language": "python",
     "metadata": {},
     "outputs": [],
     "prompt_number": 12
    },
    {
     "cell_type": "code",
     "collapsed": false,
     "input": [
      "# intersect the images\n",
      "def intersect_images(img1,img2):\n",
      "    \"\"\"\n",
      "    \"\"\"\n",
      "    from PIL import Image\n",
      "    assert isinstance(img1,Image.Image) and isinstance(img2,Image.Image)\n",
      "    import numpy as np\n",
      "    im1 = np.asarray(img1,dtype=bool)\n",
      "    im2 = np.asarray(img2,dtype=bool)\n",
      "    assert im1.shape == im2.shape\n",
      "    imout = np.zeros(im1.shape,dtype=bool)\n",
      "    np.logical_and(im1,im2,imout)\n",
      "    imgout = Image.fromarray(np.uint8(imout)*255)\n",
      "    return imgout,im1,im2,imout\n",
      "    \n",
      "imgs_pack = intersect_images(img1,img2)\n",
      "imgx = imgs_pack[0]\n",
      "imgx.show()"
     ],
     "language": "python",
     "metadata": {},
     "outputs": [],
     "prompt_number": 13
    },
    {
     "cell_type": "code",
     "collapsed": false,
     "input": [
      "# save the figs\n",
      "img1.save('sources1.png')\n",
      "img2.save('sources2.png')\n",
      "imgx.save('sourcesx.png')"
     ],
     "language": "python",
     "metadata": {},
     "outputs": [],
     "prompt_number": 14
    },
    {
     "cell_type": "code",
     "collapsed": false,
     "input": [],
     "language": "python",
     "metadata": {},
     "outputs": [],
     "prompt_number": 14
    }
   ],
   "metadata": {}
  }
 ]
}