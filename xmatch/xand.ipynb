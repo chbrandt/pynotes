{
 "cells": [
  {
   "cell_type": "code",
   "execution_count": 301,
   "metadata": {
    "collapsed": false
   },
   "outputs": [],
   "source": [
    "# first of all, let us define some parameters\n",
    "#\n",
    "# size of the images\n",
    "sx = 400\n",
    "sy = 400\n",
    "# number of sources on each image\n",
    "nsrc1 = 3\n",
    "nsrc2 = nsrc1\n",
    "# typical error radius (in pixels)\n",
    "rerr1 = 40\n",
    "rerr2 = rerr1"
   ]
  },
  {
   "cell_type": "code",
   "execution_count": 302,
   "metadata": {
    "collapsed": false
   },
   "outputs": [],
   "source": [
    "# generate coordinate pairs for each image\n",
    "def generate_positions(npts,img_shape):\n",
    "    \"\"\"\n",
    "    Generate 'npts' points uniformly across 'image_shape'.\n",
    "    \n",
    "    Args:\n",
    "        npts      : number of points to generate\n",
    "        img_shape : (y,x) shape where to generate points\n",
    "\n",
    "    Returns:\n",
    "        Pair_Coordinates_List : list of (y,x) tuples\n",
    "    \"\"\"\n",
    "    import numpy as np\n",
    "    _sy,_sx = img_shape\n",
    "    assert _sy>=5 and _sx>=5 # because I want\n",
    "    indy = np.random.random_integers(0,_sy-1,npts)\n",
    "    indx = np.random.random_integers(0,_sx-1,npts)\n",
    "    _inds = zip(indy,indx)\n",
    "    return _inds\n",
    "\n",
    "# \"sources 1\"\n",
    "coords1 = generate_positions(nsrc1,(sy,sx))\n",
    "assert isinstance(coords1,list) and len(coords1) is nsrc1"
   ]
  },
  {
   "cell_type": "code",
   "execution_count": 303,
   "metadata": {
    "collapsed": false
   },
   "outputs": [],
   "source": [
    "# create the positions table\n",
    "def create_positions_table(coords,err_radius):\n",
    "    \"\"\"\n",
    "    \"\"\"\n",
    "    tab = {}\n",
    "    for i,oo in enumerate(coords):\n",
    "        tab[i] = [i,oo[1],oo[0],err_radius]\n",
    "    \n",
    "    return tab\n",
    "\n",
    "# table for \"sources 1\"\n",
    "tab1 = create_positions_table(coords1,rerr1)"
   ]
  },
  {
   "cell_type": "code",
   "execution_count": 304,
   "metadata": {
    "collapsed": false
   },
   "outputs": [
    {
     "name": "stdout",
     "output_type": "stream",
     "text": [
      "0 (255, 132, 224) [0, 132, 224, 40]\n",
      "1 (255, 240, 93) [1, 240, 93, 40]\n",
      "2 (252, 24, 66) [2, 280, 322, 40]\n"
     ]
    }
   ],
   "source": [
    "# create and draw each source on black(null) images\n",
    "def draw_image_sources(tab_positions,img_shape):\n",
    "    \"\"\"\n",
    "    \"\"\"\n",
    "    from math import ceil\n",
    "    from PIL import Image,ImageDraw\n",
    "    assert(isinstance(img_shape,tuple) and len(img_shape) is 2)\n",
    "    size = img_shape[::-1]\n",
    "    # Modification to accomplish color codes ---\n",
    "    #mode = 'L'\n",
    "    mode = 'RGB'\n",
    "    # ---\n",
    "    color = \"black\"\n",
    "    img = Image.new(mode,size,color)\n",
    "    assert(len(tab_positions)>=1)\n",
    "    dictColorId = {}\n",
    "    for i,src in tab_positions.items():\n",
    "        assert isinstance(src,list) and src is tab_positions[i]\n",
    "        assert len(src)>=4, \"length of table raw %d is %d\" % (i,len(src))\n",
    "        assert i==src[0]\n",
    "        draw = ImageDraw.Draw(img)\n",
    "        x = src[1]\n",
    "        assert 0<=x and x<size[0], \"coordinate x is %d\" % x\n",
    "        y = src[2]\n",
    "        assert 0<=y and y<size[1], \"coordinate y is %d\" % y\n",
    "        r = src[3]\n",
    "        assert r<size[0]/2 and r<size[1]/2\n",
    "        box = (x-r,y-r,x+r,y+r)\n",
    "        # Modification to accomplish color codes ---\n",
    "        #fill=255\n",
    "        _R = int(255 - ( int(x/256) + int(y/256)*(1 + ceil(size[0]/256)) )) #TODO: restrict total size of image to avoid _R<=0\n",
    "        _G = x%256\n",
    "        _B = y%256\n",
    "        fill = (_R,_G,_B)\n",
    "        # ---\n",
    "        dictColorId[str(fill)] = i\n",
    "        print i,fill,src\n",
    "        draw.ellipse(box,fill=fill)\n",
    "        del draw,box,x,y,r\n",
    "        \n",
    "    return img,dictColorId\n",
    "\n",
    "img1,cor2id1 = draw_image_sources(tab1,(sy,sx))\n",
    "img1.show()"
   ]
  },
  {
   "cell_type": "code",
   "execution_count": 305,
   "metadata": {
    "collapsed": false
   },
   "outputs": [
    {
     "name": "stdout",
     "output_type": "stream",
     "text": [
      "0 (252, 89, 103) [0, 345, 359, 40]\n",
      "1 (254, 98, 47) [1, 354, 47, 40]\n",
      "2 (255, 168, 96) [2, 168, 96, 40]\n"
     ]
    }
   ],
   "source": [
    "# do the same steps for \"sources 2\"\n",
    "coords2 = generate_positions(nsrc2,(sy,sx))\n",
    "assert isinstance(coords2,list) and len(coords2) is nsrc2\n",
    "tab2 = create_positions_table(coords2,rerr2)\n",
    "img2,cor2id2 = draw_image_sources(tab2,(sy,sx))\n",
    "img2.show()"
   ]
  },
  {
   "cell_type": "code",
   "execution_count": 306,
   "metadata": {
    "collapsed": false
   },
   "outputs": [],
   "source": [
    "# intersect the images\n",
    "def intersect_images(img1,img2):\n",
    "    \"\"\"\n",
    "    \"\"\"\n",
    "    from PIL import Image\n",
    "    assert isinstance(img1,Image.Image) and isinstance(img2,Image.Image)\n",
    "    import numpy as np\n",
    "    im1 = np.asarray(img1,dtype=bool)\n",
    "    im2 = np.asarray(img2,dtype=bool)\n",
    "    assert im1.shape == im2.shape\n",
    "    imout = np.zeros(im1.shape,dtype=bool)\n",
    "    np.logical_and(im1,im2,imout)\n",
    "    imgout = Image.fromarray(np.uint8(imout)*255)\n",
    "    del im1,im2\n",
    "    return imgout#,imout\n",
    "    \n",
    "#imgs_pack = intersect_images(img1,img2)\n",
    "#imgx = imgs_pack[0]\n",
    "imgx = intersect_images(img1,img2)\n",
    "imgx.show()"
   ]
  },
  {
   "cell_type": "code",
   "execution_count": 307,
   "metadata": {
    "collapsed": false
   },
   "outputs": [],
   "source": [
    "# save the figs\n",
    "img1.save('sources1.png')\n",
    "img2.save('sources2.png')\n",
    "imgx.save('sourcesx.png')"
   ]
  },
  {
   "cell_type": "code",
   "execution_count": 308,
   "metadata": {
    "collapsed": false
   },
   "outputs": [],
   "source": [
    "# At this point we have the matching of the (two) catalogs. So far, we (roughly) know how many objects had matched.\n",
    "# Now we need to know which objects match each other. We need now iterate through the matched regions and query\n",
    "#  which objects are there."
   ]
  },
  {
   "cell_type": "code",
   "execution_count": 309,
   "metadata": {
    "collapsed": false
   },
   "outputs": [],
   "source": [
    "# Now we want to label each of the intersections so that we can iterate each of them...\n",
    "\n",
    "# OBS: to label an image, it needs to be a two dimensional array.\n",
    "# So we need to convert the match (RGB,3D) image to a matrix (2D).\n",
    "def rgb2bool(pil_image):\n",
    "    \"\"\"\n",
    "    \"\"\"\n",
    "    from PIL.Image import Image\n",
    "    import numpy as np\n",
    "    assert isinstance(pil_image,Image)\n",
    "    # there are two ways for doing it\n",
    "    if True:\n",
    "        # 1) converting still on PIL and then to a numpy.array\n",
    "        imgL = pil_image.convert('L')\n",
    "        imC = np.uint8(imgL)\n",
    "        imC = imC.astype(bool)\n",
    "    else:\n",
    "        # 2) transform to a numpy.array and then collapse the RGB layers\n",
    "        imB = np.asarray(pil_image,dtype=np.uint8)\n",
    "        imC = np.sum(imB,axis=2)\n",
    "        imC = imC.astype(bool)\n",
    "    \n",
    "    return imC\n",
    "\n",
    "imxbin = rgb2bool(imgx)\n",
    "assert len(imxbin.shape)==2\n",
    "\n",
    "# and then, label it\n",
    "from scipy import ndimage as ndi\n",
    "regionsx,numlabels = ndi.label(imxbin)"
   ]
  },
  {
   "cell_type": "code",
   "execution_count": 310,
   "metadata": {
    "collapsed": false
   },
   "outputs": [],
   "source": [
    "# (let us transform the color images back from PIL to Numpy)\n",
    "import numpy as np\n",
    "def get_colors(indices,image):\n",
    "    # query image-1\n",
    "    pxcor = image[indices]\n",
    "    # now we want to remove duplicates\n",
    "    pcl = [ list(raw) for raw in pxcor ]\n",
    "    pcl.sort(key = lambda l:tuple(l))\n",
    "    pxcor = np.array(pcl)\n",
    "    _diff = np.diff(pxcor,axis=0)\n",
    "    _mask = np.ones(len(pxcor),'bool')\n",
    "    _mask[1:] = (_diff!=0).any(axis=1)\n",
    "    return pxcor[_mask]\n",
    "    colors = []\n",
    "    cnt1 = 0\n",
    "    for rgb in pcl:\n",
    "        cnt1 = cnt1+1\n",
    "        print \"rgb in pcl: %d\" % cnt1\n",
    "        if len(colors) == 0:\n",
    "            print \"0: %s\" % rgb\n",
    "            colors.append(rgb)\n",
    "            continue\n",
    "        cnt2 = 0\n",
    "        for t in colors:\n",
    "            cnt2 = cnt2+1\n",
    "            print \"t in colors: %d \" % cnt2\n",
    "            #print \"t in colors: %s ; len(colors): %d\" % (str(t),len(colors))\n",
    "            if rgb[0]==t[0] and rgb[1]==t[1] and rgb[2]==t[2]:\n",
    "                print \"t==rgb: %s , %s\" % (t,rgb)\n",
    "            else:\n",
    "                print \"t!=rgb: %s, %s\" % (t,rgb)\n",
    "                colors.append(tuple(rgb))\n",
    "    \n",
    "    return colors[:]\n",
    "    \n",
    "im1 = np.asarray(img1)\n",
    "im2 = np.asarray(img2)"
   ]
  },
  {
   "cell_type": "code",
   "execution_count": 311,
   "metadata": {
    "collapsed": false
   },
   "outputs": [
    {
     "name": "stdout",
     "output_type": "stream",
     "text": [
      "Image-1:        \t\t Image-2:       \n",
      "---label: 1\n",
      "(255, 240, 93)  [1] \t (255, 168, 96)  [2]\n",
      "---label: 2\n",
      "(252, 24, 66)   [2] \t (252, 89, 103)  [0]\n"
     ]
    }
   ],
   "source": [
    "# iterate over the regions querying each image for the respective objects\n",
    "tojoinTab1 = {}\n",
    "tojoinTab2 = {}\n",
    "for i in xrange(1,numlabels+1):\n",
    "    # get the index for label-i\n",
    "    indx = np.where(regionsx==i)\n",
    "    colors1 = get_colors(indx,im1)\n",
    "    tojoinTab1[i] = colors1\n",
    "    colors2 = get_colors(indx,im2)\n",
    "    tojoinTab2[i] = colors2\n",
    "\n",
    "def print_join_tables(dictTab1,cor2id1,dictTab2,cor2id2):\n",
    "    \"\"\"\n",
    "    \"\"\"\n",
    "    print \"%-15s \\t\\t %-15s\" % (\"Image-1:\",\"Image-2:\")\n",
    "    for i in xrange(1,numlabels+1):\n",
    "        print \"---label: %d\" % i\n",
    "        l1 = dictTab1[i].tolist()\n",
    "        l2 = dictTab2[i].tolist()\n",
    "        _n = max(len(l1),len(l2))\n",
    "        for ni in xrange(_n):\n",
    "            if len(l1):\n",
    "                rgb1 = tuple(l1.pop())\n",
    "                id1 = cor2id1[str(rgb1)]\n",
    "            else:\n",
    "                rgb1 = ''\n",
    "                id1 = ''\n",
    "            if len(l2):\n",
    "                rgb2 = tuple(l2.pop())\n",
    "                id2 = cor2id2[str(rgb2)]\n",
    "            else:\n",
    "                rgb2 = ''\n",
    "                id2 = ''\n",
    "            print \"%-15s [%s] \\t %-15s [%s]\" % (rgb1,id1,rgb2,id2)\n",
    "\n",
    "print_join_tables(tojoinTab1,cor2id1,tojoinTab2,cor2id2)"
   ]
  },
  {
   "cell_type": "code",
   "execution_count": 312,
   "metadata": {
    "collapsed": false
   },
   "outputs": [
    {
     "name": "stdout",
     "output_type": "stream",
     "text": [
      "match_ID \t tab1_ID tab1_coords \t tab2_ID tab2_coords\n",
      "1 \t\t 1 (240, 93) \t\t 2 (168, 96)\n",
      "2 \t\t 2 (280, 322) \t\t 0 (345, 359)\n"
     ]
    }
   ],
   "source": [
    "# let us join the tables\n",
    "def get_coordinates(ID,tab):\n",
    "    \"\"\"\n",
    "    \"\"\"\n",
    "    src = tab[ID]\n",
    "    assert ID==src[0]\n",
    "    x = src[1]\n",
    "    y = src[2]\n",
    "    return (x,y)\n",
    "\n",
    "match_table = []\n",
    "for i in xrange(1,numlabels+1):\n",
    "    l1 = tojoinTab1[i].tolist()\n",
    "    l2 = tojoinTab2[i].tolist()\n",
    "    _n = max(len(l1),len(l2))\n",
    "    for ni in xrange(_n):\n",
    "        if len(l1):\n",
    "            rgb1 = tuple(l1.pop())\n",
    "            id1 = cor2id1[str(rgb1)]\n",
    "        if len(l2):\n",
    "            rgb2 = tuple(l2.pop())\n",
    "            id2 = cor2id2[str(rgb2)]\n",
    "        coords1 = get_coordinates(id1,tab1)\n",
    "        coords2 = get_coordinates(id2,tab2)\n",
    "        match_raw = (i,id1,coords1,id2,coords2)\n",
    "        match_table.append(match_raw)\n",
    "        \n",
    "print \"match_ID \\t tab1_ID tab1_coords \\t tab2_ID tab2_coords\"\n",
    "for mraw in match_table:\n",
    "    print \"%d \\t\\t %d %s \\t\\t %d %s\" % (mraw[0],mraw[1],mraw[2],mraw[3],mraw[4])\n",
    "    _x1,_y1 = mraw[2]\n",
    "    _x2,_y2 = mraw[4]\n",
    "    regionsx[_y1,_x1] = mraw[0]\n",
    "    regionsx[_y2,_x2] = mraw[0]"
   ]
  }
 ],
 "metadata": {
  "kernelspec": {
   "display_name": "Python 2",
   "language": "python",
   "name": "python2"
  },
  "language_info": {
   "codemirror_mode": {
    "name": "ipython",
    "version": 2
   },
   "file_extension": ".py",
   "mimetype": "text/x-python",
   "name": "python",
   "nbconvert_exporter": "python",
   "pygments_lexer": "ipython2",
   "version": "2.7.11"
  }
 },
 "nbformat": 4,
 "nbformat_minor": 0
}
