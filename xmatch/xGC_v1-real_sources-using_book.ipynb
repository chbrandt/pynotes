{
 "cells": [
  {
   "cell_type": "markdown",
   "metadata": {},
   "source": [
    "# Run the x-match using the GC method\n",
    "\n",
    "The \"great-circle\" x-matching method was implemented on `booq`, now we have tested and fixed the errors we should run on a small sample of real data (cs82 and vla)"
   ]
  },
  {
   "cell_type": "code",
   "execution_count": 1,
   "metadata": {
    "collapsed": true
   },
   "outputs": [],
   "source": [
    "import booq"
   ]
  },
  {
   "cell_type": "code",
   "execution_count": 2,
   "metadata": {
    "collapsed": true
   },
   "outputs": [],
   "source": [
    "%matplotlib inline\n",
    "\n",
    "from matplotlib import pyplot as plt\n",
    "from matplotlib import cm\n",
    "\n",
    "import numpy\n",
    "\n",
    "plt.rcParams['figure.figsize'] = (10.0, 5.0) "
   ]
  },
  {
   "cell_type": "code",
   "execution_count": 3,
   "metadata": {
    "collapsed": false
   },
   "outputs": [],
   "source": [
    "from booq.io import fits\n",
    "\n",
    "cs82 = fits.open('data/cs82_luckSquare.fits')\n",
    "svla = fits.open('data/vla_luckSquare.fits')\n",
    "\n",
    "colsA = {'ra':'ALPHA_J2000','dec':'DELTA_J2000','id':'SE_ID'}\n",
    "catA = cs82.read( columns=colsA.values())\n",
    "\n",
    "colsB = {'ra':'RA','dec':'DEC','id':'Str82'}\n",
    "catB = svla.read(columns=colsB.values())\n",
    "\n",
    "from booq.table import ATable\n",
    "A = ATable(catA.data).to_pandas()\n",
    "B = ATable(catB.data).to_pandas()"
   ]
  },
  {
   "cell_type": "code",
   "execution_count": 4,
   "metadata": {
    "collapsed": false
   },
   "outputs": [
    {
     "name": "stdout",
     "output_type": "stream",
     "text": [
      "<class 'pandas.core.frame.DataFrame'>\n",
      "RangeIndex: 528137 entries, 0 to 528136\n",
      "Data columns (total 3 columns):\n",
      "SE_ID          528137 non-null int32\n",
      "ALPHA_J2000    528137 non-null float64\n",
      "DELTA_J2000    528137 non-null float64\n",
      "dtypes: float64(2), int32(1)\n",
      "memory usage: 10.1 MB\n"
     ]
    }
   ],
   "source": [
    "A.info()"
   ]
  },
  {
   "cell_type": "code",
   "execution_count": 5,
   "metadata": {
    "collapsed": false
   },
   "outputs": [
    {
     "name": "stdout",
     "output_type": "stream",
     "text": [
      "<class 'pandas.core.frame.DataFrame'>\n",
      "RangeIndex: 879 entries, 0 to 878\n",
      "Data columns (total 3 columns):\n",
      "RA       879 non-null float64\n",
      "DEC      879 non-null float64\n",
      "Str82    879 non-null object\n",
      "dtypes: float64(2), object(1)\n",
      "memory usage: 20.7+ KB\n"
     ]
    }
   ],
   "source": [
    "B.info()"
   ]
  },
  {
   "cell_type": "code",
   "execution_count": 6,
   "metadata": {
    "collapsed": false
   },
   "outputs": [],
   "source": [
    "from booq.coordinates.skycoords import skycoords\n",
    "A_coord = skycoords(A.ALPHA_J2000.values, A.DELTA_J2000.values)\n",
    "B_coord = skycoords(B.RA.values, B.DEC.values)"
   ]
  },
  {
   "cell_type": "code",
   "execution_count": 7,
   "metadata": {
    "collapsed": false
   },
   "outputs": [
    {
     "name": "stdout",
     "output_type": "stream",
     "text": [
      "length : 529016\n",
      "min : 0.0150427097942\n",
      "max : 1049.70394273\n",
      "mean : 197.894605307\n",
      "std : 149.923869294\n",
      "quantiles : (99.642187302709303, 161.29729778795013, 243.39168509551419)\n"
     ]
    },
    {
     "data": {
      "image/png": "[encoded data removed]",
      "text/plain": [
       "<matplotlib.figure.Figure at 0x7f8daa4dd050>"
      ]
     },
     "metadata": {},
     "output_type": "display_data"
    }
   ],
   "source": [
    "from booq.catalogs import xmatch\n",
    "_Aidx,_Asep = xmatch.nn(A_coord,B_coord)\n",
    "_Bidx,_Bsep = xmatch.nn(B_coord,A_coord)\n",
    "\n",
    "import numpy\n",
    "_sep = numpy.append(_Asep.arcsec,_Bsep.arcsec)\n",
    "\n",
    "from booq.utils import stats\n",
    "_sts = stats.basic(_sep)\n",
    "\n",
    "from booq import utils\n",
    "utils.pprint(_sts)\n",
    "\n",
    "import seaborn\n",
    "p = seaborn.distplot(_sep)\n",
    "plt.show(p)\n",
    "\n",
    "del _Aidx,_Asep,_Bidx,_Bsep,_sts,_sep"
   ]
  },
  {
   "cell_type": "code",
   "execution_count": 8,
   "metadata": {
    "collapsed": true
   },
   "outputs": [],
   "source": [
    "from astropy.units import Quantity\n",
    "radius = Quantity(2,'arcsec')"
   ]
  },
  {
   "cell_type": "code",
   "execution_count": 9,
   "metadata": {
    "collapsed": true
   },
   "outputs": [],
   "source": [
    "from booq.catalogs import xmatch\n",
    "match_A_gc_idx, match_B_gc_idx, match_gc_sep = xmatch.gc(A_coord, B_coord, radius)"
   ]
  },
  {
   "cell_type": "code",
   "execution_count": 10,
   "metadata": {
    "collapsed": false
   },
   "outputs": [
    {
     "name": "stdout",
     "output_type": "stream",
     "text": [
      "length : 401\n",
      "min : 0.000250711829904\n",
      "max : 0.0333253957801\n",
      "mean : 0.00935545145988\n",
      "std : 0.00920822610898\n",
      "quantiles : (0.0029152712569407808, 0.005501477874166787, 0.012965165870444608)\n"
     ]
    }
   ],
   "source": [
    "from booq import utils\n",
    "utils.pprint(utils.stats.basic(match_gc_sep.arcmin))"
   ]
  },
  {
   "cell_type": "code",
   "execution_count": 11,
   "metadata": {
    "collapsed": false
   },
   "outputs": [
    {
     "data": {
      "text/html": [
       "<div>\n",
       "<table border=\"1\" class=\"dataframe\">\n",
       "  <thead>\n",
       "    <tr style=\"text-align: right;\">\n",
       "      <th></th>\n",
       "      <th>A_idx</th>\n",
       "      <th>B_duplicates</th>\n",
       "      <th>B_idx</th>\n",
       "      <th>separation</th>\n",
       "    </tr>\n",
       "  </thead>\n",
       "  <tbody>\n",
       "    <tr>\n",
       "      <th>count</th>\n",
       "      <td>395.000000</td>\n",
       "      <td>6</td>\n",
       "      <td>395.000000</td>\n",
       "      <td>395.000000</td>\n",
       "    </tr>\n",
       "    <tr>\n",
       "      <th>unique</th>\n",
       "      <td>NaN</td>\n",
       "      <td>6</td>\n",
       "      <td>NaN</td>\n",
       "      <td>NaN</td>\n",
       "    </tr>\n",
       "    <tr>\n",
       "      <th>top</th>\n",
       "      <td>NaN</td>\n",
       "      <td>401</td>\n",
       "      <td>NaN</td>\n",
       "      <td>NaN</td>\n",
       "    </tr>\n",
       "    <tr>\n",
       "      <th>freq</th>\n",
       "      <td>NaN</td>\n",
       "      <td>1</td>\n",
       "      <td>NaN</td>\n",
       "      <td>NaN</td>\n",
       "    </tr>\n",
       "    <tr>\n",
       "      <th>mean</th>\n",
       "      <td>301284.564557</td>\n",
       "      <td>NaN</td>\n",
       "      <td>422.653165</td>\n",
       "      <td>0.009053</td>\n",
       "    </tr>\n",
       "    <tr>\n",
       "      <th>std</th>\n",
       "      <td>151902.361069</td>\n",
       "      <td>NaN</td>\n",
       "      <td>237.207332</td>\n",
       "      <td>0.008949</td>\n",
       "    </tr>\n",
       "    <tr>\n",
       "      <th>min</th>\n",
       "      <td>2085.000000</td>\n",
       "      <td>NaN</td>\n",
       "      <td>50.000000</td>\n",
       "      <td>0.000251</td>\n",
       "    </tr>\n",
       "    <tr>\n",
       "      <th>25%</th>\n",
       "      <td>160266.000000</td>\n",
       "      <td>NaN</td>\n",
       "      <td>218.000000</td>\n",
       "      <td>0.002868</td>\n",
       "    </tr>\n",
       "    <tr>\n",
       "      <th>50%</th>\n",
       "      <td>334993.000000</td>\n",
       "      <td>NaN</td>\n",
       "      <td>409.000000</td>\n",
       "      <td>0.005408</td>\n",
       "    </tr>\n",
       "    <tr>\n",
       "      <th>75%</th>\n",
       "      <td>425480.000000</td>\n",
       "      <td>NaN</td>\n",
       "      <td>600.500000</td>\n",
       "      <td>0.011394</td>\n",
       "    </tr>\n",
       "    <tr>\n",
       "      <th>max</th>\n",
       "      <td>523644.000000</td>\n",
       "      <td>NaN</td>\n",
       "      <td>878.000000</td>\n",
       "      <td>0.033311</td>\n",
       "    </tr>\n",
       "  </tbody>\n",
       "</table>\n",
       "</div>"
      ],
      "text/plain": [
       "                A_idx B_duplicates       B_idx  separation\n",
       "count      395.000000            6  395.000000  395.000000\n",
       "unique            NaN            6         NaN         NaN\n",
       "top               NaN          401         NaN         NaN\n",
       "freq              NaN            1         NaN         NaN\n",
       "mean    301284.564557          NaN  422.653165    0.009053\n",
       "std     151902.361069          NaN  237.207332    0.008949\n",
       "min       2085.000000          NaN   50.000000    0.000251\n",
       "25%     160266.000000          NaN  218.000000    0.002868\n",
       "50%     334993.000000          NaN  409.000000    0.005408\n",
       "75%     425480.000000          NaN  600.500000    0.011394\n",
       "max     523644.000000          NaN  878.000000    0.033311"
      ]
     },
     "execution_count": 11,
     "metadata": {},
     "output_type": "execute_result"
    }
   ],
   "source": [
    "from booq.pipelines import xmatch_nn\n",
    "reload(xmatch_nn)\n",
    "df_matched_idx = xmatch_nn.select_pairs(match_A_gc_idx, match_B_gc_idx, match_gc_sep.arcmin)\n",
    "df_matched_idx.describe(include='all')"
   ]
  },
  {
   "cell_type": "code",
   "execution_count": 12,
   "metadata": {
    "collapsed": false
   },
   "outputs": [
    {
     "name": "stderr",
     "output_type": "stream",
     "text": [
      "/home/chbrandt/.conda/envs/booq-dev/lib/python2.7/site-packages/pandas/core/indexing.py:288: SettingWithCopyWarning: \n",
      "A value is trying to be set on a copy of a slice from a DataFrame.\n",
      "Try using .loc[row_indexer,col_indexer] = value instead\n",
      "\n",
      "See the caveats in the documentation: http://pandas.pydata.org/pandas-docs/stable/indexing.html#indexing-view-versus-copy\n",
      "  self.obj[key] = _infer_fill_value(value)\n",
      "/home/chbrandt/.conda/envs/booq-dev/lib/python2.7/site-packages/pandas/core/indexing.py:465: SettingWithCopyWarning: \n",
      "A value is trying to be set on a copy of a slice from a DataFrame.\n",
      "Try using .loc[row_indexer,col_indexer] = value instead\n",
      "\n",
      "See the caveats in the documentation: http://pandas.pydata.org/pandas-docs/stable/indexing.html#indexing-view-versus-copy\n",
      "  self.obj[item] = s\n"
     ]
    }
   ],
   "source": [
    "from booq.pipelines import xmatch_nn\n",
    "reload(xmatch_nn)\n",
    "df = matched_catalog = xmatch_nn.merge_catalogs(A, B, df_matched_idx, 'Str82')"
   ]
  },
  {
   "cell_type": "code",
   "execution_count": 13,
   "metadata": {
    "collapsed": false
   },
   "outputs": [
    {
     "name": "stderr",
     "output_type": "stream",
     "text": [
      "/home/chbrandt/.conda/envs/booq-dev/lib/python2.7/site-packages/numpy/lib/function_base.py:3823: RuntimeWarning: Invalid value encountered in percentile\n",
      "  RuntimeWarning)\n"
     ]
    },
    {
     "data": {
      "text/html": [
       "<div>\n",
       "<table border=\"1\" class=\"dataframe\">\n",
       "  <thead>\n",
       "    <tr>\n",
       "      <th></th>\n",
       "      <th colspan=\"3\" halign=\"left\">A</th>\n",
       "      <th colspan=\"3\" halign=\"left\">B</th>\n",
       "      <th colspan=\"2\" halign=\"left\">AB</th>\n",
       "    </tr>\n",
       "    <tr>\n",
       "      <th></th>\n",
       "      <th>SE_ID</th>\n",
       "      <th>ALPHA_J2000</th>\n",
       "      <th>DELTA_J2000</th>\n",
       "      <th>RA</th>\n",
       "      <th>DEC</th>\n",
       "      <th>Str82</th>\n",
       "      <th>dist</th>\n",
       "      <th>B_duplicates</th>\n",
       "    </tr>\n",
       "  </thead>\n",
       "  <tbody>\n",
       "    <tr>\n",
       "      <th>count</th>\n",
       "      <td>528137.000000</td>\n",
       "      <td>528137.000000</td>\n",
       "      <td>528137.000000</td>\n",
       "      <td>395.000000</td>\n",
       "      <td>395.000000</td>\n",
       "      <td>395</td>\n",
       "      <td>395.000000</td>\n",
       "      <td>6</td>\n",
       "    </tr>\n",
       "    <tr>\n",
       "      <th>unique</th>\n",
       "      <td>NaN</td>\n",
       "      <td>NaN</td>\n",
       "      <td>NaN</td>\n",
       "      <td>NaN</td>\n",
       "      <td>NaN</td>\n",
       "      <td>360</td>\n",
       "      <td>NaN</td>\n",
       "      <td>6</td>\n",
       "    </tr>\n",
       "    <tr>\n",
       "      <th>top</th>\n",
       "      <td>NaN</td>\n",
       "      <td>NaN</td>\n",
       "      <td>NaN</td>\n",
       "      <td>NaN</td>\n",
       "      <td>NaN</td>\n",
       "      <td>J005444.9-002752</td>\n",
       "      <td>NaN</td>\n",
       "      <td>J005200.1-004831</td>\n",
       "    </tr>\n",
       "    <tr>\n",
       "      <th>freq</th>\n",
       "      <td>NaN</td>\n",
       "      <td>NaN</td>\n",
       "      <td>NaN</td>\n",
       "      <td>NaN</td>\n",
       "      <td>NaN</td>\n",
       "      <td>3</td>\n",
       "      <td>NaN</td>\n",
       "      <td>1</td>\n",
       "    </tr>\n",
       "    <tr>\n",
       "      <th>mean</th>\n",
       "      <td>67316.181656</td>\n",
       "      <td>13.021675</td>\n",
       "      <td>0.040702</td>\n",
       "      <td>13.128274</td>\n",
       "      <td>0.138412</td>\n",
       "      <td>NaN</td>\n",
       "      <td>0.009053</td>\n",
       "      <td>NaN</td>\n",
       "    </tr>\n",
       "    <tr>\n",
       "      <th>std</th>\n",
       "      <td>36346.045266</td>\n",
       "      <td>0.836532</td>\n",
       "      <td>0.563889</td>\n",
       "      <td>0.699448</td>\n",
       "      <td>0.526262</td>\n",
       "      <td>NaN</td>\n",
       "      <td>0.008949</td>\n",
       "      <td>NaN</td>\n",
       "    </tr>\n",
       "    <tr>\n",
       "      <th>min</th>\n",
       "      <td>1372.000000</td>\n",
       "      <td>11.594873</td>\n",
       "      <td>-0.999989</td>\n",
       "      <td>11.787167</td>\n",
       "      <td>-0.998853</td>\n",
       "      <td>NaN</td>\n",
       "      <td>0.000251</td>\n",
       "      <td>NaN</td>\n",
       "    </tr>\n",
       "    <tr>\n",
       "      <th>25%</th>\n",
       "      <td>36981.000000</td>\n",
       "      <td>12.232602</td>\n",
       "      <td>-0.464393</td>\n",
       "      <td>NaN</td>\n",
       "      <td>NaN</td>\n",
       "      <td>NaN</td>\n",
       "      <td>NaN</td>\n",
       "      <td>NaN</td>\n",
       "    </tr>\n",
       "    <tr>\n",
       "      <th>50%</th>\n",
       "      <td>66892.000000</td>\n",
       "      <td>13.098465</td>\n",
       "      <td>0.111200</td>\n",
       "      <td>NaN</td>\n",
       "      <td>NaN</td>\n",
       "      <td>NaN</td>\n",
       "      <td>NaN</td>\n",
       "      <td>NaN</td>\n",
       "    </tr>\n",
       "    <tr>\n",
       "      <th>75%</th>\n",
       "      <td>96582.000000</td>\n",
       "      <td>13.742887</td>\n",
       "      <td>0.528693</td>\n",
       "      <td>NaN</td>\n",
       "      <td>NaN</td>\n",
       "      <td>NaN</td>\n",
       "      <td>NaN</td>\n",
       "      <td>NaN</td>\n",
       "    </tr>\n",
       "    <tr>\n",
       "      <th>max</th>\n",
       "      <td>150430.000000</td>\n",
       "      <td>14.405139</td>\n",
       "      <td>0.940626</td>\n",
       "      <td>14.232887</td>\n",
       "      <td>0.909142</td>\n",
       "      <td>NaN</td>\n",
       "      <td>0.033311</td>\n",
       "      <td>NaN</td>\n",
       "    </tr>\n",
       "  </tbody>\n",
       "</table>\n",
       "</div>"
      ],
      "text/plain": [
       "                    A                                         B              \\\n",
       "                SE_ID    ALPHA_J2000    DELTA_J2000          RA         DEC   \n",
       "count   528137.000000  528137.000000  528137.000000  395.000000  395.000000   \n",
       "unique            NaN            NaN            NaN         NaN         NaN   \n",
       "top               NaN            NaN            NaN         NaN         NaN   \n",
       "freq              NaN            NaN            NaN         NaN         NaN   \n",
       "mean     67316.181656      13.021675       0.040702   13.128274    0.138412   \n",
       "std      36346.045266       0.836532       0.563889    0.699448    0.526262   \n",
       "min       1372.000000      11.594873      -0.999989   11.787167   -0.998853   \n",
       "25%      36981.000000      12.232602      -0.464393         NaN         NaN   \n",
       "50%      66892.000000      13.098465       0.111200         NaN         NaN   \n",
       "75%      96582.000000      13.742887       0.528693         NaN         NaN   \n",
       "max     150430.000000      14.405139       0.940626   14.232887    0.909142   \n",
       "\n",
       "                                  AB                    \n",
       "                   Str82        dist      B_duplicates  \n",
       "count                395  395.000000                 6  \n",
       "unique               360         NaN                 6  \n",
       "top     J005444.9-002752         NaN  J005200.1-004831  \n",
       "freq                   3         NaN                 1  \n",
       "mean                 NaN    0.009053               NaN  \n",
       "std                  NaN    0.008949               NaN  \n",
       "min                  NaN    0.000251               NaN  \n",
       "25%                  NaN         NaN               NaN  \n",
       "50%                  NaN         NaN               NaN  \n",
       "75%                  NaN         NaN               NaN  \n",
       "max                  NaN    0.033311               NaN  "
      ]
     },
     "execution_count": 13,
     "metadata": {},
     "output_type": "execute_result"
    }
   ],
   "source": [
    "df.describe(include='all')"
   ]
  },
  {
   "cell_type": "markdown",
   "metadata": {
    "collapsed": true
   },
   "source": [
    "## Now, the pipeline"
   ]
  },
  {
   "cell_type": "code",
   "execution_count": 14,
   "metadata": {
    "collapsed": true
   },
   "outputs": [],
   "source": [
    "import booq\n",
    "logging = booq.log.init(verbose=True,debug=True)\n",
    "\n",
    "from booq.io import fits\n",
    "\n",
    "cs82 = fits.open('data/cs82_luckSquare.fits')\n",
    "svla = fits.open('data/vla_luckSquare.fits')\n",
    "\n",
    "colsA = {'ra':'ALPHA_J2000','dec':'DELTA_J2000','id':'SE_ID'}\n",
    "catA = cs82.read( columns=colsA.values())\n",
    "\n",
    "colsB = {'ra':'RA','dec':'DEC','id':'Str82'}\n",
    "catB = svla.read(columns=colsB.values())\n",
    "\n",
    "from booq.table import ATable\n",
    "A = ATable(catA.data).to_pandas()\n",
    "B = ATable(catB.data).to_pandas()"
   ]
  },
  {
   "cell_type": "code",
   "execution_count": 15,
   "metadata": {
    "collapsed": true
   },
   "outputs": [],
   "source": [
    "from booq.pipelines import xmatch_nn\n",
    "matched_catalog = xmatch_nn.xmatch(A,B,columns_A=colsA, columns_B=colsB, radius=2, method='gc')"
   ]
  },
  {
   "cell_type": "code",
   "execution_count": 16,
   "metadata": {
    "collapsed": false
   },
   "outputs": [
    {
     "data": {
      "text/html": [
       "<div>\n",
       "<table border=\"1\" class=\"dataframe\">\n",
       "  <thead>\n",
       "    <tr>\n",
       "      <th></th>\n",
       "      <th colspan=\"3\" halign=\"left\">A</th>\n",
       "      <th colspan=\"3\" halign=\"left\">B</th>\n",
       "      <th colspan=\"2\" halign=\"left\">AB</th>\n",
       "    </tr>\n",
       "    <tr>\n",
       "      <th></th>\n",
       "      <th>SE_ID</th>\n",
       "      <th>ALPHA_J2000</th>\n",
       "      <th>DELTA_J2000</th>\n",
       "      <th>RA</th>\n",
       "      <th>DEC</th>\n",
       "      <th>Str82</th>\n",
       "      <th>dist</th>\n",
       "      <th>B_duplicates</th>\n",
       "    </tr>\n",
       "  </thead>\n",
       "  <tbody>\n",
       "    <tr>\n",
       "      <th>count</th>\n",
       "      <td>528137.000000</td>\n",
       "      <td>528137.000000</td>\n",
       "      <td>528137.000000</td>\n",
       "      <td>395.000000</td>\n",
       "      <td>395.000000</td>\n",
       "      <td>395</td>\n",
       "      <td>395.000000</td>\n",
       "      <td>6</td>\n",
       "    </tr>\n",
       "    <tr>\n",
       "      <th>unique</th>\n",
       "      <td>NaN</td>\n",
       "      <td>NaN</td>\n",
       "      <td>NaN</td>\n",
       "      <td>NaN</td>\n",
       "      <td>NaN</td>\n",
       "      <td>360</td>\n",
       "      <td>NaN</td>\n",
       "      <td>6</td>\n",
       "    </tr>\n",
       "    <tr>\n",
       "      <th>top</th>\n",
       "      <td>NaN</td>\n",
       "      <td>NaN</td>\n",
       "      <td>NaN</td>\n",
       "      <td>NaN</td>\n",
       "      <td>NaN</td>\n",
       "      <td>J005444.9-002752</td>\n",
       "      <td>NaN</td>\n",
       "      <td>J005200.1-004831</td>\n",
       "    </tr>\n",
       "    <tr>\n",
       "      <th>freq</th>\n",
       "      <td>NaN</td>\n",
       "      <td>NaN</td>\n",
       "      <td>NaN</td>\n",
       "      <td>NaN</td>\n",
       "      <td>NaN</td>\n",
       "      <td>3</td>\n",
       "      <td>NaN</td>\n",
       "      <td>1</td>\n",
       "    </tr>\n",
       "    <tr>\n",
       "      <th>mean</th>\n",
       "      <td>67316.181656</td>\n",
       "      <td>13.021675</td>\n",
       "      <td>0.040702</td>\n",
       "      <td>13.128274</td>\n",
       "      <td>0.138412</td>\n",
       "      <td>NaN</td>\n",
       "      <td>0.543193</td>\n",
       "      <td>NaN</td>\n",
       "    </tr>\n",
       "    <tr>\n",
       "      <th>std</th>\n",
       "      <td>36346.045266</td>\n",
       "      <td>0.836532</td>\n",
       "      <td>0.563889</td>\n",
       "      <td>0.699448</td>\n",
       "      <td>0.526262</td>\n",
       "      <td>NaN</td>\n",
       "      <td>0.536912</td>\n",
       "      <td>NaN</td>\n",
       "    </tr>\n",
       "    <tr>\n",
       "      <th>min</th>\n",
       "      <td>1372.000000</td>\n",
       "      <td>11.594873</td>\n",
       "      <td>-0.999989</td>\n",
       "      <td>11.787167</td>\n",
       "      <td>-0.998853</td>\n",
       "      <td>NaN</td>\n",
       "      <td>0.015043</td>\n",
       "      <td>NaN</td>\n",
       "    </tr>\n",
       "    <tr>\n",
       "      <th>25%</th>\n",
       "      <td>36981.000000</td>\n",
       "      <td>12.232602</td>\n",
       "      <td>-0.464393</td>\n",
       "      <td>NaN</td>\n",
       "      <td>NaN</td>\n",
       "      <td>NaN</td>\n",
       "      <td>NaN</td>\n",
       "      <td>NaN</td>\n",
       "    </tr>\n",
       "    <tr>\n",
       "      <th>50%</th>\n",
       "      <td>66892.000000</td>\n",
       "      <td>13.098465</td>\n",
       "      <td>0.111200</td>\n",
       "      <td>NaN</td>\n",
       "      <td>NaN</td>\n",
       "      <td>NaN</td>\n",
       "      <td>NaN</td>\n",
       "      <td>NaN</td>\n",
       "    </tr>\n",
       "    <tr>\n",
       "      <th>75%</th>\n",
       "      <td>96582.000000</td>\n",
       "      <td>13.742887</td>\n",
       "      <td>0.528693</td>\n",
       "      <td>NaN</td>\n",
       "      <td>NaN</td>\n",
       "      <td>NaN</td>\n",
       "      <td>NaN</td>\n",
       "      <td>NaN</td>\n",
       "    </tr>\n",
       "    <tr>\n",
       "      <th>max</th>\n",
       "      <td>150430.000000</td>\n",
       "      <td>14.405139</td>\n",
       "      <td>0.940626</td>\n",
       "      <td>14.232887</td>\n",
       "      <td>0.909142</td>\n",
       "      <td>NaN</td>\n",
       "      <td>1.998689</td>\n",
       "      <td>NaN</td>\n",
       "    </tr>\n",
       "  </tbody>\n",
       "</table>\n",
       "</div>"
      ],
      "text/plain": [
       "                    A                                         B              \\\n",
       "                SE_ID    ALPHA_J2000    DELTA_J2000          RA         DEC   \n",
       "count   528137.000000  528137.000000  528137.000000  395.000000  395.000000   \n",
       "unique            NaN            NaN            NaN         NaN         NaN   \n",
       "top               NaN            NaN            NaN         NaN         NaN   \n",
       "freq              NaN            NaN            NaN         NaN         NaN   \n",
       "mean     67316.181656      13.021675       0.040702   13.128274    0.138412   \n",
       "std      36346.045266       0.836532       0.563889    0.699448    0.526262   \n",
       "min       1372.000000      11.594873      -0.999989   11.787167   -0.998853   \n",
       "25%      36981.000000      12.232602      -0.464393         NaN         NaN   \n",
       "50%      66892.000000      13.098465       0.111200         NaN         NaN   \n",
       "75%      96582.000000      13.742887       0.528693         NaN         NaN   \n",
       "max     150430.000000      14.405139       0.940626   14.232887    0.909142   \n",
       "\n",
       "                                  AB                    \n",
       "                   Str82        dist      B_duplicates  \n",
       "count                395  395.000000                 6  \n",
       "unique               360         NaN                 6  \n",
       "top     J005444.9-002752         NaN  J005200.1-004831  \n",
       "freq                   3         NaN                 1  \n",
       "mean                 NaN    0.543193               NaN  \n",
       "std                  NaN    0.536912               NaN  \n",
       "min                  NaN    0.015043               NaN  \n",
       "25%                  NaN         NaN               NaN  \n",
       "50%                  NaN         NaN               NaN  \n",
       "75%                  NaN         NaN               NaN  \n",
       "max                  NaN    1.998689               NaN  "
      ]
     },
     "execution_count": 16,
     "metadata": {},
     "output_type": "execute_result"
    }
   ],
   "source": [
    "matched_catalog.describe(include='all')"
   ]
  },
  {
   "cell_type": "code",
   "execution_count": null,
   "metadata": {
    "collapsed": true
   },
   "outputs": [],
   "source": []
  }
 ],
 "metadata": {
  "kernelspec": {
   "display_name": "Python 2",
   "language": "python",
   "name": "python2"
  },
  "language_info": {
   "codemirror_mode": {
    "name": "ipython",
    "version": 2
   },
   "file_extension": ".py",
   "mimetype": "text/x-python",
   "name": "python",
   "nbconvert_exporter": "python",
   "pygments_lexer": "ipython2",
   "version": "2.7.12"
  }
 },
 "nbformat": 4,
 "nbformat_minor": 0
}
