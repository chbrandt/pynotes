{
 "cells": [
  {
   "cell_type": "markdown",
   "metadata": {},
   "source": [
    "# Run the x-match (from 'booq') over real data\n",
    "\n",
    "Now, as a very final step -- for the time being --, we cross-match some real data.\n",
    "\n",
    "Two catalogs in optical are to be used, from `CS82` and `SDSS`, both covering a small region at the very central region of the celestial equator: ~1 sq-degree of sky containing 200K+ sources each."
   ]
  },
  {
   "cell_type": "code",
   "execution_count": 1,
   "metadata": {
    "collapsed": true
   },
   "outputs": [],
   "source": [
    "import booq"
   ]
  },
  {
   "cell_type": "code",
   "execution_count": 2,
   "metadata": {
    "collapsed": false
   },
   "outputs": [],
   "source": [
    "from booq.io import fits\n",
    "reload(fits)\n",
    "\n",
    "cs82 = fits.read('data/cs82.fits')\n",
    "sdss = fits.read('data/sdss.fits')"
   ]
  },
  {
   "cell_type": "code",
   "execution_count": 3,
   "metadata": {
    "collapsed": false
   },
   "outputs": [
    {
     "name": "stdout",
     "output_type": "stream",
     "text": [
      "\n",
      "  file: data/cs82.fits\n",
      "  extension: 1\n",
      "  type: BINARY_TBL\n",
      "  extname: /home/chbrandt/Desktop/Catalogs/x-match/cs82_x_sdss/cs82/cs82.fits#1\n",
      "  rows: 289916\n",
      "  column info:\n",
      "    OBJID               i8  \n",
      "    RA                  f8  \n",
      "    DEC                 f8  \n",
      "    INDX_LAS            i4  \n",
      "    INDX_SDSS           i4  \n",
      "    INDX_SPALL_V5_5_0\n",
      "                        i4  \n",
      "    INDX_SPECOBJ_DR10\n",
      "                        i4  \n",
      "    Z_SPECOBJ_DR10      f4  \n",
      "    UKIDSS_SOURCEID     i8  \n",
      "    SDSS_FLAGS          i8  \n",
      "    MASKFLAG            i4  \n",
      "    YPPERRBITS          i4  \n",
      "    J_1PPERRBITS        i4  \n",
      "    HPPERRBITS          i4  \n",
      "    KPPERRBITS          i4  \n",
      "    DSG_PSF_R           f4  \n",
      "    DSG_PSF_I           f4  \n",
      "    DSG_PSF_Z           f4  \n",
      "    JK                  f4  \n",
      "    MODELMAG_U          f4  \n",
      "    MODELMAG_G          f4  \n",
      "    MODELMAG_R          f4  \n",
      "    MODELMAG_I          f4  \n",
      "    MODELMAG_Z          f4  \n",
      "    FIBERMAG_I          f4  \n",
      "    FIBER2MAG_I         f4  \n",
      "    CMODELMAG_R         f4  \n",
      "    CMODELMAG_I         f4  \n",
      "    CMODELMAG_Z         f4  \n",
      "    ZBOSS               f4  \n",
      "    ZOTHER              f4  \n",
      "    ZOTHER_SOURCE       i2  \n",
      "    UMAG                f4  \n",
      "    GMAG                f4  \n",
      "    RMAG                f4  \n",
      "    IMAG                f4  \n",
      "    ZMAG                f4  \n",
      "    YMAG                f4  \n",
      "    JMAG                f4  \n",
      "    HMAG                f4  \n",
      "    KMAG                f4  \n",
      "    UERR                f4  \n",
      "    GERR                f4  \n",
      "    RERR                f4  \n",
      "    IERR                f4  \n",
      "    ZERR                f4  \n",
      "    YERR                f4  \n",
      "    JERR                f4  \n",
      "    HERR                f4  \n",
      "    KERR                f4  \n",
      "    UFNU                f4  \n",
      "    GFNU                f4  \n",
      "    RFNU                f4  \n",
      "    IFNU                f4  \n",
      "    ZFNU                f4  \n",
      "    YFNU                f4  \n",
      "    JFNU                f4  \n",
      "    HFNU                f4  \n",
      "    KFNU                f4  \n",
      "    UFNUERR             f4  \n",
      "    GFNUERR             f4  \n",
      "    RFNUERR             f4  \n",
      "    IFNUERR             f4  \n",
      "    ZFNUERR             f4  \n",
      "    YFNUERR             f4  \n",
      "    JFNUERR             f4  \n",
      "    HFNUERR             f4  \n",
      "    KFNUERR             f4  \n",
      "    YPETROMAG           f4  \n",
      "    JPETROMAG           f4  \n",
      "    HPETROMAG           f4  \n",
      "    KPETROMAG           f4  \n",
      "    YPETROMAGERR        f4  \n",
      "    JPETROMAGERR        f4  \n",
      "    HPETROMAGERR        f4  \n",
      "    KPETROMAGERR        f4  \n",
      "    YHALLMAG            f4  \n",
      "    JHALLMAG            f4  \n",
      "    HHALLMAG            f4  \n",
      "    KHALLMAG            f4  \n",
      "    YHALLMAGERR         f4  \n",
      "    JHALLMAGERR         f4  \n",
      "    HHALLMAGERR         f4  \n",
      "    KHALLMAGERR         f4  \n",
      "    YHALLTOT            f4  \n",
      "    JHALLTOT            f4  \n",
      "    HHALLTOT            f4  \n",
      "    KHALLTOT            f4  \n",
      "    YISOMAG             f4  \n",
      "    JISOMAG             f4  \n",
      "    HISOMAG             f4  \n",
      "    KISOMAG             f4  \n"
     ]
    }
   ],
   "source": [
    "cs82.info"
   ]
  },
  {
   "cell_type": "code",
   "execution_count": 4,
   "metadata": {
    "collapsed": false
   },
   "outputs": [
    {
     "name": "stdout",
     "output_type": "stream",
     "text": [
      "\n",
      "  file: data/sdss.fits\n",
      "  extension: 1\n",
      "  type: BINARY_TBL\n",
      "  extname: /home/chbrandt/Desktop/Catalogs/photometry/sdss/Stripe82_photo_ch...\n",
      "  rows: 225908\n",
      "  column info:\n",
      "    ObjID               i8  \n",
      "    ra                  f8  \n",
      "    dec                 f8  \n",
      "    u                   f4  \n",
      "    g                   f4  \n",
      "    r                   f4  \n",
      "    i                   f4  \n",
      "    z                   f4  \n",
      "    err_u               f4  \n",
      "    err_g               f4  \n",
      "    err_r               f4  \n",
      "    err_i               f4  \n",
      "    err_z               f4  \n",
      "    dered_u             f4  \n",
      "    dered_g             f4  \n",
      "    dered_r             f4  \n",
      "    dered_i             f4  \n",
      "    dered_z             f4  \n",
      "    c_u                 f4  \n",
      "    c_g                 f4  \n",
      "    c_r                 f4  \n",
      "    c_i                 f4  \n",
      "    c_z                 f4  \n",
      "    nChild              i2  \n",
      "    probPSF             f4  \n",
      "    insideMask          u1  \n",
      "    flags               i8  \n"
     ]
    }
   ],
   "source": [
    "sdss.info"
   ]
  },
  {
   "cell_type": "code",
   "execution_count": 5,
   "metadata": {
    "collapsed": true
   },
   "outputs": [],
   "source": [
    "colsA = {'ra':'RA','dec':'DEC','id':'OBJID'}\n",
    "catA = cs82.load(columns=['OBJID','RA','DEC'])"
   ]
  },
  {
   "cell_type": "code",
   "execution_count": 6,
   "metadata": {
    "collapsed": true
   },
   "outputs": [],
   "source": [
    "colsB = {'id':'ObjID'}\n",
    "catB = sdss.load(columns=['ObjID','ra','dec'])"
   ]
  },
  {
   "cell_type": "code",
   "execution_count": 7,
   "metadata": {
    "collapsed": false
   },
   "outputs": [],
   "source": [
    "from booq.table import aTable\n",
    "A = aTable(catA.data).to_pandas()"
   ]
  },
  {
   "cell_type": "code",
   "execution_count": 8,
   "metadata": {
    "collapsed": true
   },
   "outputs": [],
   "source": [
    "from booq.table import aTable\n",
    "B = aTable(catB.data).to_pandas()"
   ]
  },
  {
   "cell_type": "code",
   "execution_count": 9,
   "metadata": {
    "collapsed": false
   },
   "outputs": [
    {
     "name": "stdout",
     "output_type": "stream",
     "text": [
      "Running in parallel\n",
      "Running in parallel\n"
     ]
    },
    {
     "name": "stderr",
     "output_type": "stream",
     "text": [
      "/home/chbrandt/fido/repos/booq/booq/pipelines/xmatch_nn.py:121: SettingWithCopyWarning: \n",
      "A value is trying to be set on a copy of a slice from a DataFrame.\n",
      "Try using .loc[row_indexer,col_indexer] = value instead\n",
      "\n",
      "See the caveats in the documentation: http://pandas.pydata.org/pandas-docs/stable/indexing.html#indexing-view-versus-copy\n",
      "  B_matched['A_idx'] = df_matched_idx.index\n"
     ]
    }
   ],
   "source": [
    "from booq.pipelines import xmatch_nn\n",
    "# X-match the catalogs\n",
    "matched_catalog_parallel = xmatch_nn.xmatch(A, B, columns_A=colsA, columns_B=colsB, parallel_run=True)"
   ]
  },
  {
   "cell_type": "code",
   "execution_count": 10,
   "metadata": {
    "collapsed": false
   },
   "outputs": [],
   "source": [
    "from booq.pipelines import xmatch_nn\n",
    "# X-match the catalogs\n",
    "matched_catalog_serial = xmatch_nn.xmatch(A,B,columns_A=colsA, columns_B=colsB)"
   ]
  },
  {
   "cell_type": "code",
   "execution_count": 11,
   "metadata": {
    "collapsed": false
   },
   "outputs": [
    {
     "data": {
      "text/plain": [
       "True"
      ]
     },
     "execution_count": 11,
     "metadata": {},
     "output_type": "execute_result"
    }
   ],
   "source": [
    "matched_catalog_parallel.equals(matched_catalog_serial)"
   ]
  },
  {
   "cell_type": "code",
   "execution_count": 12,
   "metadata": {
    "collapsed": false
   },
   "outputs": [
    {
     "data": {
      "text/html": [
       "<div>\n",
       "<table border=\"1\" class=\"dataframe\">\n",
       "  <thead>\n",
       "    <tr>\n",
       "      <th></th>\n",
       "      <th colspan=\"3\" halign=\"left\">A</th>\n",
       "      <th colspan=\"3\" halign=\"left\">B</th>\n",
       "      <th>AB</th>\n",
       "    </tr>\n",
       "    <tr>\n",
       "      <th></th>\n",
       "      <th>OBJID</th>\n",
       "      <th>RA</th>\n",
       "      <th>DEC</th>\n",
       "      <th>ObjID</th>\n",
       "      <th>ra</th>\n",
       "      <th>dec</th>\n",
       "      <th>dist</th>\n",
       "    </tr>\n",
       "  </thead>\n",
       "  <tbody>\n",
       "    <tr>\n",
       "      <th>count</th>\n",
       "      <td>2.899160e+05</td>\n",
       "      <td>289916.000000</td>\n",
       "      <td>289916.000000</td>\n",
       "      <td>2.258970e+05</td>\n",
       "      <td>225897.000000</td>\n",
       "      <td>225897.000000</td>\n",
       "      <td>2.258970e+05</td>\n",
       "    </tr>\n",
       "    <tr>\n",
       "      <th>mean</th>\n",
       "      <td>8.647475e+18</td>\n",
       "      <td>177.321630</td>\n",
       "      <td>0.016463</td>\n",
       "      <td>8.647475e+18</td>\n",
       "      <td>176.927110</td>\n",
       "      <td>0.012460</td>\n",
       "      <td>7.569240e-06</td>\n",
       "    </tr>\n",
       "    <tr>\n",
       "      <th>std</th>\n",
       "      <td>2.144854e+11</td>\n",
       "      <td>179.439324</td>\n",
       "      <td>0.569329</td>\n",
       "      <td>2.145081e+11</td>\n",
       "      <td>179.433142</td>\n",
       "      <td>0.568618</td>\n",
       "      <td>3.597543e-03</td>\n",
       "    </tr>\n",
       "    <tr>\n",
       "      <th>min</th>\n",
       "      <td>8.647475e+18</td>\n",
       "      <td>0.000131</td>\n",
       "      <td>-1.001772</td>\n",
       "      <td>8.647475e+18</td>\n",
       "      <td>0.000131</td>\n",
       "      <td>-1.001772</td>\n",
       "      <td>0.000000e+00</td>\n",
       "    </tr>\n",
       "    <tr>\n",
       "      <th>25%</th>\n",
       "      <td>8.647475e+18</td>\n",
       "      <td>0.541974</td>\n",
       "      <td>-0.473527</td>\n",
       "      <td>8.647475e+18</td>\n",
       "      <td>0.541925</td>\n",
       "      <td>-0.477736</td>\n",
       "      <td>0.000000e+00</td>\n",
       "    </tr>\n",
       "    <tr>\n",
       "      <th>50%</th>\n",
       "      <td>8.647475e+18</td>\n",
       "      <td>1.054288</td>\n",
       "      <td>0.025700</td>\n",
       "      <td>8.647475e+18</td>\n",
       "      <td>1.052216</td>\n",
       "      <td>0.021727</td>\n",
       "      <td>1.698607e-12</td>\n",
       "    </tr>\n",
       "    <tr>\n",
       "      <th>75%</th>\n",
       "      <td>8.647475e+18</td>\n",
       "      <td>359.451641</td>\n",
       "      <td>0.507979</td>\n",
       "      <td>8.647475e+18</td>\n",
       "      <td>359.451261</td>\n",
       "      <td>0.502914</td>\n",
       "      <td>5.155773e-11</td>\n",
       "    </tr>\n",
       "    <tr>\n",
       "      <th>max</th>\n",
       "      <td>8.647475e+18</td>\n",
       "      <td>359.999991</td>\n",
       "      <td>0.998209</td>\n",
       "      <td>8.647475e+18</td>\n",
       "      <td>360.000104</td>\n",
       "      <td>0.998209</td>\n",
       "      <td>1.709863e+00</td>\n",
       "    </tr>\n",
       "  </tbody>\n",
       "</table>\n",
       "</div>"
      ],
      "text/plain": [
       "                  A                                           B  \\\n",
       "              OBJID             RA            DEC         ObjID   \n",
       "count  2.899160e+05  289916.000000  289916.000000  2.258970e+05   \n",
       "mean   8.647475e+18     177.321630       0.016463  8.647475e+18   \n",
       "std    2.144854e+11     179.439324       0.569329  2.145081e+11   \n",
       "min    8.647475e+18       0.000131      -1.001772  8.647475e+18   \n",
       "25%    8.647475e+18       0.541974      -0.473527  8.647475e+18   \n",
       "50%    8.647475e+18       1.054288       0.025700  8.647475e+18   \n",
       "75%    8.647475e+18     359.451641       0.507979  8.647475e+18   \n",
       "max    8.647475e+18     359.999991       0.998209  8.647475e+18   \n",
       "\n",
       "                                               AB  \n",
       "                  ra            dec          dist  \n",
       "count  225897.000000  225897.000000  2.258970e+05  \n",
       "mean      176.927110       0.012460  7.569240e-06  \n",
       "std       179.433142       0.568618  3.597543e-03  \n",
       "min         0.000131      -1.001772  0.000000e+00  \n",
       "25%         0.541925      -0.477736  0.000000e+00  \n",
       "50%         1.052216       0.021727  1.698607e-12  \n",
       "75%       359.451261       0.502914  5.155773e-11  \n",
       "max       360.000104       0.998209  1.709863e+00  "
      ]
     },
     "execution_count": 12,
     "metadata": {},
     "output_type": "execute_result"
    }
   ],
   "source": [
    "matched_catalog_parallel.describe()"
   ]
  },
  {
   "cell_type": "raw",
   "metadata": {
    "collapsed": true
   },
   "source": []
  }
 ],
 "metadata": {
  "kernelspec": {
   "display_name": "Python 2",
   "language": "python",
   "name": "python2"
  },
  "language_info": {
   "codemirror_mode": {
    "name": "ipython",
    "version": 2
   },
   "file_extension": ".py",
   "mimetype": "text/x-python",
   "name": "python",
   "nbconvert_exporter": "python",
   "pygments_lexer": "ipython2",
   "version": "2.7.12"
  }
 },
 "nbformat": 4,
 "nbformat_minor": 0
}
