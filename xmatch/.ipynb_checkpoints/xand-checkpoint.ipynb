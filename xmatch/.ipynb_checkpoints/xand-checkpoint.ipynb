{
 "metadata": {
  "name": "",
  "signature": "sha256:77eaed19f3810ffc83e90e717d5e8a5bc17d20ba2016dd1394114470642b3b8d"
 },
 "nbformat": 3,
 "nbformat_minor": 0,
 "worksheets": [
  {
   "cells": [
    {
     "cell_type": "code",
     "collapsed": false,
     "input": [
      "# first of all, let us define some parameters\n",
      "#\n",
      "# size of the images\n",
      "sx = 1000\n",
      "sy = 1000\n",
      "# number of sources on each image\n",
      "nsrc1 = 100\n",
      "nsrc2 = nsrc1\n",
      "# typical error radius (in pixels)\n",
      "rerr1 = 10\n",
      "rerr2 = rerr1"
     ],
     "language": "python",
     "metadata": {},
     "outputs": [],
     "prompt_number": 1
    },
    {
     "cell_type": "code",
     "collapsed": false,
     "input": [
      "# generate coordinate pairs for each image\n",
      "def generate_positions(nsrc,npixels):\n",
      "    \"\"\"\n",
      "    Generate 'nsrc' points uniformly across 'npixels' range (init at '0')\n",
      "    \n",
      "    Args:\n",
      "        nsrc    : number of points to generate\n",
      "        npixels : space size to generate randomly the points\n",
      "\n",
      "    Returns:\n",
      "        Pair_Coordinates_List : list of (x,y) tuples\n",
      "    \"\"\"\n",
      "    "
     ],
     "language": "python",
     "metadata": {},
     "outputs": []
    }
   ],
   "metadata": {}
  }
 ]
}