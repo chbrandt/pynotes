{
 "cells": [
  {
   "cell_type": "code",
   "execution_count": 2,
   "metadata": {
    "collapsed": false
   },
   "outputs": [
    {
     "name": "stderr",
     "output_type": "stream",
     "text": [
      "/home/chbrandt/.conda/envs/booq-dev/lib/python2.7/site-packages/matplotlib/font_manager.py:273: UserWarning: Matplotlib is building the font cache using fc-list. This may take a moment.\n",
      "  warnings.warn('Matplotlib is building the font cache using fc-list. This may take a moment.')\n"
     ]
    }
   ],
   "source": [
    "%matplotlib inline\n",
    "\n",
    "from matplotlib import pyplot as plt\n",
    "from matplotlib import cm\n",
    "\n",
    "import numpy\n",
    "\n",
    "plt.rcParams['figure.figsize'] = (10.0, 10.0) "
   ]
  },
  {
   "cell_type": "code",
   "execution_count": 3,
   "metadata": {
    "collapsed": false
   },
   "outputs": [],
   "source": [
    "# first of all, let us define some parameters\n",
    "#\n",
    "# size of the images\n",
    "sx = 5000\n",
    "sy = 5000\n",
    "# number of sources on each image\n",
    "nsrc1 = int( 0.1 * (sx*sy)/(sx+sy) )\n",
    "#nsrc2 = int( 0.5 * nsrc1 )\n",
    "# typical error radius (in pixels)\n",
    "rerr1 = 20\n",
    "rerr2 = rerr1"
   ]
  },
  {
   "cell_type": "code",
   "execution_count": 4,
   "metadata": {
    "collapsed": false
   },
   "outputs": [],
   "source": [
    "# generate coordinate pairs for each image\n",
    "def generate_positions(npts,img_shape):\n",
    "    \"\"\"\n",
    "    Generate 'npts' points uniformly across 'image_shape'.\n",
    "    \n",
    "    Args:\n",
    "        npts      : number of points to generate\n",
    "        img_shape : (y,x) shape where to generate points\n",
    "\n",
    "    Returns:\n",
    "        Pair_Coordinates_List : list of (y,x) tuples\n",
    "    \"\"\"\n",
    "    import numpy as np\n",
    "    _sy,_sx = img_shape\n",
    "    assert _sy>=5 and _sx>=5 # because I want\n",
    "    indy = np.random.randint(0,_sy-1,npts)\n",
    "    indx = np.random.randint(0,_sx-1,npts)\n",
    "    _inds = zip(indy,indx)\n",
    "    return _inds\n",
    "\n",
    "\n",
    "\n",
    "def generate_positions_around(seeds,radius,img_shape,fraction=1.0):\n",
    "    \"\"\"\n",
    "    \"\"\"\n",
    "    assert 0 < fraction <= 1.0\n",
    "    \n",
    "    def _gen_pos_around_individual(seed,radius,img_shape,fraction,distribution='normal'):\n",
    "        \"\"\"\n",
    "        TODO: implement other kinds of distributions\n",
    "        \"\"\"\n",
    "        from random import random\n",
    "        if random() < fraction:\n",
    "            import numpy as np\n",
    "            sy,sx = seed\n",
    "            y = int(np.random.normal(sy,radius))\n",
    "            y = y if y > 0 and y < img_shape[0] else sy\n",
    "            x = int(np.random.normal(sx,radius))\n",
    "            x = x if x > 0 and x < img_shape[1] else sx\n",
    "        else:\n",
    "            y,x = generate_positions(1,img_shape)[0]\n",
    "        return y,x\n",
    "    \n",
    "    _inds = []\n",
    "    for seed in seeds:\n",
    "        y,x = _gen_pos_around_individual(seed,radius,img_shape,fraction)\n",
    "        _inds.append((y,x))\n",
    "    return _inds\n"
   ]
  },
  {
   "cell_type": "code",
   "execution_count": 5,
   "metadata": {
    "collapsed": false
   },
   "outputs": [],
   "source": [
    "# \"sources 1\"\n",
    "coords1 = generate_positions(nsrc1,(sy,sx))\n",
    "assert isinstance(coords1,list)\n",
    "assert len(coords1) == nsrc1\n",
    "\n",
    "# \"sources 2\"\n",
    "img_shape = (sy,sx)\n",
    "coords2 = generate_positions_around(coords1,rerr1,img_shape,fraction=0.75)\n",
    "assert isinstance(coords2,list)"
   ]
  },
  {
   "cell_type": "code",
   "execution_count": 6,
   "metadata": {
    "collapsed": false
   },
   "outputs": [],
   "source": [
    "# create the positions table\n",
    "def create_positions_table(coords,err_radius):\n",
    "    \"\"\"\n",
    "    \"\"\"\n",
    "    tab = {}\n",
    "    for i,oo in enumerate(coords):\n",
    "        i = i+1\n",
    "        tab[i] = [i,oo[1],oo[0],err_radius]\n",
    "    return tab\n",
    "\n",
    "def tab2df(tab):\n",
    "    nt = {'ID':[],'x':[],'y':[],'r':[]}\n",
    "    for k,v in tab.iteritems():\n",
    "        nt['ID'].append(v[0])\n",
    "        nt['x'].append(v[1])\n",
    "        nt['y'].append(v[2])\n",
    "        nt['r'].append(v[3])\n",
    "    import pandas\n",
    "    df = pandas.DataFrame(nt)\n",
    "    return df\n"
   ]
  },
  {
   "cell_type": "code",
   "execution_count": 7,
   "metadata": {
    "collapsed": false
   },
   "outputs": [],
   "source": [
    "# table for \"sources 1\" and a DataFrame for convenience...\n",
    "tab1 = create_positions_table(coords1,rerr1)\n",
    "df1 = tab2df(tab1)\n",
    "\n",
    "# table for \"sources 2\"...\n",
    "tab2 = create_positions_table(coords2,rerr2)\n",
    "df2 = tab2df(tab2)"
   ]
  },
  {
   "cell_type": "code",
   "execution_count": 8,
   "metadata": {
    "collapsed": false
   },
   "outputs": [],
   "source": [
    "# create and draw each source on black(null) images\n",
    "def draw_image_sources(tab_positions,img_shape,colormap='colorful'):\n",
    "    \"\"\"\n",
    "    \"\"\"\n",
    "    def color_filling(mode='colorful'):\n",
    "        def _colorful(x,y,size):\n",
    "            _R = int(255 - ( int(x/256) + int(y/256)*(1 + ceil(size[0]/256)) )) #TODO: restrict total size of image to avoid _R<=0\n",
    "            _G = x%256\n",
    "            _B = y%256\n",
    "            return (_R,_G,_B)\n",
    "\n",
    "        def _blue(x,y,size):\n",
    "            _R = 0\n",
    "            _G = 0\n",
    "            _B = 255\n",
    "            return (_R,_G,_B)\n",
    "\n",
    "        def _green(x,y,size):\n",
    "            _R = 0\n",
    "            _G = 255\n",
    "            _B = 0\n",
    "            return (_R,_G,_B)\n",
    "\n",
    "        def _red(x,y,size):\n",
    "            _R = 255\n",
    "            _G = 0\n",
    "            _B = 0\n",
    "            return (_R,_G,_B)\n",
    "\n",
    "        foos = {'blue'    : _blue,\n",
    "                'red'     : _red,\n",
    "                'green'   : _green,\n",
    "                'colorful': _colorful}\n",
    "        \n",
    "        try:\n",
    "            foo = foos[mode]\n",
    "        except:\n",
    "            foo = _colorful\n",
    "        return foo\n",
    "        \n",
    "        \n",
    "    from math import ceil\n",
    "    from PIL import Image,ImageDraw\n",
    "    assert(isinstance(img_shape,tuple) and len(img_shape) is 2)\n",
    "    size = img_shape[::-1]\n",
    "    # Modification to accomplish color codes ---\n",
    "    #mode = 'L'\n",
    "    mode = 'RGB'\n",
    "    # ---\n",
    "    color = \"black\"\n",
    "    img = Image.new(mode,size,color)\n",
    "    assert(len(tab_positions)>=1)\n",
    "    #\n",
    "    dictColorId = {}\n",
    "    filling_foo = color_filling(colormap)\n",
    "    #\n",
    "    for i,src in tab_positions.items():\n",
    "        assert isinstance(src,list) and src is tab_positions[i]\n",
    "        assert len(src)>=4, \"length of table raw %d is %d\" % (i,len(src))\n",
    "        assert i==src[0]\n",
    "        draw = ImageDraw.Draw(img)\n",
    "        x = src[1]\n",
    "        assert 0<=x and x<size[0], \"coordinate x is %d\" % x\n",
    "        y = src[2]\n",
    "        assert 0<=y and y<size[1], \"coordinate y is %d\" % y\n",
    "        r = src[3]\n",
    "        assert r<size[0]/2 and r<size[1]/2\n",
    "        box = (x-r,y-r,x+r,y+r)\n",
    "        # Modification to accomplish color codes ---\n",
    "        #fill=255\n",
    "        fill = filling_foo(x,y,size)\n",
    "        # ---\n",
    "        dictColorId[str(fill)] = i\n",
    "        draw.ellipse(box,fill=fill)\n",
    "        del draw,box,x,y,r\n",
    "    return img,dictColorId\n"
   ]
  },
  {
   "cell_type": "code",
   "execution_count": 9,
   "metadata": {
    "collapsed": true
   },
   "outputs": [],
   "source": [
    "img1,cor2id1 = draw_image_sources(tab1,(sy,sx),colormap='blue')\n",
    "img2,cor2id2 = draw_image_sources(tab2,(sy,sx),colormap='red')\n",
    "#img1.show()\n",
    "#img2.show()"
   ]
  },
  {
   "cell_type": "code",
   "execution_count": 10,
   "metadata": {
    "collapsed": false
   },
   "outputs": [],
   "source": [
    "# cmap reference:\n",
    "#\n",
    "# cm api: http://matplotlib.org/api/cm_api.html\n",
    "# cmaps : http://matplotlib.org/users/colormaps.html\n",
    "# imshow: http://matplotlib.org/users/image_tutorial.html\n",
    "#cmap = cm.get_cmap('Blues')\n",
    "\n",
    "def pilImage_2_numpyArray(img):\n",
    "    import numpy\n",
    "    #img_array = numpy.array(list(img.getdata())).reshape(sx,sy,3)\n",
    "    img_array = numpy.asarray(img)\n",
    "    return img_array\n",
    "\n",
    "def rgbArray_2_mono(img_arr,chanel='R'):\n",
    "    chanels = {'R':0,\n",
    "               'G':1,\n",
    "               'B':2}\n",
    "    _i = chanels[chanel]\n",
    "    return img_arr[:,:,_i]\n"
   ]
  },
  {
   "cell_type": "code",
   "execution_count": 11,
   "metadata": {
    "collapsed": false
   },
   "outputs": [
    {
     "name": "stdout",
     "output_type": "stream",
     "text": [
      "Catalog A:\n",
      "----------\n",
      "      ID   r     x     y\n",
      "0      1  20  3757   657\n",
      "1      2  20  1835  3070\n",
      "2      3  20  2097  4746\n",
      "3      4  20  4825   960\n",
      "4      5  20  1175  1134\n",
      "5      6  20  3071  3294\n",
      "6      7  20  3913  3664\n",
      "7      8  20   825  3980\n",
      "8      9  20  4017  3823\n",
      "9     10  20  3904  4621\n",
      "10    11  20  2681  1743\n",
      "11    12  20  3167   556\n",
      "12    13  20  3360  1959\n",
      "13    14  20  2912   138\n",
      "14    15  20  1012  1168\n",
      "15    16  20   434  1286\n",
      "16    17  20   706  3993\n",
      "17    18  20  2793  4445\n",
      "18    19  20  4748  4930\n",
      "19    20  20  4675  2887\n",
      "20    21  20  4935  3748\n",
      "21    22  20  3489  2057\n",
      "22    23  20  2679  1038\n",
      "23    24  20  4004  1261\n",
      "24    25  20   918   910\n",
      "25    26  20  2419   899\n",
      "26    27  20  2740   644\n",
      "27    28  20  4649  4207\n",
      "28    29  20  4113  4116\n",
      "29    30  20  2290  3026\n",
      "..   ...  ..   ...   ...\n",
      "220  221  20  2384  1962\n",
      "221  222  20  1199   369\n",
      "222  223  20  2108  4442\n",
      "223  224  20  4623  2514\n",
      "224  225  20  1863  2117\n",
      "225  226  20  2064  2786\n",
      "226  227  20  2925   969\n",
      "227  228  20  1602    23\n",
      "228  229  20  1164  3004\n",
      "229  230  20    81  4373\n",
      "230  231  20  1707  4646\n",
      "231  232  20  2275  2112\n",
      "232  233  20  2781  2587\n",
      "233  234  20  1415  1137\n",
      "234  235  20  4308   618\n",
      "235  236  20  4006   840\n",
      "236  237  20  3014  3839\n",
      "237  238  20  2832  2450\n",
      "238  239  20  2153   542\n",
      "239  240  20  3601   332\n",
      "240  241  20  3986  3869\n",
      "241  242  20  3463   504\n",
      "242  243  20   989  4907\n",
      "243  244  20  1654   170\n",
      "244  245  20  2508   654\n",
      "245  246  20  4321  4591\n",
      "246  247  20  4070  1951\n",
      "247  248  20  1855  1378\n",
      "248  249  20  2722   955\n",
      "249  250  20   562  3849\n",
      "\n",
      "[250 rows x 4 columns]\n"
     ]
    },
    {
     "data": {
      "image/png": "[encoded data removed]",
      "text/plain": [
       "<matplotlib.figure.Figure at 0x7f9a08fc4890>"
      ]
     },
     "metadata": {},
     "output_type": "display_data"
    }
   ],
   "source": [
    "img1_array = pilImage_2_numpyArray(img1)\n",
    "img1_mono = rgbArray_2_mono(img1_array,'B')\n",
    "\n",
    "plt.imshow(img1_mono,cmap='Blues')\n",
    "print \"Catalog A:\"\n",
    "print \"----------\"\n",
    "print df1"
   ]
  },
  {
   "cell_type": "code",
   "execution_count": 12,
   "metadata": {
    "collapsed": false
   },
   "outputs": [
    {
     "name": "stdout",
     "output_type": "stream",
     "text": [
      "Catalog B:\n",
      "----------\n",
      "      ID   r     x     y\n",
      "0      1  20  3781   647\n",
      "1      2  20  1845  3088\n",
      "2      3  20  2090  4742\n",
      "3      4  20  4812   932\n",
      "4      5  20  1149  1129\n",
      "5      6  20  3073  3271\n",
      "6      7  20  3953  3666\n",
      "7      8  20   820  3984\n",
      "8      9  20  4029  3800\n",
      "9     10  20  3921  4656\n",
      "10    11  20  2694  1765\n",
      "11    12  20  1831  3289\n",
      "12    13  20  3337  1950\n",
      "13    14  20  2905   201\n",
      "14    15  20  1008  1183\n",
      "15    16  20   402  1279\n",
      "16    17  20   697  4003\n",
      "17    18  20   937  3436\n",
      "18    19  20  4742  4913\n",
      "19    20  20  4690  2884\n",
      "20    21  20  4913  3718\n",
      "21    22  20  3479  2069\n",
      "22    23  20  2677  1031\n",
      "23    24  20  4022  1260\n",
      "24    25  20   910   889\n",
      "25    26  20  2412  1246\n",
      "26    27  20  2709   663\n",
      "27    28  20  1501  2209\n",
      "28    29  20  4114  4090\n",
      "29    30  20  2297  3031\n",
      "..   ...  ..   ...   ...\n",
      "220  221  20  2388  1938\n",
      "221  222  20  1168   391\n",
      "222  223  20  2102  4496\n",
      "223  224  20  4629  2537\n",
      "224  225  20  1867  2116\n",
      "225  226  20  2042  2789\n",
      "226  227  20  2888   985\n",
      "227  228  20  1599    39\n",
      "228  229  20  1165  3029\n",
      "229  230  20    94  4384\n",
      "230  231  20  1720  4618\n",
      "231  232  20  2303  2112\n",
      "232  233  20  2761  2611\n",
      "233  234  20  2031  2588\n",
      "234  235  20  4276   604\n",
      "235  236  20  3958   825\n",
      "236  237  20  3129  1840\n",
      "237  238  20  2839  2447\n",
      "238  239  20  2154   563\n",
      "239  240  20  3636   303\n",
      "240  241  20  1720   400\n",
      "241  242  20  3474   498\n",
      "242  243  20   987  4912\n",
      "243  244  20  1691   152\n",
      "244  245  20  2491   683\n",
      "245  246  20  1608  2145\n",
      "246  247  20  4104  1954\n",
      "247  248  20  1864  1391\n",
      "248  249  20   989   834\n",
      "249  250  20   565  3873\n",
      "\n",
      "[250 rows x 4 columns]\n"
     ]
    },
    {
     "data": {
      "text/plain": [
       "<matplotlib.image.AxesImage at 0x7f9a05606650>"
      ]
     },
     "execution_count": 12,
     "metadata": {},
     "output_type": "execute_result"
    },
    {
     "data": {
      "image/png": "[encoded data removed]",
      "text/plain": [
       "<matplotlib.figure.Figure at 0x7f9a053e0b90>"
      ]
     },
     "metadata": {},
     "output_type": "display_data"
    }
   ],
   "source": [
    "img2_array = pilImage_2_numpyArray(img2)\n",
    "img2_mono = rgbArray_2_mono(img2_array,'R')\n",
    "\n",
    "print \"Catalog B:\"\n",
    "print \"----------\"\n",
    "print df2\n",
    "plt.imshow(img2_mono,cmap='Reds')"
   ]
  },
  {
   "cell_type": "code",
   "execution_count": 13,
   "metadata": {
    "collapsed": false
   },
   "outputs": [],
   "source": [
    "def add_arrays_2_image(img1,img2):\n",
    "    \"\"\"\n",
    "    \"\"\"\n",
    "    def array_2_image(arr):\n",
    "        from PIL import Image\n",
    "        imgout = Image.fromarray(numpy.uint8(arr))\n",
    "        return imgout\n",
    "    return array_2_image(img1+img2)\n"
   ]
  },
  {
   "cell_type": "code",
   "execution_count": 14,
   "metadata": {
    "collapsed": false
   },
   "outputs": [
    {
     "data": {
      "text/plain": [
       "<matplotlib.image.AxesImage at 0x7f99f2728d90>"
      ]
     },
     "execution_count": 14,
     "metadata": {},
     "output_type": "execute_result"
    },
    {
     "data": {
      "image/png": "[encoded data removed]",
      "text/plain": [
       "<matplotlib.figure.Figure at 0x7f99fe881b90>"
      ]
     },
     "metadata": {},
     "output_type": "display_data"
    }
   ],
   "source": [
    "img_sum = add_arrays_2_image(img1_array,img2_array)\n",
    "plt.imshow(img_sum)"
   ]
  },
  {
   "cell_type": "code",
   "execution_count": 15,
   "metadata": {
    "collapsed": false
   },
   "outputs": [],
   "source": [
    "def nn_search(catA,catB, dview=None):\n",
    "    \"\"\"\n",
    "    \"\"\"\n",
    "    \n",
    "    import pandas\n",
    "    assert isinstance(catA,pandas.DataFrame)\n",
    "    assert isinstance(catB,pandas.DataFrame)\n",
    "    \n",
    "    A = catA.copy()\n",
    "    B = catB.copy()\n",
    "    \n",
    "    from astropy.coordinates import SkyCoord\n",
    "    from astropy import units\n",
    "    norm_fact = 500.0\n",
    "    Ax_norm = A.x / norm_fact\n",
    "    Ay_norm = A.y / norm_fact\n",
    "    A_coord = SkyCoord(ra=Ax_norm, dec=Ay_norm, unit=units.deg)\n",
    "\n",
    "    Bx_norm = B.x / norm_fact\n",
    "    By_norm = B.y / norm_fact\n",
    "    B_coord = SkyCoord(ra=Bx_norm, dec=By_norm, unit=units.deg)\n",
    "\n",
    "    if dview:\n",
    "        print \"Running in parallel\"\n",
    "        # Encapsulate some variables to sand for processing\n",
    "        def make_nn_search_parallel(foo,cat2):\n",
    "            def pkg_nn_search(cat1,foo=foo,cat2=cat2):\n",
    "                return foo(cat1,cat2)\n",
    "            return pkg_nn_search\n",
    "\n",
    "        # A-B\n",
    "        from astropy.coordinates import match_coordinates_sky\n",
    "        match_eps = make_nn_search_parallel(match_coordinates_sky,B_coord)\n",
    "        #\n",
    "        from numpy import arange,array_split,append\n",
    "        A_list = [ A_coord[idx] for idx in array_split(arange(len(A_coord)),len(dview)) ]\n",
    "        A_list_out = dview.map_sync(match_eps, A_list)\n",
    "        #\n",
    "        match_A_nn_idx, match_A_nn_sep = None, None\n",
    "        for each_out in A_list_out:\n",
    "            match_idx, match_sep, _d3d = each_out\n",
    "            del _d3d\n",
    "            if match_A_nn_idx is None:\n",
    "                assert match_A_nn_sep is None\n",
    "                match_A_nn_idx = match_idx\n",
    "                match_A_nn_sep = match_sep.value\n",
    "            else:\n",
    "                match_A_nn_idx = append(match_A_nn_idx,match_idx)\n",
    "                match_A_nn_sep = append(match_A_nn_sep,match_sep.value)\n",
    "\n",
    "        # B-A\n",
    "        from astropy.coordinates import match_coordinates_sky\n",
    "        match_eps = make_nn_search_parallel(match_coordinates_sky,A_coord)\n",
    "        #\n",
    "        from numpy import arange,array_split,append\n",
    "        B_list = [ B_coord[idx] for idx in array_split(arange(len(B_coord)),len(dview)) ]\n",
    "        B_list_out = dview.map_sync(match_eps, B_list)\n",
    "        #\n",
    "        match_B_nn_idx, match_B_nn_sep = None, None\n",
    "        for each_out in B_list_out:\n",
    "            match_idx, match_sep, _d3d = each_out\n",
    "            del _d3d\n",
    "            if match_B_nn_idx is None:\n",
    "                assert match_B_nn_sep is None\n",
    "                match_B_nn_idx = match_idx\n",
    "                match_B_nn_sep = match_sep.value\n",
    "            else:\n",
    "                match_B_nn_idx = append(match_B_nn_idx,match_idx)\n",
    "                match_B_nn_sep = append(match_B_nn_sep,match_sep.value)\n",
    "        \n",
    "    else:\n",
    "        print \"Running in serial\"\n",
    "        from astropy.coordinates import match_coordinates_sky\n",
    "        match_A_nn_idx, match_A_nn_sep, _d3d = match_coordinates_sky(A_coord, B_coord)\n",
    "        match_B_nn_idx, match_B_nn_sep, _d3d = match_coordinates_sky(B_coord, A_coord)\n",
    "        match_A_nn_sep = match_A_nn_sep.value\n",
    "        match_B_nn_sep = match_B_nn_sep.value\n",
    "\n",
    "    A['NN_in_B'] = B.ID[match_A_nn_idx].values\n",
    "    B['NN_in_A'] = A.ID[match_B_nn_idx].values\n",
    "\n",
    "    import numpy\n",
    "    A_matched_pairs = zip(numpy.arange(len(match_A_nn_idx)),\n",
    "                          match_A_nn_idx )\n",
    "    B_matched_pairs = set(zip(match_B_nn_idx,\n",
    "                              numpy.arange(len(match_B_nn_idx))))\n",
    "\n",
    "    duplicate_pairs = []\n",
    "    duplicate_dists = []\n",
    "    for i,p in enumerate(A_matched_pairs):\n",
    "        if p in B_matched_pairs:\n",
    "            duplicate_pairs.append(p)\n",
    "            duplicate_dists.append(match_A_nn_sep[i])\n",
    "\n",
    "    A_matched_idx,B_matched_idx = zip(*duplicate_pairs)\n",
    "    import pandas\n",
    "    df_matched = pandas.DataFrame({ 'A_idx':A_matched_idx,\n",
    "                                    'B_idx':B_matched_idx,\n",
    "                                    'separation':duplicate_dists})\n",
    "    df_matched = df_matched.set_index('A_idx')\n",
    "\n",
    "    A.columns = [ 'A_'+c for c in A.columns ]\n",
    "    B.columns = [ 'B_'+c for c in B.columns ]\n",
    "\n",
    "    B_matched = B.iloc[df_matched.B_idx]\n",
    "    B_matched['A_idx'] = df_matched.index\n",
    "    B_matched = B_matched.set_index('A_idx')\n",
    "\n",
    "    B_matched['dist'] = numpy.asarray(df_matched.separation * norm_fact, dtype=int)\n",
    "\n",
    "    df = pandas.concat([A,B_matched],axis=1)\n",
    "    return df\n"
   ]
  },
  {
   "cell_type": "code",
   "execution_count": 22,
   "metadata": {
    "collapsed": false
   },
   "outputs": [
    {
     "name": "stdout",
     "output_type": "stream",
     "text": [
      "Running in serial\n",
      "CPU times: user 360 ms, sys: 17.7 ms, total: 378 ms\n",
      "Wall time: 348 ms\n"
     ]
    },
    {
     "name": "stderr",
     "output_type": "stream",
     "text": [
      "/home/chbrandt/.conda/envs/booq-dev/lib/python2.7/site-packages/ipykernel/__main__.py:106: SettingWithCopyWarning: \n",
      "A value is trying to be set on a copy of a slice from a DataFrame.\n",
      "Try using .loc[row_indexer,col_indexer] = value instead\n",
      "\n",
      "See the caveats in the documentation: http://pandas.pydata.org/pandas-docs/stable/indexing.html#indexing-view-versus-copy\n"
     ]
    }
   ],
   "source": [
    "%time df_match_serial = nn_search(df1,df2)\n",
    "# from astropy.table import Table\n",
    "# table_match = Table.from_pandas( df_match )\n",
    "# table_match.show_in_notebook()"
   ]
  },
  {
   "cell_type": "code",
   "execution_count": 23,
   "metadata": {
    "collapsed": false
   },
   "outputs": [],
   "source": [
    "# Lets us see what happens in parallel\n",
    "# First, run from the command line:\n",
    "#$ ipcluster start -n 2\n",
    "import ipyparallel as ipp\n",
    "client = ipp.Client()\n",
    "client.ids\n",
    "dview = client[:]"
   ]
  },
  {
   "cell_type": "code",
   "execution_count": 24,
   "metadata": {
    "collapsed": false
   },
   "outputs": [
    {
     "name": "stdout",
     "output_type": "stream",
     "text": [
      "Running in parallel\n",
      "CPU times: user 415 ms, sys: 35.8 ms, total: 450 ms\n",
      "Wall time: 532 ms\n"
     ]
    },
    {
     "name": "stderr",
     "output_type": "stream",
     "text": [
      "/home/chbrandt/.conda/envs/booq-dev/lib/python2.7/site-packages/ipykernel/__main__.py:106: SettingWithCopyWarning: \n",
      "A value is trying to be set on a copy of a slice from a DataFrame.\n",
      "Try using .loc[row_indexer,col_indexer] = value instead\n",
      "\n",
      "See the caveats in the documentation: http://pandas.pydata.org/pandas-docs/stable/indexing.html#indexing-view-versus-copy\n"
     ]
    }
   ],
   "source": [
    "%time df_match_parallel = nn_search(df1,df2,dview)"
   ]
  },
  {
   "cell_type": "code",
   "execution_count": 25,
   "metadata": {
    "collapsed": false
   },
   "outputs": [
    {
     "data": {
      "text/plain": [
       "True"
      ]
     },
     "execution_count": 25,
     "metadata": {},
     "output_type": "execute_result"
    }
   ],
   "source": [
    "df_match_parallel.equals(df_match_serial)"
   ]
  },
  {
   "cell_type": "code",
   "execution_count": null,
   "metadata": {
    "collapsed": true
   },
   "outputs": [],
   "source": []
  }
 ],
 "metadata": {
  "kernelspec": {
   "display_name": "Python 2",
   "language": "python",
   "name": "python2"
  },
  "language_info": {
   "codemirror_mode": {
    "name": "ipython",
    "version": 2
   },
   "file_extension": ".py",
   "mimetype": "text/x-python",
   "name": "python",
   "nbconvert_exporter": "python",
   "pygments_lexer": "ipython2",
   "version": "2.7.12"
  }
 },
 "nbformat": 4,
 "nbformat_minor": 0
}
