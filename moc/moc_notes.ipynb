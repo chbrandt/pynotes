{
 "cells": [
  {
   "cell_type": "markdown",
   "metadata": {},
   "source": [
    "# Processing MOC maps\n",
    "\n",
    "Multi-Order Coverage maps represent regions in a spheric surface defined by tree-like structures with the aim of producing maps through different spatial resolutions. In astronomy they are used to procude lightweight version of surveys' coverage.\n",
    "\n",
    "MOCs build the maps through Healpix. Healpix/MOC maps split the sky surface in diamond-like figures covering the same area each. Initially, at level zero, the number of diamonds is 12, covering the sphere in diamonds sized `~58 degree`. At each following level, the diamonds are sub-divide in 4, recursively. Until the maximum number of levels is reached, each level doubles the map resolution, splitting the sphere firstly in 48 diamond, at the second level in 192; third, 768 and so on. The maximum level -- or *order* -- is `29`, covering the sphere with `393.2 microarcsecond` size diamonds."
   ]
  },
  {
   "cell_type": "code",
   "execution_count": 1,
   "metadata": {
    "collapsed": true
   },
   "outputs": [],
   "source": [
    "# Let's handle units\n",
    "from astropy import units as u\n",
    "\n",
    "# Structure to map healpix' levels to their angular sizes\n",
    "#\n",
    "healpix_levels = {\n",
    "    0  : 58.63 * u.deg,\n",
    "    1  : 29.32 * u.deg, \n",
    "    2  : 14.66 * u.deg, \n",
    "    3  : 7.329 * u.deg, \n",
    "    4  : 3.665 * u.deg, \n",
    "    5  : 1.832 * u.deg, \n",
    "    6  : 54.97 * u.arcmin, \n",
    "    7  : 27.48 * u.arcmin, \n",
    "    8  : 13.74 * u.arcmin, \n",
    "    9  : 6.871 * u.arcmin, \n",
    "    10 : 3.435 * u.arcmin, \n",
    "    11 : 1.718 * u.arcmin, \n",
    "    12 : 51.53 * u.arcsec, \n",
    "    13 : 25.77 * u.arcsec, \n",
    "    14 : 12.88 * u.arcsec, \n",
    "    15 : 6.442 * u.arcsec,\n",
    "    16 : 3.221 * u.arcsec,\n",
    "    17 : 1.61 * u.arcsec,\n",
    "    18 : 805.2 * u.milliarcsecond,\n",
    "    19 : 402.6 * u.milliarcsecond,\n",
    "    20 : 201.3 * u.milliarcsecond,\n",
    "    21 : 100.6 * u.milliarcsecond,\n",
    "    22 : 50.32 * u.milliarcsecond,\n",
    "    23 : 25.16 * u.milliarcsecond,\n",
    "    24 : 12.58 * u.milliarcsecond,\n",
    "    25 : 6.291 * u.milliarcsecond,\n",
    "    26 : 3.145 * u.milliarcsecond,\n",
    "    27 : 1.573 * u.milliarcsecond,\n",
    "    28 : 786.3 * u.microarcsecond,\n",
    "    29 : 393.2 * u.microarcsecond\n",
    "}"
   ]
  },
  {
   "cell_type": "markdown",
   "metadata": {},
   "source": [
    "The libraries we can use to generate/manipulate Healpix/MOC maps are:\n",
    "* [healpy](http://healpy.readthedocs.io/en/latest/)\n",
    "* [mocpy](https://github.com/tboch/mocpy)\n",
    "* [healpix_util](https://github.com/esheldon/healpix_util)"
   ]
  },
  {
   "cell_type": "code",
   "execution_count": 2,
   "metadata": {
    "collapsed": false
   },
   "outputs": [
    {
     "name": "stderr",
     "output_type": "stream",
     "text": [
      "/home/chbrandt/.conda/envs/booq-dev/lib/python2.7/site-packages/matplotlib/font_manager.py:273: UserWarning: Matplotlib is building the font cache using fc-list. This may take a moment.\n",
      "  warnings.warn('Matplotlib is building the font cache using fc-list. This may take a moment.')\n"
     ]
    }
   ],
   "source": [
    "# as usual, matplotlib\n",
    "%matplotlib inline\n",
    "import matplotlib.pyplot as plt\n",
    "\n",
    "# Load Healpix\n",
    "import healpy\n",
    "\n",
    "# Erin Sheldon's healpix_util\n",
    "import healpix_util as hu\n",
    "\n",
    "# Thomas Boch's MOCpy\n",
    "import mocpy"
   ]
  },
  {
   "cell_type": "code",
   "execution_count": 3,
   "metadata": {
    "collapsed": false
   },
   "outputs": [
    {
     "name": "stdout",
     "output_type": "stream",
     "text": [
      "chandra_MOC.fits\r\n",
      "chandra_MOC_radec.fits\r\n",
      "chandra_MOC_uniq.fits\r\n",
      "Chandra_multiwavelength.fits\r\n",
      "Chandra_multiwavelength_MOC_position.fit\r\n",
      "Chandra_multiwavelength_MOC_uniq.fit\r\n",
      "hpix_test.fits\r\n",
      "moc_notes.ipynb\r\n",
      "\u001b[0m\u001b[01;36mphotometry\u001b[0m@\r\n",
      "xmm_MOC_radec.fits\r\n",
      "xmm_MOC_uniq.fits\r\n",
      "XMM_multiwavelength_cat.fits\r\n",
      "XMM_multiwavelength_cat_MOC_position.fit\r\n",
      "XMM_multiwavelength_cat_MOC_uniq.fit\r\n"
     ]
    }
   ],
   "source": [
    "%ls"
   ]
  },
  {
   "cell_type": "code",
   "execution_count": 4,
   "metadata": {
    "collapsed": true
   },
   "outputs": [],
   "source": [
    "from astropy.io import fits\n",
    "chandra = fits.open('Chandra_multiwavelength.fits')[1]"
   ]
  },
  {
   "cell_type": "code",
   "execution_count": 5,
   "metadata": {
    "collapsed": false
   },
   "outputs": [
    {
     "name": "stdout",
     "output_type": "stream",
     "text": [
      "ColDefs(\n",
      "    name = 'MSID'; format = '12A'\n",
      "    name = 'OBSID'; format = '5A'\n",
      "    name = 'RA'; format = 'D'\n",
      "    name = 'DEC'; format = 'D'\n",
      "    name = 'RADEC_ERR'; format = 'E'\n",
      "    name = 'DIST_NN'; format = 'E'\n",
      "    name = 'SOFT_FLUX'; format = 'E'\n",
      "    name = 'SOFT_FLUX_ERROR_HIGH'; format = 'E'\n",
      "    name = 'SOFT_FLUX_ERROR_LOW'; format = 'E'\n",
      "    name = 'HARD_FLUX'; format = 'E'\n",
      "    name = 'HARD_FLUX_ERROR_HIGH'; format = 'E'\n",
      "    name = 'HARD_FLUX_ERROR_LOW'; format = 'E'\n",
      "    name = 'FULL_FLUX'; format = 'E'\n",
      "    name = 'FULL_FLUX_ERROR_HIGH'; format = 'E'\n",
      "    name = 'FULL_FLUX_ERROR_LOW'; format = 'E'\n",
      "    name = 'LUM_SOFT'; format = 'D'\n",
      "    name = 'LUM_HARD'; format = 'D'\n",
      "    name = 'LUM_FULL'; format = 'D'\n",
      "    name = 'IN_XMM'; format = '3A'\n",
      "    name = 'REMOVED_LOGN_LOGS'; format = '3A'\n",
      "    name = 'SDSS_REJ'; format = '3A'\n",
      "    name = 'SDSS_OBJID'; format = '22A'\n",
      "    name = 'SDSS_RA'; format = 'D'\n",
      "    name = 'SDSS_DEC'; format = 'D'\n",
      "    name = 'SDSS_REL'; format = 'E'\n",
      "    name = 'SDSS_DIST'; format = 'E'\n",
      "    name = 'U_MAG'; format = 'E'\n",
      "    name = 'U_ERR'; format = 'E'\n",
      "    name = 'G_MAG'; format = 'E'\n",
      "    name = 'G_ERR'; format = 'E'\n",
      "    name = 'R_MAG'; format = 'E'\n",
      "    name = 'R_ERR'; format = 'E'\n",
      "    name = 'I_MAG'; format = 'E'\n",
      "    name = 'I_ERR'; format = 'E'\n",
      "    name = 'Z_MAG'; format = 'E'\n",
      "    name = 'Z_ERR'; format = 'E'\n",
      "    name = 'SPECOBJID'; format = '22A'\n",
      "    name = 'CLASS'; format = '6A'\n",
      "    name = 'REDSHIFT'; format = 'E'\n",
      "    name = 'Z_SRC'; format = 'I'\n",
      "    name = 'WISE_NAME'; format = '19A'\n",
      "    name = 'WISE_RA'; format = 'D'\n",
      "    name = 'WISE_DEC'; format = 'D'\n",
      "    name = 'WISE_SIGRA'; format = 'E'\n",
      "    name = 'WISE_SIGDEC'; format = 'E'\n",
      "    name = 'WISE_REL'; format = 'E'\n",
      "    name = 'WISE_DIST'; format = 'E'\n",
      "    name = 'W1'; format = 'E'\n",
      "    name = 'W1SIG'; format = 'E'\n",
      "    name = 'W1SNR'; format = 'E'\n",
      "    name = 'W2'; format = 'E'\n",
      "    name = 'W2SIG'; format = 'E'\n",
      "    name = 'W2SNR'; format = 'E'\n",
      "    name = 'W3'; format = 'E'\n",
      "    name = 'W3SIG'; format = 'E'\n",
      "    name = 'W3SNR'; format = 'E'\n",
      "    name = 'W4'; format = 'E'\n",
      "    name = 'W4SIG'; format = 'E'\n",
      "    name = 'W4SNR'; format = 'E'\n",
      "    name = 'WISE_EXT'; format = '3A'\n",
      "    name = 'WISE_REJ'; format = '3A'\n",
      "    name = 'UKIDSS_ID'; format = '22A'\n",
      "    name = 'UKIDSS_RA'; format = 'D'\n",
      "    name = 'UKIDSS_DEC'; format = 'D'\n",
      "    name = 'UKIDSS_REL'; format = 'E'\n",
      "    name = 'UKIDSS_DIST'; format = 'E'\n",
      "    name = 'YMAG'; format = 'E'\n",
      "    name = 'YSIG'; format = 'E'\n",
      "    name = 'HMAG'; format = 'E'\n",
      "    name = 'HSIG'; format = 'E'\n",
      "    name = 'JMAG'; format = 'E'\n",
      "    name = 'JSIG'; format = 'E'\n",
      "    name = 'KMAG'; format = 'E'\n",
      "    name = 'KSIG'; format = 'E'\n",
      "    name = 'UKIDSS_REJ'; format = '2A'\n",
      "    name = 'GALEX_OBJID'; format = '22A'\n",
      "    name = 'GALEX_RA'; format = 'D'\n",
      "    name = 'GALEX_DEC'; format = 'D'\n",
      "    name = 'NUV_POSERR'; format = 'E'\n",
      "    name = 'FUV_POSERR'; format = 'E'\n",
      "    name = 'GALEX_REL'; format = 'E'\n",
      "    name = 'GALEX_DIST'; format = 'E'\n",
      "    name = 'NUV_MAG'; format = 'E'\n",
      "    name = 'NUV_MAGERR'; format = 'E'\n",
      "    name = 'FUV_MAG'; format = 'E'\n",
      "    name = 'FUV_MAGERR'; format = 'E'\n",
      "    name = 'FIRST_NAME'; format = '22A'\n",
      "    name = 'FIRST_RA'; format = 'D'\n",
      "    name = 'FIRST_DEC'; format = 'D'\n",
      "    name = 'FIRST_DIST'; format = 'E'\n",
      "    name = 'FIRST_FLUX'; format = 'E'\n",
      "    name = 'FIRST_ERR'; format = 'E'\n",
      ")\n"
     ]
    }
   ],
   "source": [
    "print chandra.columns"
   ]
  },
  {
   "cell_type": "code",
   "execution_count": 6,
   "metadata": {
    "collapsed": true
   },
   "outputs": [],
   "source": [
    "# we are interested here on columns 'RA','DEC' and 'RADEC_ERR'\n",
    "_data = {'ra' : chandra.data['RA'] * u.degree,\n",
    "         'dec': chandra.data['DEC']* u.degree,\n",
    "         'pos_err' : chandra.data['RADEC_ERR']* u.arcsec}\n"
   ]
  },
  {
   "cell_type": "code",
   "execution_count": 7,
   "metadata": {
    "collapsed": true
   },
   "outputs": [],
   "source": [
    "from astropy.table import Table\n",
    "_table = Table(_data)"
   ]
  },
  {
   "cell_type": "code",
   "execution_count": 8,
   "metadata": {
    "collapsed": true
   },
   "outputs": [],
   "source": [
    "import pandas as pd\n",
    "df = _table.to_pandas()\n",
    "del _table,_data"
   ]
  },
  {
   "cell_type": "code",
   "execution_count": 9,
   "metadata": {
    "collapsed": false
   },
   "outputs": [
    {
     "data": {
      "image/png": "[encoded data removed]",
      "text/plain": [
       "<matplotlib.figure.Figure at 0x7f8a942f0a90>"
      ]
     },
     "metadata": {},
     "output_type": "display_data"
    }
   ],
   "source": [
    "df.hist('pos_err',bins=100)\n",
    "plt.show()"
   ]
  },
  {
   "cell_type": "code",
   "execution_count": 10,
   "metadata": {
    "collapsed": false
   },
   "outputs": [
    {
     "data": {
      "text/html": [
       "<div>\n",
       "<table border=\"1\" class=\"dataframe\">\n",
       "  <thead>\n",
       "    <tr style=\"text-align: right;\">\n",
       "      <th></th>\n",
       "      <th>pos_err</th>\n",
       "      <th>dec</th>\n",
       "      <th>ra</th>\n",
       "    </tr>\n",
       "  </thead>\n",
       "  <tbody>\n",
       "    <tr>\n",
       "      <th>count</th>\n",
       "      <td>1146.000000</td>\n",
       "      <td>1146.000000</td>\n",
       "      <td>1146.000000</td>\n",
       "    </tr>\n",
       "    <tr>\n",
       "      <th>mean</th>\n",
       "      <td>3.843827</td>\n",
       "      <td>0.000751</td>\n",
       "      <td>140.746472</td>\n",
       "    </tr>\n",
       "    <tr>\n",
       "      <th>std</th>\n",
       "      <td>5.928429</td>\n",
       "      <td>0.661640</td>\n",
       "      <td>153.277263</td>\n",
       "    </tr>\n",
       "    <tr>\n",
       "      <th>min</th>\n",
       "      <td>0.286456</td>\n",
       "      <td>-1.456419</td>\n",
       "      <td>0.508337</td>\n",
       "    </tr>\n",
       "    <tr>\n",
       "      <th>25%</th>\n",
       "      <td>1.060410</td>\n",
       "      <td>-0.438103</td>\n",
       "      <td>19.782000</td>\n",
       "    </tr>\n",
       "    <tr>\n",
       "      <th>50%</th>\n",
       "      <td>1.820468</td>\n",
       "      <td>0.190696</td>\n",
       "      <td>40.538004</td>\n",
       "    </tr>\n",
       "    <tr>\n",
       "      <th>75%</th>\n",
       "      <td>3.849702</td>\n",
       "      <td>0.443856</td>\n",
       "      <td>334.452789</td>\n",
       "    </tr>\n",
       "    <tr>\n",
       "      <th>max</th>\n",
       "      <td>45.977352</td>\n",
       "      <td>1.485215</td>\n",
       "      <td>359.706421</td>\n",
       "    </tr>\n",
       "  </tbody>\n",
       "</table>\n",
       "</div>"
      ],
      "text/plain": [
       "           pos_err          dec           ra\n",
       "count  1146.000000  1146.000000  1146.000000\n",
       "mean      3.843827     0.000751   140.746472\n",
       "std       5.928429     0.661640   153.277263\n",
       "min       0.286456    -1.456419     0.508337\n",
       "25%       1.060410    -0.438103    19.782000\n",
       "50%       1.820468     0.190696    40.538004\n",
       "75%       3.849702     0.443856   334.452789\n",
       "max      45.977352     1.485215   359.706421"
      ]
     },
     "execution_count": 10,
     "metadata": {},
     "output_type": "execute_result"
    }
   ],
   "source": [
    "df.describe()"
   ]
  },
  {
   "cell_type": "code",
   "execution_count": 11,
   "metadata": {
    "collapsed": true
   },
   "outputs": [],
   "source": [
    "# A function to find out which healpix level corresponds a given (typical) size of coverage\n",
    "def size2level(size):\n",
    "    \"\"\"\n",
    "    Returns nearest Healpix level corresponding to a given diamond size\n",
    "    \n",
    "    The 'nearest' Healpix level is here to be the nearest greater level, \n",
    "    right before the first level smaller than 'size'.\n",
    "    \"\"\"\n",
    "    assert size.unit\n",
    "    ko = None\n",
    "    for k,v in healpix_levels.iteritems():\n",
    "        if v < 2 * size:\n",
    "            break\n",
    "        ko = k\n",
    "    return ko\n"
   ]
  },
  {
   "cell_type": "code",
   "execution_count": 12,
   "metadata": {
    "collapsed": false
   },
   "outputs": [],
   "source": [
    "level = size2level(df.pos_err.median()* u.arcsec)\n",
    "nside = 2**level"
   ]
  },
  {
   "cell_type": "code",
   "execution_count": 13,
   "metadata": {
    "collapsed": false
   },
   "outputs": [
    {
     "name": "stdout",
     "output_type": "stream",
     "text": [
      "Typical (median) position error: \n",
      "1.82046747208\n",
      "\n",
      "Correspondig healpix level: 15 \n",
      "\t and nsize value: 32768\n"
     ]
    }
   ],
   "source": [
    "print \"Typical (median) position error: \\n{}\".format(df.pos_err.median())\n",
    "print \"\\nCorrespondig healpix level: {} \\n\\t and nsize value: {}\".format(level,nside)"
   ]
  },
  {
   "cell_type": "code",
   "execution_count": 14,
   "metadata": {
    "collapsed": true
   },
   "outputs": [],
   "source": [
    "# Let's convert from ra,dec to theta,phi\n",
    "# This function comes from mocpy\n",
    "def ra2phi(ra):\n",
    "    \"\"\"\n",
    "    convert equatorial ra, dec in degrees\n",
    "    to polar theta, phi in radians\n",
    "    \"\"\"\n",
    "    import math\n",
    "    return math.radians(ra)\n",
    "\n",
    "def dec2theta(dec):\n",
    "    \"\"\"\n",
    "    convert equatorial ra, dec in degrees\n",
    "    to polar theta, phi in radians\n",
    "    \"\"\"\n",
    "    import math\n",
    "    return math.pi/2 - math.radians(dec)\n",
    "\n",
    "def radec2thetaphi(ra,dec):\n",
    "    _phi = ra2phi(ra)\n",
    "    _theta = dec2theta(dec)\n",
    "    return _theta,_phi"
   ]
  },
  {
   "cell_type": "code",
   "execution_count": 15,
   "metadata": {
    "collapsed": true
   },
   "outputs": [],
   "source": [
    "import healpy\n",
    "def healpix_radec2pix(nside, ra, dec, nest=True):\n",
    "    _theta,_phi = radec2thetaphi(ra, dec)\n",
    "    return healpy.ang2pix(nside, _theta, _phi, nest=nest)"
   ]
  },
  {
   "cell_type": "code",
   "execution_count": 16,
   "metadata": {
    "collapsed": false
   },
   "outputs": [],
   "source": [
    "df['phi'] = df.ra.apply(ra2phi)\n",
    "df['theta'] = df.dec.apply(dec2theta)"
   ]
  },
  {
   "cell_type": "code",
   "execution_count": 17,
   "metadata": {
    "collapsed": false
   },
   "outputs": [
    {
     "data": {
      "text/html": [
       "<div>\n",
       "<table border=\"1\" class=\"dataframe\">\n",
       "  <thead>\n",
       "    <tr style=\"text-align: right;\">\n",
       "      <th></th>\n",
       "      <th>pos_err</th>\n",
       "      <th>dec</th>\n",
       "      <th>ra</th>\n",
       "      <th>phi</th>\n",
       "      <th>theta</th>\n",
       "    </tr>\n",
       "  </thead>\n",
       "  <tbody>\n",
       "    <tr>\n",
       "      <th>count</th>\n",
       "      <td>1146.000000</td>\n",
       "      <td>1146.000000</td>\n",
       "      <td>1146.000000</td>\n",
       "      <td>1146.000000</td>\n",
       "      <td>1146.000000</td>\n",
       "    </tr>\n",
       "    <tr>\n",
       "      <th>mean</th>\n",
       "      <td>3.843827</td>\n",
       "      <td>0.000751</td>\n",
       "      <td>140.746472</td>\n",
       "      <td>2.456489</td>\n",
       "      <td>1.570783</td>\n",
       "    </tr>\n",
       "    <tr>\n",
       "      <th>std</th>\n",
       "      <td>5.928429</td>\n",
       "      <td>0.661640</td>\n",
       "      <td>153.277263</td>\n",
       "      <td>2.675193</td>\n",
       "      <td>0.011548</td>\n",
       "    </tr>\n",
       "    <tr>\n",
       "      <th>min</th>\n",
       "      <td>0.286456</td>\n",
       "      <td>-1.456419</td>\n",
       "      <td>0.508337</td>\n",
       "      <td>0.008872</td>\n",
       "      <td>1.544874</td>\n",
       "    </tr>\n",
       "    <tr>\n",
       "      <th>25%</th>\n",
       "      <td>1.060410</td>\n",
       "      <td>-0.438103</td>\n",
       "      <td>19.782000</td>\n",
       "      <td>0.345261</td>\n",
       "      <td>1.563050</td>\n",
       "    </tr>\n",
       "    <tr>\n",
       "      <th>50%</th>\n",
       "      <td>1.820468</td>\n",
       "      <td>0.190696</td>\n",
       "      <td>40.538004</td>\n",
       "      <td>0.707522</td>\n",
       "      <td>1.567468</td>\n",
       "    </tr>\n",
       "    <tr>\n",
       "      <th>75%</th>\n",
       "      <td>3.849702</td>\n",
       "      <td>0.443856</td>\n",
       "      <td>334.452789</td>\n",
       "      <td>5.837302</td>\n",
       "      <td>1.578443</td>\n",
       "    </tr>\n",
       "    <tr>\n",
       "      <th>max</th>\n",
       "      <td>45.977352</td>\n",
       "      <td>1.485215</td>\n",
       "      <td>359.706421</td>\n",
       "      <td>6.278061</td>\n",
       "      <td>1.596216</td>\n",
       "    </tr>\n",
       "  </tbody>\n",
       "</table>\n",
       "</div>"
      ],
      "text/plain": [
       "           pos_err          dec           ra          phi        theta\n",
       "count  1146.000000  1146.000000  1146.000000  1146.000000  1146.000000\n",
       "mean      3.843827     0.000751   140.746472     2.456489     1.570783\n",
       "std       5.928429     0.661640   153.277263     2.675193     0.011548\n",
       "min       0.286456    -1.456419     0.508337     0.008872     1.544874\n",
       "25%       1.060410    -0.438103    19.782000     0.345261     1.563050\n",
       "50%       1.820468     0.190696    40.538004     0.707522     1.567468\n",
       "75%       3.849702     0.443856   334.452789     5.837302     1.578443\n",
       "max      45.977352     1.485215   359.706421     6.278061     1.596216"
      ]
     },
     "execution_count": 17,
     "metadata": {},
     "output_type": "execute_result"
    }
   ],
   "source": [
    "df.describe()"
   ]
  },
  {
   "cell_type": "code",
   "execution_count": 18,
   "metadata": {
    "collapsed": false
   },
   "outputs": [
    {
     "data": {
      "text/plain": [
       "True"
      ]
     },
     "execution_count": 18,
     "metadata": {},
     "output_type": "execute_result"
    }
   ],
   "source": [
    "hp_pix_eq = df.apply(lambda x:healpix_radec2pix(nside,x.ra,x.dec,nest=True), axis=1)\n",
    "hp_pix_ang = df.apply(lambda x:healpy.ang2pix(nside,x.theta,x.phi,nest=True), axis=1)\n",
    "import numpy\n",
    "numpy.array_equal(hp_pix_ang,hp_pix_eq)"
   ]
  },
  {
   "cell_type": "markdown",
   "metadata": {},
   "source": [
    "### Let's do the same with healpix_util now"
   ]
  },
  {
   "cell_type": "code",
   "execution_count": 19,
   "metadata": {
    "collapsed": false
   },
   "outputs": [
    {
     "data": {
      "text/plain": [
       "scheme:       2\n",
       "scheme_name:  NEST\n",
       "nside:        32768\n",
       "npix:         12884901888\n",
       "ncap:         2147418112\n",
       "area:         9.75279e-10 square degrees\n",
       "area:         3.511e-06 square arcmin\n",
       "area:         0.0126396 square arcsec"
      ]
     },
     "execution_count": 19,
     "metadata": {},
     "output_type": "execute_result"
    }
   ],
   "source": [
    "hpix = hu.HealPix(scheme='nest',nside=nside)\n",
    "hpix"
   ]
  },
  {
   "cell_type": "code",
   "execution_count": 20,
   "metadata": {
    "collapsed": false
   },
   "outputs": [
    {
     "data": {
      "text/plain": [
       "True"
      ]
     },
     "execution_count": 20,
     "metadata": {},
     "output_type": "execute_result"
    }
   ],
   "source": [
    "hu_pix = hpix.eq2pix(ra=df.ra,dec=df.dec)\n",
    "numpy.array_equal(hu_pix,hp_pix_ang) and numpy.array_equal(hu_pix,hp_pix_eq)"
   ]
  },
  {
   "cell_type": "code",
   "execution_count": 21,
   "metadata": {
    "collapsed": false
   },
   "outputs": [
    {
     "name": "stdout",
     "output_type": "stream",
     "text": [
      "10000 loops, best of 3: 136 µs per loop\n",
      "10 loops, best of 3: 103 ms per loop\n"
     ]
    }
   ],
   "source": [
    "# Curiosity: which one is faster?\n",
    "%timeit hpix.eq2pix(ra=df.ra,dec=df.dec)\n",
    "%timeit df.apply(lambda x:healpix_radec2pix(nside,x.ra,x.dec,nest=True), axis=1)"
   ]
  },
  {
   "cell_type": "code",
   "execution_count": 22,
   "metadata": {
    "collapsed": true
   },
   "outputs": [],
   "source": [
    "# So...all results are equal \\o/ and ES's is faster\n",
    "# we can now go on and put it inside our DataFrame\n",
    "df['hpix'] = hu_pix"
   ]
  },
  {
   "cell_type": "code",
   "execution_count": 23,
   "metadata": {
    "collapsed": false
   },
   "outputs": [
    {
     "data": {
      "text/html": [
       "<div>\n",
       "<table border=\"1\" class=\"dataframe\">\n",
       "  <thead>\n",
       "    <tr style=\"text-align: right;\">\n",
       "      <th></th>\n",
       "      <th>pos_err</th>\n",
       "      <th>dec</th>\n",
       "      <th>ra</th>\n",
       "      <th>phi</th>\n",
       "      <th>theta</th>\n",
       "      <th>hpix</th>\n",
       "    </tr>\n",
       "  </thead>\n",
       "  <tbody>\n",
       "    <tr>\n",
       "      <th>count</th>\n",
       "      <td>1146.000000</td>\n",
       "      <td>1146.000000</td>\n",
       "      <td>1146.000000</td>\n",
       "      <td>1146.000000</td>\n",
       "      <td>1146.000000</td>\n",
       "      <td>1.146000e+03</td>\n",
       "    </tr>\n",
       "    <tr>\n",
       "      <th>mean</th>\n",
       "      <td>3.843827</td>\n",
       "      <td>0.000751</td>\n",
       "      <td>140.746472</td>\n",
       "      <td>2.456489</td>\n",
       "      <td>1.570783</td>\n",
       "      <td>5.060538e+09</td>\n",
       "    </tr>\n",
       "    <tr>\n",
       "      <th>std</th>\n",
       "      <td>5.928429</td>\n",
       "      <td>0.661640</td>\n",
       "      <td>153.277263</td>\n",
       "      <td>2.675193</td>\n",
       "      <td>0.011548</td>\n",
       "      <td>1.065304e+09</td>\n",
       "    </tr>\n",
       "    <tr>\n",
       "      <th>min</th>\n",
       "      <td>0.286456</td>\n",
       "      <td>-1.456419</td>\n",
       "      <td>0.508337</td>\n",
       "      <td>0.008872</td>\n",
       "      <td>1.544874</td>\n",
       "      <td>4.563039e+09</td>\n",
       "    </tr>\n",
       "    <tr>\n",
       "      <th>25%</th>\n",
       "      <td>1.060410</td>\n",
       "      <td>-0.438103</td>\n",
       "      <td>19.782000</td>\n",
       "      <td>0.345261</td>\n",
       "      <td>1.563050</td>\n",
       "      <td>4.658948e+09</td>\n",
       "    </tr>\n",
       "    <tr>\n",
       "      <th>50%</th>\n",
       "      <td>1.820468</td>\n",
       "      <td>0.190696</td>\n",
       "      <td>40.538004</td>\n",
       "      <td>0.707522</td>\n",
       "      <td>1.567468</td>\n",
       "      <td>4.741912e+09</td>\n",
       "    </tr>\n",
       "    <tr>\n",
       "      <th>75%</th>\n",
       "      <td>3.849702</td>\n",
       "      <td>0.443856</td>\n",
       "      <td>334.452789</td>\n",
       "      <td>5.837302</td>\n",
       "      <td>1.578443</td>\n",
       "      <td>4.928342e+09</td>\n",
       "    </tr>\n",
       "    <tr>\n",
       "      <th>max</th>\n",
       "      <td>45.977352</td>\n",
       "      <td>1.485215</td>\n",
       "      <td>359.706421</td>\n",
       "      <td>6.278061</td>\n",
       "      <td>1.596216</td>\n",
       "      <td>9.663631e+09</td>\n",
       "    </tr>\n",
       "  </tbody>\n",
       "</table>\n",
       "</div>"
      ],
      "text/plain": [
       "           pos_err          dec           ra          phi        theta  \\\n",
       "count  1146.000000  1146.000000  1146.000000  1146.000000  1146.000000   \n",
       "mean      3.843827     0.000751   140.746472     2.456489     1.570783   \n",
       "std       5.928429     0.661640   153.277263     2.675193     0.011548   \n",
       "min       0.286456    -1.456419     0.508337     0.008872     1.544874   \n",
       "25%       1.060410    -0.438103    19.782000     0.345261     1.563050   \n",
       "50%       1.820468     0.190696    40.538004     0.707522     1.567468   \n",
       "75%       3.849702     0.443856   334.452789     5.837302     1.578443   \n",
       "max      45.977352     1.485215   359.706421     6.278061     1.596216   \n",
       "\n",
       "               hpix  \n",
       "count  1.146000e+03  \n",
       "mean   5.060538e+09  \n",
       "std    1.065304e+09  \n",
       "min    4.563039e+09  \n",
       "25%    4.658948e+09  \n",
       "50%    4.741912e+09  \n",
       "75%    4.928342e+09  \n",
       "max    9.663631e+09  "
      ]
     },
     "execution_count": 23,
     "metadata": {},
     "output_type": "execute_result"
    }
   ],
   "source": [
    "df.describe()"
   ]
  },
  {
   "cell_type": "markdown",
   "metadata": {},
   "source": [
    "### MOCpy for visualizing and writing the maps"
   ]
  },
  {
   "cell_type": "code",
   "execution_count": 24,
   "metadata": {
    "collapsed": false
   },
   "outputs": [],
   "source": [
    "moc = mocpy.MOC()\n",
    "moc.add_pix_list(level,df.hpix)"
   ]
  },
  {
   "cell_type": "code",
   "execution_count": 25,
   "metadata": {
    "collapsed": false
   },
   "outputs": [
    {
     "name": "stdout",
     "output_type": "stream",
     "text": [
      "0.0 180.0 -180.0 180.0\n",
      "The interval between parallels is 30 deg -0.00'.\n",
      "The interval between meridians is 30 deg -0.00'.\n"
     ]
    },
    {
     "data": {
      "image/png": "[encoded data removed]",
      "text/plain": [
       "<matplotlib.figure.Figure at 0x7f8a6e43f4d0>"
      ]
     },
     "metadata": {},
     "output_type": "display_data"
    }
   ],
   "source": [
    "moc.plot()"
   ]
  },
  {
   "cell_type": "code",
   "execution_count": 26,
   "metadata": {
    "collapsed": false
   },
   "outputs": [],
   "source": [
    "moc.write('chandra_MOC_uniq.fits')"
   ]
  },
  {
   "cell_type": "code",
   "execution_count": 27,
   "metadata": {
    "collapsed": false
   },
   "outputs": [],
   "source": [
    "table = Table.from_pandas(df)\n",
    "table.write('chandra_MOC_radec.fits',format='fits',overwrite=True)"
   ]
  },
  {
   "cell_type": "code",
   "execution_count": 28,
   "metadata": {
    "collapsed": false
   },
   "outputs": [
    {
     "name": "stdout",
     "output_type": "stream",
     "text": [
      "total 2,4M\r\n",
      "-rw-r--r-- 1 chbrandt chbrandt  17K mag 11 14:06 chandra_MOC.fits\r\n",
      "-rw-r--r-- 1 chbrandt chbrandt  57K mag 13 16:09 chandra_MOC_radec.fits\r\n",
      "-rw-r--r-- 1 chbrandt chbrandt  17K mag 13 16:09 chandra_MOC_uniq.fits\r\n",
      "-rw-r--r-- 1 chbrandt chbrandt 642K mag 11 00:13 Chandra_multiwavelength.fits\r\n",
      "-rw-r--r-- 1 chbrandt chbrandt  40K mag 12 10:47 Chandra_multiwavelength_MOC_position.fit\r\n",
      "-rw-r--r-- 1 chbrandt chbrandt  17K mag 12 10:19 Chandra_multiwavelength_MOC_uniq.fit\r\n",
      "-rw-r--r-- 1 chbrandt chbrandt  17K mag 11 12:43 hpix_test.fits\r\n",
      "-rw-r--r-- 1 chbrandt chbrandt 193K mag 13 16:08 moc_notes.ipynb\r\n",
      "lrwxrwxrwx 1 chbrandt chbrandt   42 mag 11 18:02 \u001b[0m\u001b[01;36mphotometry\u001b[0m -> \u001b[01;34m/home/chbrandt/Desktop/Catalogs/photometry\u001b[0m/\r\n",
      "-rw-r--r-- 1 chbrandt chbrandt  71K mag 12 10:47 xmm_MOC_radec.fits\r\n",
      "-rw-r--r-- 1 chbrandt chbrandt  26K mag 12 10:47 xmm_MOC_uniq.fits\r\n",
      "-rw-r----- 1 chbrandt chbrandt 1,3M mag 11 00:13 XMM_multiwavelength_cat.fits\r\n",
      "-rw-r--r-- 1 chbrandt chbrandt  71K mag 12 10:47 XMM_multiwavelength_cat_MOC_position.fit\r\n",
      "-rw-r--r-- 1 chbrandt chbrandt  26K mag 12 10:20 XMM_multiwavelength_cat_MOC_uniq.fit\r\n"
     ]
    }
   ],
   "source": [
    "del df,table,moc,chandra,hpix\n",
    "%ls -lh"
   ]
  },
  {
   "cell_type": "markdown",
   "metadata": {},
   "source": [
    "## MOC catalogs now for LaMassa's XMM"
   ]
  },
  {
   "cell_type": "code",
   "execution_count": 29,
   "metadata": {
    "collapsed": false
   },
   "outputs": [
    {
     "data": {
      "text/plain": [
       "['Rec_no',\n",
       " 'OBSID',\n",
       " 'RA',\n",
       " 'DEC',\n",
       " 'RADEC_ERR',\n",
       " 'DIST_NN',\n",
       " 'SOFT_FLUX',\n",
       " 'SOFT_FLUX_ERR',\n",
       " 'HARD_FLUX',\n",
       " 'HARD_FLUX_ERR',\n",
       " 'FULL_FLUX',\n",
       " 'FULL_FLUX_ERR',\n",
       " 'LUM_SOFT',\n",
       " 'LUM_HARD',\n",
       " 'LUM_FULL',\n",
       " 'IN_CHANDRA',\n",
       " 'REMOVED_LOGN_LOGS',\n",
       " 'SDSS_REJ',\n",
       " 'SDSS_OBJID',\n",
       " 'SDSS_RA',\n",
       " 'SDSS_DEC',\n",
       " 'SDSS_REL',\n",
       " 'SDSS_DIST',\n",
       " 'U_MAG',\n",
       " 'U_ERR',\n",
       " 'G_MAG',\n",
       " 'G_ERR',\n",
       " 'R_MAG',\n",
       " 'R_ERR',\n",
       " 'I_MAG',\n",
       " 'I_ERR',\n",
       " 'Z_MAG',\n",
       " 'Z_ERR',\n",
       " 'SPECOBJID',\n",
       " 'CLASS',\n",
       " 'REDSHIFT',\n",
       " 'Z_SRC',\n",
       " 'WISE_NAME',\n",
       " 'WISE_RA',\n",
       " 'WISE_DEC',\n",
       " 'WISE_SIGRA',\n",
       " 'WISE_SIGDEC',\n",
       " 'WISE_REL',\n",
       " 'WISE_DIST',\n",
       " 'W1',\n",
       " 'W1SIG',\n",
       " 'W1SNR',\n",
       " 'W2',\n",
       " 'W2SIG',\n",
       " 'W2SNR',\n",
       " 'W3',\n",
       " 'W3SIG',\n",
       " 'W3SNR',\n",
       " 'W4',\n",
       " 'W4SIG',\n",
       " 'W4SNR',\n",
       " 'WISE_EXT',\n",
       " 'WISE_REJ',\n",
       " 'UKIDSS_ID',\n",
       " 'UKIDSS_RA',\n",
       " 'UKIDSS_DEC',\n",
       " 'UKIDSS_REL',\n",
       " 'UKIDSS_DIST',\n",
       " 'YMAG',\n",
       " 'YSIG',\n",
       " 'HMAG',\n",
       " 'HSIG',\n",
       " 'JMAG',\n",
       " 'JSIG',\n",
       " 'KMAG',\n",
       " 'KSIG',\n",
       " 'UKIDSS_REJ',\n",
       " 'GALEX_OBJID',\n",
       " 'GALEX_RA',\n",
       " 'GALEX_DEC',\n",
       " 'NUV_POSERR',\n",
       " 'FUV_POSERR',\n",
       " 'GALEX_REL',\n",
       " 'GALEX_DIST',\n",
       " 'NUV_MAG',\n",
       " 'NUV_MAGERR',\n",
       " 'FUV_MAG',\n",
       " 'FUV_MAGERR',\n",
       " 'FIRST_NAME',\n",
       " 'FIRST_RA',\n",
       " 'FIRST_DEC',\n",
       " 'FIRST_DIST',\n",
       " 'FIRST_FLUX',\n",
       " 'FIRST_ERR']"
      ]
     },
     "execution_count": 29,
     "metadata": {},
     "output_type": "execute_result"
    }
   ],
   "source": [
    "from astropy.io import fits\n",
    "xmm = fits.open('XMM_multiwavelength_cat.fits')[1]\n",
    "xmm.columns.names"
   ]
  },
  {
   "cell_type": "code",
   "execution_count": 30,
   "metadata": {
    "collapsed": false
   },
   "outputs": [
    {
     "data": {
      "image/png": "[encoded data removed]",
      "text/plain": [
       "<matplotlib.figure.Figure at 0x7f8a6f910950>"
      ]
     },
     "metadata": {},
     "output_type": "display_data"
    },
    {
     "data": {
      "text/html": [
       "<div>\n",
       "<table border=\"1\" class=\"dataframe\">\n",
       "  <thead>\n",
       "    <tr style=\"text-align: right;\">\n",
       "      <th></th>\n",
       "      <th>pos_err</th>\n",
       "      <th>dec</th>\n",
       "      <th>ra</th>\n",
       "    </tr>\n",
       "  </thead>\n",
       "  <tbody>\n",
       "    <tr>\n",
       "      <th>count</th>\n",
       "      <td>2358.000000</td>\n",
       "      <td>2358.000000</td>\n",
       "      <td>2358.000000</td>\n",
       "    </tr>\n",
       "    <tr>\n",
       "      <th>mean</th>\n",
       "      <td>1.741642</td>\n",
       "      <td>0.025526</td>\n",
       "      <td>192.093970</td>\n",
       "    </tr>\n",
       "    <tr>\n",
       "      <th>std</th>\n",
       "      <td>1.133119</td>\n",
       "      <td>0.585738</td>\n",
       "      <td>156.350579</td>\n",
       "    </tr>\n",
       "    <tr>\n",
       "      <th>min</th>\n",
       "      <td>0.130762</td>\n",
       "      <td>-1.460235</td>\n",
       "      <td>0.979577</td>\n",
       "    </tr>\n",
       "    <tr>\n",
       "      <th>25%</th>\n",
       "      <td>0.877820</td>\n",
       "      <td>-0.337498</td>\n",
       "      <td>40.480099</td>\n",
       "    </tr>\n",
       "    <tr>\n",
       "      <th>50%</th>\n",
       "      <td>1.340686</td>\n",
       "      <td>0.061293</td>\n",
       "      <td>322.273299</td>\n",
       "    </tr>\n",
       "    <tr>\n",
       "      <th>75%</th>\n",
       "      <td>2.556118</td>\n",
       "      <td>0.445204</td>\n",
       "      <td>335.082306</td>\n",
       "    </tr>\n",
       "    <tr>\n",
       "      <th>max</th>\n",
       "      <td>7.202450</td>\n",
       "      <td>1.184374</td>\n",
       "      <td>359.805770</td>\n",
       "    </tr>\n",
       "  </tbody>\n",
       "</table>\n",
       "</div>"
      ],
      "text/plain": [
       "           pos_err          dec           ra\n",
       "count  2358.000000  2358.000000  2358.000000\n",
       "mean      1.741642     0.025526   192.093970\n",
       "std       1.133119     0.585738   156.350579\n",
       "min       0.130762    -1.460235     0.979577\n",
       "25%       0.877820    -0.337498    40.480099\n",
       "50%       1.340686     0.061293   322.273299\n",
       "75%       2.556118     0.445204   335.082306\n",
       "max       7.202450     1.184374   359.805770"
      ]
     },
     "execution_count": 30,
     "metadata": {},
     "output_type": "execute_result"
    }
   ],
   "source": [
    "# we are interested here on columns 'RA','DEC' and 'RADEC_ERR'\n",
    "_data = {'ra' : xmm.data['RA'] * u.degree,\n",
    "         'dec': xmm.data['DEC']* u.degree,\n",
    "         'pos_err' : xmm.data['RADEC_ERR']* u.arcsec}\n",
    "df = Table(_data).to_pandas()\n",
    "df.hist('pos_err',bins=100)\n",
    "plt.show()\n",
    "df.describe()"
   ]
  },
  {
   "cell_type": "code",
   "execution_count": 31,
   "metadata": {
    "collapsed": false
   },
   "outputs": [
    {
     "name": "stdout",
     "output_type": "stream",
     "text": [
      "Typical (median) position error: \n",
      "1.34068584442\n",
      "\n",
      "Correspondig healpix level: 16 \n",
      "\t and nsize value: 65536\n"
     ]
    }
   ],
   "source": [
    "level = size2level(df.pos_err.median()* u.arcsec)\n",
    "nside = 2**level\n",
    "print \"Typical (median) position error: \\n{}\".format(df.pos_err.median())\n",
    "print \"\\nCorrespondig healpix level: {} \\n\\t and nsize value: {}\".format(level,nside)"
   ]
  },
  {
   "cell_type": "code",
   "execution_count": 32,
   "metadata": {
    "collapsed": false
   },
   "outputs": [
    {
     "data": {
      "text/plain": [
       "scheme:       2\n",
       "scheme_name:  NEST\n",
       "nside:        65536\n",
       "npix:         51539607552\n",
       "ncap:         8589803520\n",
       "area:         2.4382e-10 square degrees\n",
       "area:         8.77751e-07 square arcmin\n",
       "area:         0.0031599 square arcsec"
      ]
     },
     "execution_count": 32,
     "metadata": {},
     "output_type": "execute_result"
    }
   ],
   "source": [
    "hpix = hu.HealPix(scheme='nest',nside=nside)\n",
    "hpix"
   ]
  },
  {
   "cell_type": "code",
   "execution_count": 33,
   "metadata": {
    "collapsed": false
   },
   "outputs": [
    {
     "data": {
      "text/html": [
       "<div>\n",
       "<table border=\"1\" class=\"dataframe\">\n",
       "  <thead>\n",
       "    <tr style=\"text-align: right;\">\n",
       "      <th></th>\n",
       "      <th>pos_err</th>\n",
       "      <th>dec</th>\n",
       "      <th>ra</th>\n",
       "      <th>hpix</th>\n",
       "    </tr>\n",
       "  </thead>\n",
       "  <tbody>\n",
       "    <tr>\n",
       "      <th>count</th>\n",
       "      <td>2358.000000</td>\n",
       "      <td>2358.000000</td>\n",
       "      <td>2358.000000</td>\n",
       "      <td>2.358000e+03</td>\n",
       "    </tr>\n",
       "    <tr>\n",
       "      <th>mean</th>\n",
       "      <td>1.741642</td>\n",
       "      <td>0.025526</td>\n",
       "      <td>192.093970</td>\n",
       "      <td>2.073992e+10</td>\n",
       "    </tr>\n",
       "    <tr>\n",
       "      <th>std</th>\n",
       "      <td>1.133119</td>\n",
       "      <td>0.585738</td>\n",
       "      <td>156.350579</td>\n",
       "      <td>3.535239e+09</td>\n",
       "    </tr>\n",
       "    <tr>\n",
       "      <th>min</th>\n",
       "      <td>0.130762</td>\n",
       "      <td>-1.460235</td>\n",
       "      <td>0.979577</td>\n",
       "      <td>1.825333e+10</td>\n",
       "    </tr>\n",
       "    <tr>\n",
       "      <th>25%</th>\n",
       "      <td>0.877820</td>\n",
       "      <td>-0.337498</td>\n",
       "      <td>40.480099</td>\n",
       "      <td>1.897169e+10</td>\n",
       "    </tr>\n",
       "    <tr>\n",
       "      <th>50%</th>\n",
       "      <td>1.340686</td>\n",
       "      <td>0.061293</td>\n",
       "      <td>322.273299</td>\n",
       "      <td>1.970228e+10</td>\n",
       "    </tr>\n",
       "    <tr>\n",
       "      <th>75%</th>\n",
       "      <td>2.556118</td>\n",
       "      <td>0.445204</td>\n",
       "      <td>335.082306</td>\n",
       "      <td>1.997022e+10</td>\n",
       "    </tr>\n",
       "    <tr>\n",
       "      <th>max</th>\n",
       "      <td>7.202450</td>\n",
       "      <td>1.184374</td>\n",
       "      <td>359.805770</td>\n",
       "      <td>3.865245e+10</td>\n",
       "    </tr>\n",
       "  </tbody>\n",
       "</table>\n",
       "</div>"
      ],
      "text/plain": [
       "           pos_err          dec           ra          hpix\n",
       "count  2358.000000  2358.000000  2358.000000  2.358000e+03\n",
       "mean      1.741642     0.025526   192.093970  2.073992e+10\n",
       "std       1.133119     0.585738   156.350579  3.535239e+09\n",
       "min       0.130762    -1.460235     0.979577  1.825333e+10\n",
       "25%       0.877820    -0.337498    40.480099  1.897169e+10\n",
       "50%       1.340686     0.061293   322.273299  1.970228e+10\n",
       "75%       2.556118     0.445204   335.082306  1.997022e+10\n",
       "max       7.202450     1.184374   359.805770  3.865245e+10"
      ]
     },
     "execution_count": 33,
     "metadata": {},
     "output_type": "execute_result"
    }
   ],
   "source": [
    "df['hpix'] = hpix.eq2pix(ra=df.ra,dec=df.dec)\n",
    "df.describe()"
   ]
  },
  {
   "cell_type": "code",
   "execution_count": 34,
   "metadata": {
    "collapsed": false
   },
   "outputs": [
    {
     "name": "stdout",
     "output_type": "stream",
     "text": [
      "0.0 180.0 -180.0 180.0\n",
      "The interval between parallels is 30 deg -0.00'.\n",
      "The interval between meridians is 30 deg -0.00'.\n"
     ]
    },
    {
     "data": {
      "image/png": "[encoded data removed]",
      "text/plain": [
       "<matplotlib.figure.Figure at 0x7f8a6ad06c50>"
      ]
     },
     "metadata": {},
     "output_type": "display_data"
    }
   ],
   "source": [
    "moc = mocpy.MOC()\n",
    "moc.add_pix_list(level,df.hpix)\n",
    "moc.plot()"
   ]
  },
  {
   "cell_type": "code",
   "execution_count": 35,
   "metadata": {
    "collapsed": true
   },
   "outputs": [],
   "source": [
    "moc.write('xmm_MOC_uniq.fits')\n",
    "table = Table.from_pandas(df)\n",
    "table.write('xmm_MOC_radec.fits',format='fits',overwrite=True)"
   ]
  },
  {
   "cell_type": "code",
   "execution_count": 36,
   "metadata": {
    "collapsed": false
   },
   "outputs": [
    {
     "name": "stdout",
     "output_type": "stream",
     "text": [
      "total 2,4M\r\n",
      "-rw-r--r-- 1 chbrandt chbrandt  17K mag 11 14:06 chandra_MOC.fits\r\n",
      "-rw-r--r-- 1 chbrandt chbrandt  57K mag 13 16:09 chandra_MOC_radec.fits\r\n",
      "-rw-r--r-- 1 chbrandt chbrandt  17K mag 13 16:09 chandra_MOC_uniq.fits\r\n",
      "-rw-r--r-- 1 chbrandt chbrandt 642K mag 11 00:13 Chandra_multiwavelength.fits\r\n",
      "-rw-r--r-- 1 chbrandt chbrandt  40K mag 12 10:47 Chandra_multiwavelength_MOC_position.fit\r\n",
      "-rw-r--r-- 1 chbrandt chbrandt  17K mag 12 10:19 Chandra_multiwavelength_MOC_uniq.fit\r\n",
      "-rw-r--r-- 1 chbrandt chbrandt  17K mag 11 12:43 hpix_test.fits\r\n",
      "-rw-r--r-- 1 chbrandt chbrandt 193K mag 13 16:08 moc_notes.ipynb\r\n",
      "lrwxrwxrwx 1 chbrandt chbrandt   42 mag 11 18:02 \u001b[0m\u001b[01;36mphotometry\u001b[0m -> \u001b[01;34m/home/chbrandt/Desktop/Catalogs/photometry\u001b[0m/\r\n",
      "-rw-r--r-- 1 chbrandt chbrandt  71K mag 13 16:09 xmm_MOC_radec.fits\r\n",
      "-rw-r--r-- 1 chbrandt chbrandt  26K mag 13 16:09 xmm_MOC_uniq.fits\r\n",
      "-rw-r----- 1 chbrandt chbrandt 1,3M mag 11 00:13 XMM_multiwavelength_cat.fits\r\n",
      "-rw-r--r-- 1 chbrandt chbrandt  71K mag 12 10:47 XMM_multiwavelength_cat_MOC_position.fit\r\n",
      "-rw-r--r-- 1 chbrandt chbrandt  26K mag 12 10:20 XMM_multiwavelength_cat_MOC_uniq.fit\r\n"
     ]
    }
   ],
   "source": [
    "%ls -lh"
   ]
  },
  {
   "cell_type": "markdown",
   "metadata": {},
   "source": [
    "## Automating MOC generation from fits files\n",
    "\n",
    "We need, to generate a coverage map, the following parameters:\n",
    "* R.A. vector\n",
    "* Dec. vector\n",
    "* size of the elements\n",
    "\n",
    "```\n",
    "Object::\n",
    "    given params:\n",
    "        _ra     -> <vector>\n",
    "        _dec    -> <vector>\n",
    "        _radius -> <vector>\n",
    "    computed params:\n",
    "        _healpix-level\n",
    "        _healpix-nside\n",
    "    output:\n",
    "        _moc-uniq <- <filename>\n",
    "        _moc-obj  <- <filename>\n",
    "```"
   ]
  },
  {
   "cell_type": "code",
   "execution_count": 37,
   "metadata": {
    "collapsed": false
   },
   "outputs": [],
   "source": [
    "def radec_2_moc(filename,ra_column,dec_column,radius_column=None,radius_value=None):\n",
    "    import healpix_util\n",
    "    import mocpy\n",
    "    \n",
    "    import time\n",
    "    start_all = time.clock()\n",
    "    \n",
    "    tbhdu = open_fits(filename)\n",
    "    table = radec_table(tbhdu,ra_column,dec_column,radius_column)\n",
    "    \n",
    "    start_convert = time.clock()\n",
    "    \n",
    "    if not radius_column:\n",
    "        if radius_value != None and radius_value > 0:\n",
    "            radius = radius_value\n",
    "        else:\n",
    "            from astropy import units\n",
    "            radius = 1 * units.arcsec\n",
    "    else:\n",
    "        radius = radius_mean(tbhdu,radius_column)\n",
    "    assert hasattr(radius,'unit')\n",
    "    level = size2level(radius)\n",
    "    nside = 2**level\n",
    "    hpix = healpix_util.HealPix('nest',nside)\n",
    "    table['hpix'] = hpix.eq2pix(table['ra'],table['dec'])\n",
    "\n",
    "    stop_convert = time.clock()\n",
    "    \n",
    "    fileroot = '.'.join(filename.split('.')[:-1])\n",
    "\n",
    "    start_write_normal = time.clock()\n",
    "\n",
    "    fileout = '_'.join([fileroot,'MOC_position.fit'])\n",
    "    table.write(fileout,format='fits',overwrite=True)\n",
    "\n",
    "    stop_write_normal = time.clock()\n",
    "\n",
    "    start_write_moc = time.clock()\n",
    "\n",
    "#     fileout = '_'.join([fileroot,'MOC_uniq.fit'])\n",
    "#     moc = mocpy.MOC()\n",
    "#     moc.add_pix_list(level,table['hpix'])\n",
    "#     moc.write(fileout)\n",
    "\n",
    "    stop_write_moc = time.clock()\n",
    "\n",
    "    stop_all = time.clock()\n",
    "    \n",
    "    _msg = \"Time elapsed converting pixels: {}\\n\".format(stop_convert-start_convert)\n",
    "    _msg += \"Time elapsed on writing the table: {}\\n\".format(stop_write_normal-start_write_normal)\n",
    "    _msg += \"Time elapsed on writing MOC: {}\\n\".format(stop_write_moc-start_write_moc)\n",
    "    _msg += \"Total time: {}\\n\".format(stop_all-start_all)\n",
    "    _msg += \"Number of points: {}\\n\".format(len(table))\n",
    "    return _msg\n",
    "    \n",
    "def open_fits(filename,hdu=1):\n",
    "    from astropy.io import fits\n",
    "    from astropy.units import Quantity\n",
    "\n",
    "    _tab = fits.open(filename,ignore_missing_end=True)[hdu]\n",
    "    return _tab\n",
    "\n",
    "def radec_table(tbhdu,ra_column,dec_column,radius_column=None):\n",
    "    from astropy.table import Table\n",
    "    from astropy import units\n",
    "    import numpy\n",
    "    _data = {'ra':tbhdu.data.field(ra_column) * units.deg,\n",
    "             'dec':tbhdu.data.field(dec_column) * units.deg,\n",
    "             'id':numpy.arange(tbhdu.header['NAXIS2'])}\n",
    "    if radius_column:\n",
    "        try:\n",
    "            _d = tbhdu.data.field(radius_column)\n",
    "            _data.update({'radius':_d})\n",
    "        except:\n",
    "            pass\n",
    "    return Table(_data)\n",
    "\n",
    "def radius_mean(tbhdu,radius_column):\n",
    "    from astropy.units import Quantity\n",
    "    radius = None\n",
    "    if radius_column:\n",
    "        _radius = Quantity(tbhdu.data.field(radius_column), u.arcsec)\n",
    "        radius = _radius.mean()\n",
    "    assert radius\n",
    "    return radius\n"
   ]
  },
  {
   "cell_type": "code",
   "execution_count": 38,
   "metadata": {
    "collapsed": false
   },
   "outputs": [
    {
     "name": "stdout",
     "output_type": "stream",
     "text": [
      "Time elapsed converting pixels: 0.003245\n",
      "Time elapsed on writing the table: 0.015697\n",
      "Time elapsed on writing MOC: 9.99999997475e-07\n",
      "Total time: 0.116892\n",
      "Number of points: 1146\n",
      "\n"
     ]
    }
   ],
   "source": [
    "res = radec_2_moc('Chandra_multiwavelength.fits','RA','DEC','RADEC_ERR')\n",
    "print res"
   ]
  },
  {
   "cell_type": "code",
   "execution_count": 39,
   "metadata": {
    "collapsed": false
   },
   "outputs": [
    {
     "name": "stdout",
     "output_type": "stream",
     "text": [
      "Time elapsed converting pixels: 0.002763\n",
      "Time elapsed on writing the table: 0.015296\n",
      "Time elapsed on writing MOC: 0.0\n",
      "Total time: 0.10334\n",
      "Number of points: 2358\n",
      "\n"
     ]
    }
   ],
   "source": [
    "res = radec_2_moc('XMM_multiwavelength_cat.fits','RA','DEC','RADEC_ERR')\n",
    "print res"
   ]
  },
  {
   "cell_type": "code",
   "execution_count": 40,
   "metadata": {
    "collapsed": false
   },
   "outputs": [
    {
     "name": "stdout",
     "output_type": "stream",
     "text": [
      "total 2,5M\r\n",
      "-rw-r--r-- 1 chbrandt chbrandt  17K mag 11 14:06 chandra_MOC.fits\r\n",
      "-rw-r--r-- 1 chbrandt chbrandt  57K mag 13 16:09 chandra_MOC_radec.fits\r\n",
      "-rw-r--r-- 1 chbrandt chbrandt  17K mag 13 16:09 chandra_MOC_uniq.fits\r\n",
      "-rw-r--r-- 1 chbrandt chbrandt 642K mag 11 00:13 Chandra_multiwavelength.fits\r\n",
      "-rw-r--r-- 1 chbrandt chbrandt  48K mag 13 16:09 Chandra_multiwavelength_MOC_position.fit\r\n",
      "-rw-r--r-- 1 chbrandt chbrandt  17K mag 12 10:19 Chandra_multiwavelength_MOC_uniq.fit\r\n",
      "-rw-r--r-- 1 chbrandt chbrandt  17K mag 11 12:43 hpix_test.fits\r\n",
      "-rw-r--r-- 1 chbrandt chbrandt 193K mag 13 16:08 moc_notes.ipynb\r\n",
      "lrwxrwxrwx 1 chbrandt chbrandt   42 mag 11 18:02 \u001b[0m\u001b[01;36mphotometry\u001b[0m -> \u001b[01;34m/home/chbrandt/Desktop/Catalogs/photometry\u001b[0m/\r\n",
      "-rw-r--r-- 1 chbrandt chbrandt  71K mag 13 16:09 xmm_MOC_radec.fits\r\n",
      "-rw-r--r-- 1 chbrandt chbrandt  26K mag 13 16:09 xmm_MOC_uniq.fits\r\n",
      "-rw-r----- 1 chbrandt chbrandt 1,3M mag 11 00:13 XMM_multiwavelength_cat.fits\r\n",
      "-rw-r--r-- 1 chbrandt chbrandt  90K mag 13 16:09 XMM_multiwavelength_cat_MOC_position.fit\r\n",
      "-rw-r--r-- 1 chbrandt chbrandt  26K mag 12 10:20 XMM_multiwavelength_cat_MOC_uniq.fit\r\n"
     ]
    }
   ],
   "source": [
    "%ls -lh"
   ]
  },
  {
   "cell_type": "code",
   "execution_count": 41,
   "metadata": {
    "collapsed": false
   },
   "outputs": [],
   "source": [
    "def print_fits_columns(fitsfile,hdu=1):\n",
    "    from astropy.io import fits\n",
    "    hdul = fits.open(fitsfile,ignore_missing_end=True)\n",
    "    tbhdu = hdul[1]\n",
    "    print \"Number of objects: {}\\n\".format(tbhdu.header['NAXIS2'])\n",
    "    print \"{} columns:\\n\".format(fitsfile)\n",
    "    ncols = len(tbhdu.columns)\n",
    "    i = 0\n",
    "    for c in tbhdu.columns:\n",
    "        if i<=5:\n",
    "            print \"\\t{}; \".format(c.name)\n",
    "        else:\n",
    "            print \"\\t... ({} columns)\".format(ncols-i)\n",
    "            break\n",
    "        i += 1\n",
    "    hdul.close()"
   ]
  },
  {
   "cell_type": "code",
   "execution_count": 42,
   "metadata": {
    "collapsed": false
   },
   "outputs": [
    {
     "name": "stdout",
     "output_type": "stream",
     "text": [
      "Number of objects: 32815\n",
      "\n",
      "photometry/hers/hers_catalogue_3sig250_no_extended.fits columns:\n",
      "\n",
      "\tRA; \n",
      "\tDEC; \n",
      "\tF250; \n",
      "\tE250; \n",
      "\tET250; \n",
      "\tCHI250; \n",
      "\t... (9 columns)\n"
     ]
    },
    {
     "name": "stderr",
     "output_type": "stream",
     "text": [
      "WARNING: VerifyWarning: Error validating header for HDU #2 (note: Astropy uses zero-based indexing).\n",
      "    Header size is not multiple of 2880: 1\n",
      "There may be extra bytes after the last HDU or the file is corrupted. [astropy.io.fits.hdu.hdulist]\n"
     ]
    }
   ],
   "source": [
    "print_fits_columns('photometry/hers/hers_catalogue_3sig250_no_extended.fits')"
   ]
  },
  {
   "cell_type": "code",
   "execution_count": 43,
   "metadata": {
    "collapsed": false
   },
   "outputs": [
    {
     "name": "stdout",
     "output_type": "stream",
     "text": [
      "Time elapsed converting pixels: 0.017864\n",
      "Time elapsed on writing the table: 0.051547\n",
      "Time elapsed on writing MOC: 1.00000000103e-06\n",
      "Total time: 0.104844\n",
      "Number of points: 32815\n",
      "\n"
     ]
    }
   ],
   "source": [
    "res = radec_2_moc('photometry/hers/hers_catalogue_3sig250_no_extended.fits','RA','DEC')\n",
    "print res"
   ]
  },
  {
   "cell_type": "code",
   "execution_count": 44,
   "metadata": {
    "collapsed": false
   },
   "outputs": [
    {
     "name": "stdout",
     "output_type": "stream",
     "text": [
      "Number of objects: 1204349\n",
      "\n",
      "photometry/galex/S82_gmsc_chbrandt.fit columns:\n",
      "\n",
      "\tobjid; \n",
      "\tra; \n",
      "\tdec; \n",
      "\tposerr; \n",
      "\tname; \n",
      "\te_bv; \n",
      "\t... (19 columns)\n"
     ]
    }
   ],
   "source": [
    "print_fits_columns('photometry/galex/S82_gmsc_chbrandt.fit')"
   ]
  },
  {
   "cell_type": "code",
   "execution_count": 45,
   "metadata": {
    "collapsed": false
   },
   "outputs": [
    {
     "name": "stdout",
     "output_type": "stream",
     "text": [
      "Time elapsed converting pixels: 0.125184\n",
      "Time elapsed on writing the table: 0.242631\n",
      "Time elapsed on writing MOC: 9.99999997475e-07\n",
      "Total time: 0.80557\n",
      "Number of points: 1204349\n",
      "\n"
     ]
    }
   ],
   "source": [
    "res = radec_2_moc('photometry/galex/S82_gmsc_chbrandt.fit','ra','dec','poserr')\n",
    "print res"
   ]
  },
  {
   "cell_type": "code",
   "execution_count": 46,
   "metadata": {
    "collapsed": false
   },
   "outputs": [
    {
     "name": "stdout",
     "output_type": "stream",
     "text": [
      "Number of objects: 13802113\n",
      "\n",
      "photometry/sdss/Stripe82_photo_chbrandt.fit columns:\n",
      "\n",
      "\tObjID; \n",
      "\tra; \n",
      "\tdec; \n",
      "\tu; \n",
      "\tg; \n",
      "\tr; \n",
      "\t... (21 columns)\n"
     ]
    }
   ],
   "source": [
    "print_fits_columns('photometry/sdss/Stripe82_photo_chbrandt.fit')"
   ]
  },
  {
   "cell_type": "code",
   "execution_count": 47,
   "metadata": {
    "collapsed": false
   },
   "outputs": [
    {
     "name": "stdout",
     "output_type": "stream",
     "text": [
      "Time elapsed converting pixels: 1.503912\n",
      "Time elapsed on writing the table: 4.692636\n",
      "Time elapsed on writing MOC: 9.99999997475e-07\n",
      "Total time: 11.860383\n",
      "Number of points: 13802113\n",
      "\n"
     ]
    }
   ],
   "source": [
    "res = radec_2_moc('photometry/sdss/Stripe82_photo_chbrandt.fit','ra','dec')\n",
    "print res"
   ]
  },
  {
   "cell_type": "code",
   "execution_count": 48,
   "metadata": {
    "collapsed": false
   },
   "outputs": [
    {
     "name": "stdout",
     "output_type": "stream",
     "text": [
      "Number of objects: 1229647\n",
      "\n",
      "photometry/shela/shela_stripe82_v1.3_cat.fits columns:\n",
      "\n",
      "\tSHELA_ID; \n",
      "\tSDSS_ID; \n",
      "\tSDSS_RA; \n",
      "\tSDSS_DEC; \n",
      "\tTYPE; \n",
      "\tFLAGS; \n",
      "\t... (10 columns)\n"
     ]
    }
   ],
   "source": [
    "print_fits_columns('photometry/shela/shela_stripe82_v1.3_cat.fits')"
   ]
  },
  {
   "cell_type": "code",
   "execution_count": 49,
   "metadata": {
    "collapsed": false
   },
   "outputs": [
    {
     "name": "stdout",
     "output_type": "stream",
     "text": [
      "Time elapsed converting pixels: 0.173279\n",
      "Time elapsed on writing the table: 0.173791\n",
      "Time elapsed on writing MOC: 1.00000000458e-06\n",
      "Total time: 0.752169\n",
      "Number of points: 1229647\n",
      "\n"
     ]
    }
   ],
   "source": [
    "res = radec_2_moc('photometry/shela/shela_stripe82_v1.3_cat.fits','SDSS_RA','SDSS_DEC')\n",
    "print res"
   ]
  },
  {
   "cell_type": "code",
   "execution_count": 50,
   "metadata": {
    "collapsed": false
   },
   "outputs": [
    {
     "name": "stdout",
     "output_type": "stream",
     "text": [
      "Number of objects: 7757528\n",
      "\n",
      "photometry/spies/SpIES_ch1ch2_allaor_5s_bothchan_final.fits columns:\n",
      "\n",
      "\tRA; \n",
      "\tDEC; \n",
      "\tFLUX_APER_1_ch1; \n",
      "\tFLUX_APER_2_ch1; \n",
      "\tFLUX_APER_3_ch1; \n",
      "\tFLUX_APER_4_ch1; \n",
      "\t... (23 columns)\n"
     ]
    }
   ],
   "source": [
    "print_fits_columns('photometry/spies/SpIES_ch1ch2_allaor_5s_bothchan_final.fits')"
   ]
  },
  {
   "cell_type": "code",
   "execution_count": 51,
   "metadata": {
    "collapsed": false
   },
   "outputs": [
    {
     "name": "stdout",
     "output_type": "stream",
     "text": [
      "Time elapsed converting pixels: 0.835236\n",
      "Time elapsed on writing the table: 1.837238\n",
      "Time elapsed on writing MOC: 0.0\n",
      "Total time: 5.689374\n",
      "Number of points: 7757528\n",
      "\n"
     ]
    }
   ],
   "source": [
    "res = radec_2_moc('photometry/spies/SpIES_ch1ch2_allaor_5s_bothchan_final.fits','RA','DEC')\n",
    "print res"
   ]
  },
  {
   "cell_type": "code",
   "execution_count": 52,
   "metadata": {
    "collapsed": false
   },
   "outputs": [
    {
     "name": "stdout",
     "output_type": "stream",
     "text": [
      "Number of objects: 9429798\n",
      "\n",
      "photometry/unwise/brandt.fits columns:\n",
      "\n",
      "\tobjid; \n",
      "\tra; \n",
      "\tdec; \n",
      "\trun; \n",
      "\tcamcol; \n",
      "\tfield; \n",
      "\t... (45 columns)\n"
     ]
    }
   ],
   "source": [
    "print_fits_columns('photometry/unwise/brandt.fits')"
   ]
  },
  {
   "cell_type": "code",
   "execution_count": 53,
   "metadata": {
    "collapsed": false
   },
   "outputs": [
    {
     "name": "stdout",
     "output_type": "stream",
     "text": [
      "Time elapsed converting pixels: 1.034426\n",
      "Time elapsed on writing the table: 2.465438\n",
      "Time elapsed on writing MOC: 9.99999997475e-07\n",
      "Total time: 15.298956\n",
      "Number of points: 9429798\n",
      "\n"
     ]
    }
   ],
   "source": [
    "res = radec_2_moc('photometry/unwise/brandt.fits','ra','dec')\n",
    "print res"
   ]
  },
  {
   "cell_type": "code",
   "execution_count": 54,
   "metadata": {
    "collapsed": false
   },
   "outputs": [
    {
     "name": "stdout",
     "output_type": "stream",
     "text": [
      "Number of objects: 946432\n",
      "\n",
      "photometry/vla/first_14dec17.fits columns:\n",
      "\n",
      "\tRA; \n",
      "\tDEC; \n",
      "\tSIDEPROB; \n",
      "\tFPEAK; \n",
      "\tFINT; \n",
      "\tRMS; \n",
      "\t... (19 columns)\n"
     ]
    }
   ],
   "source": [
    "print_fits_columns('photometry/vla/first_14dec17.fits')"
   ]
  },
  {
   "cell_type": "code",
   "execution_count": 55,
   "metadata": {
    "collapsed": false
   },
   "outputs": [
    {
     "name": "stdout",
     "output_type": "stream",
     "text": [
      "Time elapsed converting pixels: 0.104784\n",
      "Time elapsed on writing the table: 0.123237\n",
      "Time elapsed on writing MOC: 9.99999997475e-07\n",
      "Total time: 0.518552\n",
      "Number of points: 946432\n",
      "\n"
     ]
    }
   ],
   "source": [
    "res = radec_2_moc('photometry/vla/first_14dec17.fits','RA','DEC')\n",
    "print res"
   ]
  },
  {
   "cell_type": "code",
   "execution_count": null,
   "metadata": {
    "collapsed": true
   },
   "outputs": [],
   "source": []
  }
 ],
 "metadata": {
  "kernelspec": {
   "display_name": "Python 2",
   "language": "python",
   "name": "python2"
  },
  "language_info": {
   "codemirror_mode": {
    "name": "ipython",
    "version": 2
   },
   "file_extension": ".py",
   "mimetype": "text/x-python",
   "name": "python",
   "nbconvert_exporter": "python",
   "pygments_lexer": "ipython2",
   "version": "2.7.11"
  }
 },
 "nbformat": 4,
 "nbformat_minor": 0
}
