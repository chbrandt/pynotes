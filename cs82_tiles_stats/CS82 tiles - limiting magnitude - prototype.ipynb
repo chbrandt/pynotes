{
 "cells": [
  {
   "cell_type": "code",
   "execution_count": null,
   "metadata": {
    "collapsed": true
   },
   "outputs": [],
   "source": [
    "# from IPython.display import HTML\n",
    "# HTML('''<script>\n",
    "# code_show=true; \n",
    "# function code_toggle() {\n",
    "#  if (code_show){\n",
    "#  $('div.input').hide();\n",
    "#  } else {\n",
    "#  $('div.input').show();\n",
    "#  }\n",
    "#  code_show = !code_show\n",
    "# } \n",
    "# $( document ).ready(code_toggle);\n",
    "# </script>\n",
    "# <form action=\"javascript:code_toggle()\"><input type=\"submit\" value=\"Toggle ON/OFF raw code cells.\"></form>''')"
   ]
  },
  {
   "cell_type": "markdown",
   "metadata": {},
   "source": [
    "# CS82 tiles statistics\n",
    "\n",
    "Here we analyse some photometric measurements of CS82' images.\n",
    "The entire dataset is composed by 177 catalogs containing Sextractor's output for each tile of the CFHT survey over Stripe82.\n",
    "\n",
    "For each tile/catalog we are going to:\n",
    "* plot RA,Dec\n",
    " * _to have the footprint of detetions/masks applied_\n",
    "* investigate magnitude limit\n",
    " * from the relation $$SNR = \\frac{1}{mag_{err}}$$ and $$mag \\propto \\log(mag_{err})$$ we'll estimate $mag_{lim}$\n",
    " \n",
    "**Table of Contents**\n",
    "1. [Understanding the data](#Understanding-the-data)\n",
    " * [Flags](#Flags)\n",
    " * [Footprint](#Footprint)\n",
    " * [Magnitude limit](#Magnitude-limit)\n",
    "  * [Magnitude limit using histogram](#Magnitude-limit-using-histogram)\n",
    "1. [The pipeline for all images](#The-pipeline-for-all-images)\n"
   ]
  },
  {
   "cell_type": "markdown",
   "metadata": {},
   "source": [
    "## Understanding the data\n",
    "\n",
    "We start by using one tile to get some understanding about the data -- its structure and contents -- and to define the workflow to then apply to the other tiles.\n",
    "\n",
    "The (test) tile to be used is ``'S82m0m_y.V2.7A.swarp.cut.deV.fit'``."
   ]
  },
  {
   "cell_type": "code",
   "execution_count": null,
   "metadata": {
    "collapsed": true
   },
   "outputs": [],
   "source": [
    "tilename = 'S82m0m_y.V2.7A.swarp.cut.deV.fit'"
   ]
  },
  {
   "cell_type": "code",
   "execution_count": null,
   "metadata": {
    "collapsed": false
   },
   "outputs": [],
   "source": [
    "import astropy\n",
    "import pandas\n",
    "import bokeh\n",
    "import numpy\n",
    "\n",
    "from bokeh.io import output_notebook\n",
    "output_notebook()\n",
    "\n",
    "%matplotlib inline\n",
    "import seaborn\n",
    "seaborn.set()\n",
    "from matplotlib import pyplot as plt"
   ]
  },
  {
   "cell_type": "markdown",
   "metadata": {},
   "source": [
    "The contents of the (tile) FITS file follows:"
   ]
  },
  {
   "cell_type": "code",
   "execution_count": null,
   "metadata": {
    "collapsed": false
   },
   "outputs": [],
   "source": [
    "from astropy.io import fits\n",
    "hdul = fits.open(tilename)\n",
    "hdul.info()"
   ]
  },
  {
   "cell_type": "markdown",
   "metadata": {},
   "source": [
    "The Data Unit of our interest is the number ``2``."
   ]
  },
  {
   "cell_type": "code",
   "execution_count": null,
   "metadata": {
    "collapsed": false
   },
   "outputs": [],
   "source": [
    "#TODO: use booq\n",
    "from astropy.table import Table\n",
    "cat = Table.read(tilename,format='fits',hdu=2)\n",
    "cat.colnames"
   ]
  },
  {
   "cell_type": "markdown",
   "metadata": {},
   "source": [
    "### Flags\n",
    "\n",
    "Flags in such catalogs inform about the quality of the measurements process.\n",
    "Depending how we plan to use our data, flags are helpful to better select and understand our data."
   ]
  },
  {
   "cell_type": "code",
   "execution_count": null,
   "metadata": {
    "collapsed": false
   },
   "outputs": [],
   "source": [
    "flgs = pandas.Series(cat['FLAGS']).value_counts().to_frame(name='COUNTS').sort_index()\n",
    "flgs.index.name = 'FLAGS'\n",
    "print flgs\n",
    "del flgs"
   ]
  },
  {
   "cell_type": "code",
   "execution_count": null,
   "metadata": {
    "collapsed": false
   },
   "outputs": [],
   "source": [
    "_ = seaborn.countplot(cat['FLAGS'])"
   ]
  },
  {
   "cell_type": "code",
   "execution_count": null,
   "metadata": {
    "collapsed": false
   },
   "outputs": [],
   "source": [
    "flgs = pandas.Series(cat['FLAGS_WEIGHT']).value_counts().to_frame(name='COUNTS').sort_index()\n",
    "flgs.index.name = 'FLAGS_WEIGHT'\n",
    "print flgs\n",
    "del flgs"
   ]
  },
  {
   "cell_type": "code",
   "execution_count": null,
   "metadata": {
    "collapsed": false
   },
   "outputs": [],
   "source": [
    "_ = seaborn.countplot(cat['FLAGS_WEIGHT'])"
   ]
  },
  {
   "cell_type": "markdown",
   "metadata": {},
   "source": [
    "### Footprint\n",
    "\n",
    "Plotting RA _vs_ Dec give us the view of the field.\n",
    "For instance, geometrical-shaped holes in the plot indicate the presence of _masks_ during the segmentation process."
   ]
  },
  {
   "cell_type": "code",
   "execution_count": null,
   "metadata": {
    "collapsed": false
   },
   "outputs": [],
   "source": [
    "RA_col = 'ALPHA_J2000'\n",
    "DEC_col = 'DELTA_J2000'"
   ]
  },
  {
   "cell_type": "code",
   "execution_count": null,
   "metadata": {
    "collapsed": false
   },
   "outputs": [],
   "source": [
    "from matplotlib import pyplot as plt\n",
    "fig, ax = plt.subplots()\n",
    "fig.set_size_inches(8,8)\n",
    "_ = ax.scatter(x=cat[RA_col], y=cat[DEC_col], marker='.')\n",
    "_ = ax.set_xlabel('RA (deg)')\n",
    "_ = ax.set_ylabel('Dec (deg)')\n",
    "_title = 'Footprint: {}'.format(tilename)\n",
    "_ = ax.set_title(_title)"
   ]
  },
  {
   "cell_type": "code",
   "execution_count": null,
   "metadata": {
    "collapsed": false
   },
   "outputs": [],
   "source": [
    "# from bokeh.plotting import figure\n",
    "# p = figure()\n",
    "# p.circle(x=cat[RA_col], y=cat[DEC_col])\n",
    "# p.xaxis.axis_label = 'RA'\n",
    "# p.yaxis.axis_label = 'Dec'\n",
    "# from bokeh.io import show\n",
    "# show(p)"
   ]
  },
  {
   "cell_type": "markdown",
   "metadata": {},
   "source": [
    "### Magnitude limit\n",
    "\n",
    "Now we are going to investigate the limiting magnitude of the tile.\n",
    "Magnitude and its error follow a pattern as we can see right below."
   ]
  },
  {
   "cell_type": "code",
   "execution_count": null,
   "metadata": {
    "collapsed": true
   },
   "outputs": [],
   "source": [
    "mag_col = 'MAG_PSF'\n",
    "err_col = 'MAGERR_PSF'"
   ]
  },
  {
   "cell_type": "code",
   "execution_count": null,
   "metadata": {
    "collapsed": false
   },
   "outputs": [],
   "source": [
    "cat2 = cat[mag_col,err_col]\n",
    "mags = cat2.to_pandas()\n",
    "\n",
    "nil_indxs = mags[mag_col]==99\n",
    "mags.loc[nil_indxs,mag_col] = None\n",
    "\n",
    "nil_indxs = mags[err_col]==99\n",
    "mags.loc[nil_indxs,err_col] = None"
   ]
  },
  {
   "cell_type": "code",
   "execution_count": null,
   "metadata": {
    "collapsed": false
   },
   "outputs": [],
   "source": [
    "def scatter_mags(mag_col,err_col,mags):\n",
    "    from bokeh.plotting import figure\n",
    "    p = figure()\n",
    "    p.circle(x=mags[err_col], y=mags[mag_col])\n",
    "    p.xaxis.axis_label = err_col\n",
    "    p.yaxis.axis_label = mag_col\n",
    "    _title = '{}: measurement vs error'.format(mag_col)\n",
    "    p.title.text = _title\n",
    "    return p\n",
    "\n",
    "from bokeh.io import show\n",
    "show(scatter_mags(mag_col,err_col,mags))"
   ]
  },
  {
   "cell_type": "markdown",
   "metadata": {},
   "source": [
    "Looks like we have a logarithmic relation following this data:\n",
    "$$ y = \\alpha + \\beta * log(\\gamma + x) $$\n",
    "\n",
    "In other words, as the photometric measurement goes to fainter objects the error goes exponencially high.\n",
    "\n",
    "We can explore this relation to better define our sample based on such measurement errors."
   ]
  },
  {
   "cell_type": "code",
   "execution_count": null,
   "metadata": {
    "collapsed": false
   },
   "outputs": [],
   "source": [
    "mags_sort_byErr = mags.sort_values(by=err_col)\n",
    "mags_sort_byErr.dropna(inplace=True)"
   ]
  },
  {
   "cell_type": "code",
   "execution_count": null,
   "metadata": {
    "collapsed": false
   },
   "outputs": [],
   "source": [
    "def func(t, a, b):\n",
    "    import numpy as np\n",
    "    return a + b * np.log(t)\n",
    "\n",
    "def scatter_mags_fit(mag_col,err_col,mags_sort_byErr):\n",
    "    p = scatter_mags(mag_col,err_col,mags_sort_byErr)\n",
    "\n",
    "    def fit_log_curve(x,y):\n",
    "        import numpy as np\n",
    "\n",
    "        from scipy.optimize import curve_fit\n",
    "        popt,pcov = curve_fit(func, x, y)\n",
    "\n",
    "        x = np.linspace(x.min(),x.max(),100)\n",
    "        y = func(x,*popt)\n",
    "        return x,y,popt\n",
    "\n",
    "    x,y,popt = fit_log_curve(mags_sort_byErr[err_col], mags_sort_byErr[mag_col])\n",
    "\n",
    "    p.line(x=x, y=y, line_color='red', legend='{:.3f} + {:.3f} * log(x)'.format(*popt), line_width=2)\n",
    "    p.legend.location = 'bottom_right'\n",
    "\n",
    "    return p\n",
    "\n",
    "show(scatter_mags_fit(mag_col,err_col,mags_sort_byErr))"
   ]
  },
  {
   "cell_type": "markdown",
   "metadata": {},
   "source": [
    "If we take the simplest relation between signal-to-noise ratio (SNR) and Mag_err:\n",
    "$$ SNR = \\frac{1}{Mag_{err}} $$\n",
    "\n",
    "We can now define a cut on the limiting magnitude based on this definition of signal-to-noise ratio.\n",
    "\n",
    "For example, for this tile, if I want a SNR of 5, corresponding to $Mag_{err} = 0.2$, I should go no further than $Mag \\approx 24.4$."
   ]
  },
  {
   "cell_type": "code",
   "execution_count": null,
   "metadata": {
    "collapsed": false
   },
   "outputs": [],
   "source": [
    "from scipy.optimize import curve_fit\n",
    "popt,pcov = curve_fit(func, mags_sort_byErr[err_col], mags_sort_byErr[mag_col])\n",
    "\n",
    "\n",
    "MagErr_SNR = 0.2\n",
    "Mag_SNR = func(MagErr_SNR,*popt)\n",
    "print 'Magnitude limit: {:.3f}, corresponding to an error of {}'.format(Mag_SNR,MagErr_SNR)"
   ]
  },
  {
   "cell_type": "code",
   "execution_count": null,
   "metadata": {
    "collapsed": false
   },
   "outputs": [],
   "source": [
    "def scatter_mags_fit_annot(mag_col,err_col,mags_sort_byErr, MagErr_SNR, MagErr_SNR_2):\n",
    "    p = scatter_mags_fit(mag_col,err_col,mags_sort_byErr)\n",
    "\n",
    "    Mag_SNR = func(MagErr_SNR,*popt)\n",
    "    \n",
    "    from bokeh.models import Span\n",
    "#     line_mag_snr = Span(dimension='width', location=Mag_SNR, line_color='red', line_dash='dashed', line_width=1)\n",
    "    line_magerr_snr = Span(dimension='height', location=MagErr_SNR, line_color='red', line_dash='dashed', line_width=1)\n",
    "    \n",
    "#     p.add_layout(line_mag_snr)\n",
    "    p.add_layout(line_magerr_snr)\n",
    "\n",
    "    from bokeh.models import Label\n",
    "    _lbl = ' {:.2f}, {:.2f} '.format(MagErr_SNR,Mag_SNR)\n",
    "    label_mag_snr = Label(x=MagErr_SNR+0.01, y=Mag_SNR-1, text=_lbl, text_color='red',\n",
    "                          border_line_color='black', border_line_alpha=1.0,\n",
    "                          background_fill_color='white', background_fill_alpha=1.0)\n",
    "    p.add_layout(label_mag_snr)\n",
    "\n",
    "    # Second line\n",
    "    line_magerr_snr_2 = Span(dimension='height', location=MagErr_SNR_2, line_color='red', line_dash='dashed', line_width=1)\n",
    "    p.add_layout(line_magerr_snr_2)\n",
    "\n",
    "    Mag_SNR_2 = func(MagErr_SNR_2,*popt)\n",
    "    _lbl = ' {:.2f}, {:.2f} '.format(MagErr_SNR_2,Mag_SNR_2)\n",
    "    label_mag_snr_2 = Label(x=MagErr_SNR_2+0.01, y=Mag_SNR_2-1, text=_lbl, text_color='red',\n",
    "                          border_line_color='black', border_line_alpha=1.0,\n",
    "                          background_fill_color='white', background_fill_alpha=1.0)\n",
    "    p.add_layout(label_mag_snr_2)\n",
    "\n",
    "    \n",
    "    return p\n",
    "\n",
    "MagErr_SNR_2 = 0.5\n",
    "show(scatter_mags_fit_annot(mag_col,err_col,mags_sort_byErr, MagErr_SNR, MagErr_SNR_2))"
   ]
  },
  {
   "cell_type": "markdown",
   "metadata": {
    "collapsed": true
   },
   "source": [
    "### Magnitude limit using histogram\n",
    "\n",
    "The goal now is to define the limiting magnitude in a different way, we will consider the variation of magnitude-error across the same-valued magnitude entries. The approach computes mean and standard-deviation of the magnitude-error in a set of magnitude-binned measurements."
   ]
  },
  {
   "cell_type": "code",
   "execution_count": null,
   "metadata": {
    "collapsed": false
   },
   "outputs": [],
   "source": [
    "# nbins = int(round(np.power(len(mags_sort_byErr),1/3.)))\n",
    "nbins = 20\n",
    "bin_categories,bins = pandas.qcut(mags_sort_byErr[mag_col], nbins, retbins=True, precision=2)\n",
    "\n",
    "mags_sort_byErr['bins'] = bin_categories\n",
    "del nbins,bin_categories"
   ]
  },
  {
   "cell_type": "code",
   "execution_count": null,
   "metadata": {
    "collapsed": false
   },
   "outputs": [],
   "source": [
    "mags_sort_byErr.groupby('bins').describe()"
   ]
  },
  {
   "cell_type": "code",
   "execution_count": null,
   "metadata": {
    "collapsed": true
   },
   "outputs": [],
   "source": [
    "%matplotlib inline\n",
    "\n",
    "import seaborn as sns\n",
    "sns.set()\n",
    "from matplotlib import pyplot as plt"
   ]
  },
  {
   "cell_type": "code",
   "execution_count": null,
   "metadata": {
    "collapsed": false
   },
   "outputs": [],
   "source": [
    "ax1 = mags_sort_byErr.boxplot(by='bins', column=err_col, rot=90, sym='*')\n",
    "ax1.axhline(MagErr_SNR, color='red', ls='--')\n",
    "ax1.axhline(MagErr_SNR_2, color='red', ls='--')\n",
    "ax2 = mags_sort_byErr.boxplot(by='bins', column=mag_col, rot=90, whis='range')"
   ]
  },
  {
   "cell_type": "code",
   "execution_count": null,
   "metadata": {
    "collapsed": false
   },
   "outputs": [],
   "source": [
    "groups = []\n",
    "for n,g in mags_sort_byErr.groupby('bins'):\n",
    "    print n,g.describe()\n",
    "    q = g[err_col]\n",
    "    dq = q.quantile(0.75)-q.quantile(0.25)\n",
    "    mq = q.quantile(0.5)\n",
    "    if mq-1.5*dq < MagErr_SNR and mq+1.5*dq > MagErr_SNR:\n",
    "        groups.append(g)\n",
    "print len(groups)"
   ]
  },
  {
   "cell_type": "code",
   "execution_count": null,
   "metadata": {
    "collapsed": false
   },
   "outputs": [],
   "source": [
    "print sum(g[mag_col].mean() for g in groups)/len(groups)"
   ]
  },
  {
   "cell_type": "code",
   "execution_count": null,
   "metadata": {
    "collapsed": false
   },
   "outputs": [],
   "source": [
    "def func(t, a, b):\n",
    "    import numpy as np\n",
    "    return a*t + b\n",
    "\n",
    "def fit_linear_curve(x,y):\n",
    "    from scipy.optimize import curve_fit\n",
    "    popt,pcov = curve_fit(func, x, y)\n",
    "    return popt\n",
    "\n",
    "import numpy as np\n",
    "x = np.array([ g[err_col] for g in groups ]).flatten()\n",
    "y = np.array([ g[mag_col] for g in groups ]).flatten()\n",
    "try:\n",
    "    popt = fit_linear_curve(x,y)\n",
    "    y = func(MagErr_SNR,*popt)\n",
    "except:\n",
    "    y = None\n",
    "print '{:.3f}: {}'.format(MagErr_SNR,y)"
   ]
  },
  {
   "cell_type": "code",
   "execution_count": null,
   "metadata": {
    "collapsed": false
   },
   "outputs": [],
   "source": [
    "def mag_limit_boxplot(MagErr_SNR, mags_sort_byErr, mag_col):\n",
    "    def func(t, a, b):\n",
    "        import numpy as np\n",
    "        return a*t + b\n",
    "\n",
    "    def fit_linear_curve(x,y):\n",
    "        from scipy.optimize import curve_fit\n",
    "        popt,pcov = curve_fit(func, x, y)\n",
    "        return popt\n",
    "\n",
    "    groups = []\n",
    "    for n,g in mags_sort_byErr.groupby('bins'):\n",
    "        q = g[mag_col]\n",
    "        dq = q.quantile(0.75)-q.quantile(0.25)\n",
    "        mq = q.quantile(0.5)\n",
    "        if mq-1.5*dq < MagErr_SNR and mq+1.5*dq > MagErr_SNR:\n",
    "            groups.append(g)\n",
    "\n",
    "    import numpy as np\n",
    "    x = np.array([ g[err_col] for g in groups ]).flatten()\n",
    "    y = np.array([ g[mag_col] for g in groups ]).flatten()\n",
    "    \n",
    "    popt = fit_linear_curve(x,y)\n",
    "    y = func(MagErr_SNR,*popt)\n",
    "    \n",
    "    return y\n",
    "\n",
    "try:\n",
    "    mag_limit = mag_limit_boxplot(MagErr_SNR_2, mags_sort_byErr, err_col)\n",
    "except:\n",
    "    mag_limit = None\n",
    "print '{:.3f}: {}'.format(MagErr_SNR_2,mag_limit)"
   ]
  },
  {
   "cell_type": "code",
   "execution_count": null,
   "metadata": {
    "collapsed": false
   },
   "outputs": [],
   "source": [
    "def func_log(t, a, b):\n",
    "    import numpy as np\n",
    "    return a + b * np.log(t)\n",
    "\n",
    "\n",
    "def scatter_mags_fit_annot_2(mag_col,err_col,mags_sort_byErr, MagErr_SNR, MagErr_SNR_2):\n",
    "    \n",
    "    def scatter_mags_fit(mag_col,err_col,mags_sort_byErr):\n",
    "        \n",
    "        def scatter_mags(mag_col,err_col,mags):\n",
    "            from matplotlib import pyplot as plt\n",
    "            plt.scatter(mags[err_col], mags[mag_col], marker='.', alpha=0.5)\n",
    "            plt.xlabel(err_col)\n",
    "            plt.ylabel(mag_col)\n",
    "            _title = '{}: measurement vs error'.format(mag_col)\n",
    "            plt.title(_title)\n",
    "            return plt\n",
    "\n",
    "        plt = scatter_mags(mag_col,err_col,mags_sort_byErr)\n",
    "        plt.hold(True)\n",
    "        \n",
    "        def fit_log_curve(x,y):\n",
    "            import numpy as np\n",
    "\n",
    "            from scipy.optimize import curve_fit\n",
    "            popt,pcov = curve_fit(func_log, x, y)\n",
    "\n",
    "            x = np.linspace(x.min(),x.max(),100)\n",
    "            y = func_log(x,*popt)\n",
    "            return x,y,popt\n",
    "\n",
    "        x,y,popt = fit_log_curve(mags_sort_byErr[err_col], mags_sort_byErr[mag_col])\n",
    "\n",
    "        plt.plot(x, y, linestyle='solid', color='red', lw=1)#, legend='{:.3f} + {:.3f} * log(x)'.format(*popt))#, line_width=2)\n",
    "        \n",
    "        #         p.legend.location = 'bottom_right'\n",
    "\n",
    "        return plt,popt\n",
    "\n",
    "    plt,popt = scatter_mags_fit(mag_col,err_col,mags_sort_byErr)\n",
    "\n",
    "    Mag_SNR = func_log(MagErr_SNR,*popt)\n",
    "    print Mag_SNR, MagErr_SNR\n",
    "    \n",
    "    plt.axvline(MagErr_SNR, color='red', linestyle='dotted')\n",
    "    \n",
    "    from bokeh.models import Label\n",
    "    _lbl = ' {:.2f}, {:.2f} '.format(MagErr_SNR,Mag_SNR)\n",
    "    plt.text(MagErr_SNR+0.01, Mag_SNR-5, _lbl, bbox=dict(facecolor='white', alpha=0.9))\n",
    "\n",
    "    # Second line\n",
    "    plt.axvline(MagErr_SNR_2, color='red', linestyle='dotted')\n",
    "\n",
    "    Mag_SNR_2 = func_log(MagErr_SNR_2,*popt)\n",
    "    _lbl = ' {:.2f}, {:.2f} '.format(MagErr_SNR_2,Mag_SNR_2)\n",
    "    plt.text(MagErr_SNR_2+0.01, Mag_SNR_2-5, _lbl, bbox=dict(facecolor='white', alpha=0.9))\n",
    "    \n",
    "    return plt\n",
    "\n",
    "MagErr_SNR_2 = 0.5\n",
    "plt = scatter_mags_fit_annot_2(mag_col,err_col,mags_sort_byErr, MagErr_SNR, MagErr_SNR_2)"
   ]
  },
  {
   "cell_type": "markdown",
   "metadata": {},
   "source": [
    "## Interactive plots"
   ]
  },
  {
   "cell_type": "markdown",
   "metadata": {},
   "source": [
    "### Mag-Error limit scatter plot"
   ]
  },
  {
   "cell_type": "code",
   "execution_count": null,
   "metadata": {
    "collapsed": false
   },
   "outputs": [],
   "source": [
    "def func(t, a, b):\n",
    "    import numpy as np\n",
    "    return a + b * np.log(t)\n",
    "\n",
    "def scatter_mags_fit(mag_col,err_col,mags_sort_byErr):\n",
    "\n",
    "    def scatter_mags(mag_col,err_col,mags):\n",
    "        from bokeh.plotting import figure\n",
    "        p = figure()# tools='pan,box_zoom,wheel_zoom,crosshair,hover,resize,reset' )\n",
    "        p.circle(x=mags[err_col], y=mags[mag_col], fill_color='#3A5785', fill_alpha=0.1, line_color=None)\n",
    "        p.xaxis.axis_label = err_col\n",
    "        p.yaxis.axis_label = mag_col\n",
    "        _title = '{}: measurement vs error'.format(mag_col)\n",
    "        p.title.text = _title\n",
    "        return p\n",
    "\n",
    "\n",
    "    p = scatter_mags(mag_col,err_col,mags_sort_byErr)\n",
    "\n",
    "    def fit_log_curve(x,y):\n",
    "        import numpy as np\n",
    "\n",
    "        from scipy.optimize import curve_fit\n",
    "        popt,pcov = curve_fit(func, x, y)\n",
    "        print 'Cov:\\n',pcov\n",
    "\n",
    "        x = np.linspace(x.min(),x.max(),1000)\n",
    "        y = func(x,*popt)\n",
    "        return x,y,popt\n",
    "\n",
    "    x,y,popt = fit_log_curve(mags_sort_byErr[err_col], mags_sort_byErr[mag_col])\n",
    "\n",
    "    ln = p.line(x=x, y=y, line_color='red', legend='{:.3f} + {:.3f} * log(x)'.format(*popt), line_width=2)\n",
    "    \n",
    "    from bokeh.models import HoverTool\n",
    "    hover = HoverTool(tooltips=[('mag','@y'),('err','@x')], renderers=[ln], mode='vline')\n",
    "    p.add_tools(hover)\n",
    "    \n",
    "    p.legend.location = 'bottom_right'\n",
    "\n",
    "    return p,popt\n",
    "\n",
    "\n",
    "from bokeh.models import CrosshairTool,HoverTool\n",
    "p,popt = scatter_mags_fit(mag_col,err_col,mags_sort_byErr)\n",
    "cross = CrosshairTool(dimensions = 'height')\n",
    "p.add_tools(cross)\n",
    "# p.select(HoverTool).mode = 'vline'\n",
    "# p.select(HoverTool).tooltips = [('Mag_lim = ','func($x)')]\n",
    "\n",
    "show(p)"
   ]
  },
  {
   "cell_type": "markdown",
   "metadata": {},
   "source": [
    "### histogram(FLAGS) and scatter(RA,DEC)\n",
    "\n",
    "TODO"
   ]
  },
  {
   "cell_type": "markdown",
   "metadata": {},
   "source": [
    "## The pipeline for all images\n",
    "\n",
    "Let us now assemble all steps above in a pipeline, to be run for all and each image in the CS82 archive.\n",
    "\n",
    "For each image, the pipeline should:\n",
    "* Save the total number of objects (NUMOBJ_GROSS)\n",
    "* Filter out objects with `FLAGS`>0\n",
    "* Save the number of remaining objects (NUMOBJ_NET)\n",
    "* Create the field coverage plot (`ALPHA_J2000`,`DELTA_J2000`)\n",
    "* Create the `FLAGS` histogram\n",
    "* Fit the log-curve with `{MAG,MAGERR}_{AUTO,MODEL,PSF,APER,SPHEROID,HYBRID,BEST,PETRO,ISO,ISOCOR}`\n",
    "* Compute magnitude limit for SNR=5 and SNR=2\n",
    " * using the fit curve\n",
    " * using the boxplots\n",
    " \n",
    "\n",
    "* For each image we want to create a table with all the limiting magnitude mesaurements.\n",
    "For example:\n",
    "\n",
    "mag_type | SNR | MAG_ERROR | MAG_LIMIT_CURVEFIT | MAG_LIMIT_BOXPLOT\n",
    "-------- | --- | --------- | ------------------ | -----------------\n",
    "AUTO     | 5   | 0.2       | 24.44              | 24.59\n",
    "AUTO     | 2   | 0.5       | 25.69              | None\n",
    "BEST     | 5   | 0.2       | 24.47              | 24.6\n",
    "BEST     | 2   | 0.5       | 25.71              | None\n",
    "PSF      | 5   | 0.2       | 24.95              | 24.82\\*\n",
    "PSF      | 2   | 0.5       | 25.99              | None\n",
    "... | | | |\n",
    "This table should be named ${tilename}_magLimits.csv\n",
    "\n",
    "* For each image we want to create the following plots for each Magnitude type:\n",
    " * scatter *Mag .vs. MagErr*, with the fit curve and the annotations for SNR={2,5}\n",
    " * boxplot *MagErr .by. Mag*, with the marker lines for SNR={2,5}\n",
    " * footprint *RA .vs. Dec*\n",
    " * Histogram *FLAGS*"
   ]
  },
  {
   "cell_type": "code",
   "execution_count": 1,
   "metadata": {
    "collapsed": false
   },
   "outputs": [],
   "source": [
    "class Plots:\n",
    "    '''\n",
    "    Manage data source and plot creation\n",
    "    '''\n",
    "    @staticmethod\n",
    "    def scatter(x, y, vlines=None, fit_func=None, title=None, savefig=False):\n",
    "        import pandas\n",
    "        df = pandas.DataFrame({x.name:x, y.name:y})\n",
    "        \n",
    "        def scatter_mags(x,y,df):\n",
    "            from matplotlib import pyplot as plt\n",
    "            plt.scatter(df[x.name], df[y.name], marker='.', alpha=0.1, lw=None)\n",
    "            plt.xlabel(x.name)\n",
    "            plt.ylabel(y.name)\n",
    "            plt.title(title)\n",
    "            return plt\n",
    "\n",
    "        plt = scatter_mags(x,y,df)\n",
    "        plt.hold(True)\n",
    "\n",
    "        def fit_curve(x,y,fit_func):\n",
    "            import numpy as np\n",
    "            from scipy.optimize import curve_fit\n",
    "            popt,pcov = curve_fit(fit_func, x, y)\n",
    "            x = np.linspace(x.min(),x.max(),100)\n",
    "            y = fit_func(x,*popt)\n",
    "            return x,y,popt\n",
    "\n",
    "        if fit_func != None:\n",
    "            x_fit, y_fit, popt = fit_curve( df[x.name], df[y.name], fit_func )\n",
    "            plt.plot( x_fit, y_fit, linestyle='solid', color='red', lw=1 )\n",
    "\n",
    "        vlines_intersec = None\n",
    "        if vlines:\n",
    "            vlines_intersec = []\n",
    "            for x_line in vlines:\n",
    "                y_val = fit_func(x_line,*popt)\n",
    "                vlines_intersec.append(y_val)\n",
    "                \n",
    "                plt.axvline(x_line, color='red', linestyle='dotted')\n",
    "\n",
    "                from bokeh.models import Label\n",
    "                _lbl = ' {:.2f}, {:.2f} '.format(x_line,y_val)\n",
    "                plt.text(x_line+0.01, y_val-5, _lbl, bbox=dict(facecolor='white', alpha=0.9))\n",
    "\n",
    "        del df\n",
    "        plt.hold(False)\n",
    "        return fig,vlines_intersec\n",
    "    \n",
    "    @staticmethod\n",
    "    def boxplot(column, by, hlines, nbins=20, fit_func=None, savefig=False):\n",
    "        '''\n",
    "        Boxplot distributions of 'column' splitted by column 'by' in 'nbins'\n",
    "        \n",
    "        'hlines' is a list of values within 'column' limits, where 'column'\n",
    "        should be annotated.\n",
    "        '''\n",
    "        import pandas\n",
    "        df = pandas.DataFrame({column.name:column, by.name:by})\n",
    "        \n",
    "        import pandas\n",
    "        bin_categories,bins = pandas.qcut(df[by.name], nbins, retbins=True, precision=2)\n",
    "        bincol = '_'+by.name+'_'\n",
    "        df[bincol] = bin_categories\n",
    "\n",
    "        from matplotlib import pyplot as plt\n",
    "        plt.hold(True)\n",
    "#         fig,ax = plt.subplots()\n",
    "        ax = df.boxplot(column.name,by=bincol, rot=90, sym='*')#,ax=ax)\n",
    "        \n",
    "        # ---\n",
    "        def fit_linear_curve(x,y,func):\n",
    "            from scipy.optimize import curve_fit\n",
    "            popt,pcov = curve_fit(func, x, y)\n",
    "            return popt\n",
    "        # ---\n",
    "\n",
    "        hlines_intersec = None\n",
    "        if hlines:\n",
    "            hlines_intersec = []\n",
    "            for hline in hlines:\n",
    "                ax.axhline(hline, color='red', ls='dotted')\n",
    "\n",
    "                def _within_quartil(q):\n",
    "                    dq = q.quantile(0.75)-q.quantile(0.25)\n",
    "                    mq = q.quantile(0.5)\n",
    "                    return mq-1.5*dq < hline and mq+1.5*dq > hline\n",
    "\n",
    "                filt_df = df.groupby(bincol).filter( lambda df,col=column:_within_quartil(df[col.name]) )\n",
    "\n",
    "                y_val = None\n",
    "                h_lbl = ' {} : {} '.format(hline,y_val)\n",
    "\n",
    "                if len(filt_df) > 0:\n",
    "                    x = filt_df[column.name]\n",
    "                    y = filt_df[by.name]\n",
    "                    if fit_func is None:\n",
    "                        y_val = y.mean()\n",
    "                    else:\n",
    "                        popt = fit_linear_curve(x,y,fit_func)\n",
    "                        y_val = fit_func(hline,*popt)\n",
    "                    h_lbl = ' {:.2f} : {:.2f} '.format(hline,y_val)\n",
    "\n",
    "                ax.text(1, hline+hline*0.1, h_lbl, bbox=dict(facecolor='white', alpha=0.9))\n",
    "                hlines_intersec.append(y_val)\n",
    "\n",
    "        del df\n",
    "        plt.hold(False)\n",
    "        fig = ax.figure\n",
    "        return fig,hlines_intersec\n",
    "\n",
    "    @staticmethod\n",
    "    def footprint(x, y, title, savefig=False):\n",
    "        from matplotlib import pyplot as plt\n",
    "        fig, ax = plt.subplots()\n",
    "        fig.set_size_inches(8,8)\n",
    "        _ = ax.scatter(x=x, y=y, marker='.')\n",
    "        _ = ax.set_xlabel('RA (deg)')\n",
    "        _ = ax.set_ylabel('Dec (deg)')\n",
    "        _title = 'Footprint: {}'.format(tilename)\n",
    "        _ = ax.set_title(_title)\n",
    "#         fig,_ = Plots.scatter(x, y, title=title)\n",
    "#         fig.set_size_inches(8,8)\n",
    "        return fig\n",
    "\n",
    "    @staticmethod\n",
    "    def histogram(column,savefig=False):\n",
    "        import seaborn\n",
    "        ax = seaborn.countplot(column)\n",
    "        fig = ax.figure\n",
    "        return fig\n",
    "    \n",
    "    \n",
    "    \n",
    "class CS82(object):\n",
    "    '''\n",
    "    Holds methods to extract and produce plots to CS82 image\n",
    "    '''\n",
    "    def __init__(self,tilename):\n",
    "        self._catalog = self.open_file(tilename)\n",
    "        self._tilename = tilename\n",
    "        \n",
    "        self._columns_radec = self.read_position_columns()\n",
    "        self._columns_mag = self.read_mag_columns()\n",
    "        self._columns_flags = self.read_flags_columns()\n",
    "\n",
    "        self.init_plots()\n",
    "        \n",
    "        self._table = None\n",
    "        self._magtype = None\n",
    "        \n",
    "    def add_magLims(self,dict_mag):\n",
    "        import pandas\n",
    "        for idx,cols in dict_mag.iteritems():\n",
    "            _vs = cols.values()[0]\n",
    "            df_new = pandas.DataFrame(cols,index=[idx]*len(_vs))\n",
    "        if self._table is None:\n",
    "            self._table = df_new\n",
    "        else:\n",
    "            self._table = pandas.concat([self._table,df_new])\n",
    "    \n",
    "    @property\n",
    "    def magLims(self):\n",
    "        return self._table\n",
    "    \n",
    "    @property\n",
    "    def filename(self):\n",
    "        return self._tilename\n",
    "    \n",
    "    @property\n",
    "    def ra(self):\n",
    "        return self._catalog['ALPHA_J2000']\n",
    "    \n",
    "    @property\n",
    "    def dec(self):\n",
    "        return self._catalog['DELTA_J2000']\n",
    "    \n",
    "    @property\n",
    "    def flags(self):\n",
    "        return self._catalog['FLAGS']\n",
    "    \n",
    "    @property\n",
    "    def mag(self):\n",
    "        assert self._magtype\n",
    "        col = 'MAG_'+self._magtype\n",
    "        assert col in self._catalog.columns\n",
    "        return self._catalog[col]\n",
    "    \n",
    "    @property\n",
    "    def magerr(self):\n",
    "        assert self._magtype\n",
    "        col = 'MAGERR_'+self._magtype\n",
    "        assert col in self._catalog.columns\n",
    "        return self._catalog[col]\n",
    "    \n",
    "    def set_magtype(self,mtype):\n",
    "        self._magtype = mtype\n",
    "    \n",
    "    @staticmethod\n",
    "    def open_file(tilename):\n",
    "        from astropy.table import Table\n",
    "        cat = Table.read(tilename,format='fits',hdu=2)\n",
    "        return cat\n",
    "    \n",
    "    def init_plots(self):\n",
    "        _columns = self._columns_flags[:]\n",
    "        _columns.extend(self._columns_radec)\n",
    "        _columns.extend([ 'MAG_{}'.format(c) for c in self._columns_mag ])\n",
    "        _columns.extend([ 'MAGERR_{}'.format(c) for c in self._columns_mag ])\n",
    "        cat = self._catalog[_columns]\n",
    "        df = cat.to_pandas()\n",
    "        for col in _columns:\n",
    "            nil_indxs = df[col]==99\n",
    "            df.loc[nil_indxs,col] = None\n",
    "        df.dropna(inplace=True)\n",
    "        self._catalog = df\n",
    "    \n",
    "    def read_position_columns(self):\n",
    "        return ['ALPHA_J2000','DELTA_J2000']\n",
    "    \n",
    "    def read_mag_columns(self):\n",
    "        colnames = filter(lambda s:'MAG_' in s, self._catalog.colnames)\n",
    "        colnames = filter(lambda c:self._catalog[c].ndim == 1, colnames)\n",
    "        mag_types = [ s[4:] for s in colnames ]\n",
    "        return mag_types\n",
    "    \n",
    "    def read_flags_columns(self):\n",
    "        return ['FLAGS']\n"
   ]
  },
  {
   "cell_type": "code",
   "execution_count": 6,
   "metadata": {
    "collapsed": false
   },
   "outputs": [
    {
     "name": "stdout",
     "output_type": "stream",
     "text": [
      "Running MAGS-LIMIT pipeline for tile: S82m0m_y.V2.7A.swarp.cut.deV.fit\n",
      "--> processing AUTO magnitude measurements;\n",
      "--> processing BEST magnitude measurements;\n",
      "--> processing MODEL magnitude measurements;\n"
     ]
    },
    {
     "name": "stderr",
     "output_type": "stream",
     "text": [
      "/anaconda/envs/booq/lib/python2.7/site-packages/ipykernel/__main__.py:42: RuntimeWarning: divide by zero encountered in log\n"
     ]
    },
    {
     "name": "stdout",
     "output_type": "stream",
     "text": [
      "--> processing PSF magnitude measurements;\n",
      "--> done with magnitude plots and depth estimation;\n",
      "Done with this tile.\n"
     ]
    }
   ],
   "source": [
    "tiles_list = ['S82m0m_y.V2.7A.swarp.cut.deV.fit']\n",
    "mags_list = ['AUTO','BEST','MODEL','PSF']\n",
    "\n",
    "def _savefig_filename_(tilename,plot_type):\n",
    "    assert isinstance(plot_type,(str,unicode))\n",
    "    from os.path import basename,splitext\n",
    "    rootname = splitext(basename(tilename))[0]\n",
    "    filename = '{}_{}.png'.format(rootname,plot_type)\n",
    "    return filename\n",
    "\n",
    "def _csv_filename_(tilename):\n",
    "    from os.path import basename,splitext\n",
    "    rootname = splitext(basename(tilename))[0]\n",
    "    filename = '{}_{}.csv'.format(rootname,'magLims')\n",
    "    return filename\n",
    "\n",
    "for tilename in tiles_list:\n",
    "    print \"Running MAGS-LIMIT pipeline for tile: {}\".format(tilename)\n",
    "    tile = CS82(tilename)\n",
    "    \n",
    "    from matplotlib import pyplot as plt\n",
    "    plt.cla()\n",
    "    plt.clf()\n",
    "\n",
    "    for mag in mags_list:\n",
    "        print \"--> processing {} magnitude measurements;\".format(mag)\n",
    "        tile.set_magtype(mag)\n",
    "\n",
    "        error_lims = [0.2,0.5]\n",
    "        \n",
    "        def func_linear(t, a, b):\n",
    "            return a*t + b\n",
    "        fig,mag_lims_bx = Plots.boxplot(tile.magerr, by=tile.mag, hlines=error_lims,\n",
    "                                        fit_func=func_linear, nbins=20, savefig=True)\n",
    "        fig.savefig(_savefig_filename_(tile.filename,'boxplot_'+mag))\n",
    "        \n",
    "        plt.cla()\n",
    "        plt.clf()\n",
    "\n",
    "        def func_log(t, a, b):\n",
    "            from numpy import log\n",
    "            return a + b * log(t)\n",
    "        title = '{}: measurement vs error'.format(mag)\n",
    "        fig,mag_lims_sc = Plots.scatter(x=tile.magerr, y=tile.mag, vlines=error_lims,\n",
    "                                        fit_func=func_log, title=title, savefig=True)\n",
    "        fig.savefig(_savefig_filename_(tile.filename,'scatter_'+mag))\n",
    "\n",
    "        tile.add_magLims({ mag:{'Error':error_lims , 'MagErr_Fit':mag_lims_sc , 'MagErr_Box':mag_lims_bx} })\n",
    "\n",
    "        plt.cla()\n",
    "        plt.clf()\n",
    "        \n",
    "    print \"--> done with magnitude plots and depth estimation;\"\n",
    "    fig = Plots.histogram(tile.flags, savefig=True)\n",
    "    fig.savefig(_savefig_filename_(tile.filename,'flags'))\n",
    "    \n",
    "    title = 'Footprint: {}'.format(tile.filename)\n",
    "    fig = Plots.footprint(tile.ra,tile.dec,title=title,savefig=True)\n",
    "    fig.savefig(_savefig_filename_(tile.filename,'footprint'))\n",
    "    \n",
    "    tile.magLims.to_csv(_csv_filename_(tile.filename))\n",
    "    print \"Done with this tile.\"\n"
   ]
  },
  {
   "cell_type": "code",
   "execution_count": null,
   "metadata": {
    "collapsed": true
   },
   "outputs": [],
   "source": []
  }
 ],
 "metadata": {
  "anaconda-cloud": {},
  "kernelspec": {
   "display_name": "Python [conda env:booq]",
   "language": "python",
   "name": "conda-env-booq-py"
  },
  "language_info": {
   "codemirror_mode": {
    "name": "ipython",
    "version": 2
   },
   "file_extension": ".py",
   "mimetype": "text/x-python",
   "name": "python",
   "nbconvert_exporter": "python",
   "pygments_lexer": "ipython2",
   "version": "2.7.12"
  }
 },
 "nbformat": 4,
 "nbformat_minor": 1
}
