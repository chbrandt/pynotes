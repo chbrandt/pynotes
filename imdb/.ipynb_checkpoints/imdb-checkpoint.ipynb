{
 "cells": [
  {
   "cell_type": "markdown",
   "metadata": {},
   "source": [
    "# IMDB movies database analysis\n",
    "\n",
    "Let's play with imdb publicly available datasets. The datasets are linked at the [imdb interfaces page](http://www.imdb.com/interfaces)"
   ]
  },
  {
   "cell_type": "code",
   "execution_count": 1,
   "metadata": {
    "collapsed": true
   },
   "outputs": [],
   "source": [
    "imdb_url = 'ftp://ftp.fu-berlin.de/pub/misc/movies/database/'"
   ]
  },
  {
   "cell_type": "markdown",
   "metadata": {},
   "source": [
    "Let's first take a look on what is there to download."
   ]
  },
  {
   "cell_type": "code",
   "execution_count": 14,
   "metadata": {
    "collapsed": false
   },
   "outputs": [],
   "source": [
    "class FTP:\n",
    "    def __init__(self,url):\n",
    "        self.url = url\n",
    "        self.content = self.read()\n",
    "        \n",
    "    @staticmethod\n",
    "    def _filter(lst,expr):\n",
    "        lst = [ s for s in lst if expr in s ]\n",
    "        return lst\n",
    "    \n",
    "    def pprint(self,files=''):\n",
    "        if not files:\n",
    "            lst = self.content\n",
    "        else:\n",
    "            lst = _filter(self.content,files)\n",
    "        for l in lst:\n",
    "            print l\n",
    "            \n",
    "    def read(self):\n",
    "        import urllib2\n",
    "        pg = urllib2.urlopen(self.url)\n",
    "        lst = pg.readlines()\n",
    "        return lst\n",
    "    \n",
    "    def display(self):\n",
    "        from IPython import display\n",
    "        display.Pretty(self.page)\n"
   ]
  },
  {
   "cell_type": "code",
   "execution_count": 15,
   "metadata": {
    "collapsed": false
   },
   "outputs": [
    {
     "name": "stdout",
     "output_type": "stream",
     "text": [
      "-rw-r--r--   1 ZEDAT    FU-Berlin     1428 May 29  2014 README\r\n",
      "\n",
      "-rw-r--r--   1 ZEDAT    FU-Berlin 296183114 Feb 23 04:41 actors.list.gz\r\n",
      "\n",
      "-rw-r--r--   1 ZEDAT    FU-Berlin 165733157 Feb 23 04:44 actresses.list.gz\r\n",
      "\n",
      "-rw-r--r--   1 ZEDAT    FU-Berlin  8206449 Feb 23 04:57 aka-names.list.gz\r\n",
      "\n",
      "-rw-r--r--   1 ZEDAT    FU-Berlin  9184461 Feb 23 04:55 aka-titles.list.gz\r\n",
      "\n",
      "-rw-r--r--   1 ZEDAT    FU-Berlin  2529413 Feb 23 05:01 alternate-versions.list.gz\r\n",
      "\n",
      "-rw-r--r--   1 ZEDAT    FU-Berlin 194380284 Feb 23 04:55 biographies.list.gz\r\n",
      "\n",
      "-rw-r--r--   1 ZEDAT    FU-Berlin 10407906 Feb 23 05:01 business.list.gz\r\n",
      "\n",
      "-rw-r--r--   1 ZEDAT    FU-Berlin  5606160 Feb 23 04:57 certificates.list.gz\r\n",
      "\n",
      "-rw-r--r--   1 ZEDAT    FU-Berlin 18888322 Feb 23 04:47 cinematographers.list.gz\r\n",
      "\n",
      "-rw-r--r--   1 ZEDAT    FU-Berlin 17214721 Feb 23 04:58 color-info.list.gz\r\n",
      "\n",
      "-rw-r--r--   1 ZEDAT    FU-Berlin  1012061 Dec 19 07:40 complete-cast.list.gz\r\n",
      "\n",
      "-rw-r--r--   1 ZEDAT    FU-Berlin   594006 Dec 19 07:45 complete-crew.list.gz\r\n",
      "\n",
      "-rw-r--r--   1 ZEDAT    FU-Berlin 14963674 Feb 23 04:48 composers.list.gz\r\n",
      "\n",
      "drwxr-xr-x   2 ZEDAT    FU-Berlin       88 Jul  6  2005 contrib\r\n",
      "\n",
      "-rw-r--r--   1 ZEDAT    FU-Berlin  5010985 Feb 23 04:48 costume-designers.list.gz\r\n",
      "\n",
      "-rw-r--r--   1 ZEDAT    FU-Berlin 17439273 Feb 23 04:59 countries.list.gz\r\n",
      "\n",
      "-rw-r--r--   1 ZEDAT    FU-Berlin  1336165 Feb 23 04:53 crazy-credits.list.gz\r\n",
      "\n",
      "drwxr-xr-x   2 ZEDAT    FU-Berlin    32768 Feb 23 21:13 diffs\r\n",
      "\n",
      "-rw-r--r--   1 ZEDAT    FU-Berlin 33825198 Feb 23 04:46 directors.list.gz\r\n",
      "\n",
      "-rw-r--r--   1 ZEDAT    FU-Berlin 26939041 Feb 23 05:02 distributors.list.gz\r\n",
      "\n",
      "-rw-r--r--   1 ZEDAT    FU-Berlin 23993229 Feb 23 04:48 editors.list.gz\r\n",
      "\n",
      "-rw-r--r--   1 ZEDAT    FU-Berlin     1213 Feb 23 04:40 filesizes\r\n",
      "\n",
      "-rw-r--r--   1 ZEDAT    FU-Berlin     1213 Feb 19 19:48 filesizes.old\r\n",
      "\n",
      "-rw-r--r--   1 ZEDAT    FU-Berlin 17032294 Feb 23 04:57 genres.list.gz\r\n",
      "\n",
      "-rw-r--r--   1 ZEDAT    FU-Berlin   355393 Dec 19 07:44 german-aka-titles.list.gz\r\n",
      "\n",
      "-rw-r--r--   1 ZEDAT    FU-Berlin 20915422 Feb 23 04:54 goofs.list.gz\r\n",
      "\n",
      "-rw-r--r--   1 ZEDAT    FU-Berlin    21347 Oct 16  1998 iso-aka-titles.list.gz\r\n",
      "\n",
      "-rw-r--r--   1 ZEDAT    FU-Berlin   415956 Dec 14  2000 italian-aka-titles.list.gz\r\n",
      "\n",
      "-rw-r--r--   1 ZEDAT    FU-Berlin 46376756 Feb 23 05:02 keywords.list.gz\r\n",
      "\n",
      "-rw-r--r--   1 ZEDAT    FU-Berlin 17524560 Feb 23 05:01 language.list.gz\r\n",
      "\n",
      "-rw-r--r--   1 ZEDAT    FU-Berlin   802402 Dec 19 07:44 laserdisc.list.gz\r\n",
      "\n",
      "-rw-r--r--   1 ZEDAT    FU-Berlin  6177702 Feb 23 04:59 literature.list.gz\r\n",
      "\n",
      "-rw-r--r--   1 ZEDAT    FU-Berlin 14045335 Feb 23 04:59 locations.list.gz\r\n",
      "\n",
      "-rw-r--r--   1 ZEDAT    FU-Berlin 14876333 Feb 23 05:02 miscellaneous-companies.list.gz\r\n",
      "\n",
      "-rw-r--r--   1 ZEDAT    FU-Berlin 100943310 Feb 23 04:50 miscellaneous.list.gz\r\n",
      "\n",
      "-rw-r--r--   1 ZEDAT    FU-Berlin 22496468 Feb 23 05:00 movie-links.list.gz\r\n",
      "\n",
      "-rw-r--r--   1 ZEDAT    FU-Berlin 36417016 Feb 23 04:54 movies.list.gz\r\n",
      "\n",
      "-rw-r--r--   1 ZEDAT    FU-Berlin   317977 Feb 23 05:01 mpaa-ratings-reasons.list.gz\r\n",
      "\n",
      "drwxr-xr-x   2 ZEDAT    FU-Berlin     4096 Jul  6  2005 newsletter\r\n",
      "\n",
      "-rw-r--r--   1 ZEDAT    FU-Berlin 127173438 Feb 23 04:51 plot.list.gz\r\n",
      "\n",
      "-rw-r--r--   1 ZEDAT    FU-Berlin 84864149 Feb 23 04:48 producers.list.gz\r\n",
      "\n",
      "-rw-r--r--   1 ZEDAT    FU-Berlin 30314020 Feb 23 04:58 production-companies.list.gz\r\n",
      "\n",
      "-rw-r--r--   1 ZEDAT    FU-Berlin  5987206 Feb 23 04:48 production-designers.list.gz\r\n",
      "\n",
      "-rw-r--r--   1 ZEDAT    FU-Berlin 71922657 Feb 23 04:53 quotes.list.gz\r\n",
      "\n",
      "-rw-r--r--   1 ZEDAT    FU-Berlin 12399736 Feb 23 04:51 ratings.list.gz\r\n",
      "\n",
      "-rw-r--r--   1 ZEDAT    FU-Berlin 54440906 Feb 23 05:00 release-dates.list.gz\r\n",
      "\n",
      "-rw-r--r--   1 ZEDAT    FU-Berlin 14769913 Feb 23 04:57 running-times.list.gz\r\n",
      "\n",
      "-rw-r--r--   1 ZEDAT    FU-Berlin  6845692 Feb 23 04:58 sound-mix.list.gz\r\n",
      "\n",
      "-rw-r--r--   1 ZEDAT    FU-Berlin 20521234 Feb 23 04:54 soundtracks.list.gz\r\n",
      "\n",
      "-rw-r--r--   1 ZEDAT    FU-Berlin  1106933 Feb 23 05:02 special-effects-companies.list.gz\r\n",
      "\n",
      "-rw-r--r--   1 ZEDAT    FU-Berlin  5771764 Feb 23 04:59 taglines.list.gz\r\n",
      "\n",
      "-rw-r--r--   1 ZEDAT    FU-Berlin 13921156 Feb 23 04:59 technical.list.gz\r\n",
      "\n",
      "drwxr-xr-x   7 ZEDAT    FU-Berlin     4096 Aug 24  2009 tools\r\n",
      "\n",
      "-rw-r--r--   1 ZEDAT    FU-Berlin 49708526 Feb 23 04:53 trivia.list.gz\r\n",
      "\n",
      "-rw-r--r--   1 ZEDAT    FU-Berlin 53280923 Feb 23 04:47 writers.list.gz\r\n",
      "\n"
     ]
    }
   ],
   "source": [
    "ftp = FTP(imdb_url)\n",
    "ftp.pprint()"
   ]
  },
  {
   "cell_type": "code",
   "execution_count": 16,
   "metadata": {
    "collapsed": false
   },
   "outputs": [
    {
     "ename": "NameError",
     "evalue": "global name '_filter' is not defined",
     "output_type": "error",
     "traceback": [
      "\u001b[1;31m---------------------------------------------------------------------------\u001b[0m",
      "\u001b[1;31mNameError\u001b[0m                                 Traceback (most recent call last)",
      "\u001b[1;32m<ipython-input-16-c47440ce25e3>\u001b[0m in \u001b[0;36m<module>\u001b[1;34m()\u001b[0m\n\u001b[1;32m----> 1\u001b[1;33m \u001b[0mftp\u001b[0m\u001b[1;33m.\u001b[0m\u001b[0mpprint\u001b[0m\u001b[1;33m(\u001b[0m\u001b[1;34m'list.gz'\u001b[0m\u001b[1;33m)\u001b[0m\u001b[1;33m\u001b[0m\u001b[0m\n\u001b[0m",
      "\u001b[1;32m<ipython-input-14-8676de0c2f79>\u001b[0m in \u001b[0;36mpprint\u001b[1;34m(self, files)\u001b[0m\n\u001b[0;32m     13\u001b[0m             \u001b[0mlst\u001b[0m \u001b[1;33m=\u001b[0m \u001b[0mself\u001b[0m\u001b[1;33m.\u001b[0m\u001b[0mcontent\u001b[0m\u001b[1;33m\u001b[0m\u001b[0m\n\u001b[0;32m     14\u001b[0m         \u001b[1;32melse\u001b[0m\u001b[1;33m:\u001b[0m\u001b[1;33m\u001b[0m\u001b[0m\n\u001b[1;32m---> 15\u001b[1;33m             \u001b[0mlst\u001b[0m \u001b[1;33m=\u001b[0m \u001b[0m_filter\u001b[0m\u001b[1;33m(\u001b[0m\u001b[0mself\u001b[0m\u001b[1;33m.\u001b[0m\u001b[0mcontent\u001b[0m\u001b[1;33m,\u001b[0m\u001b[0mfiles\u001b[0m\u001b[1;33m)\u001b[0m\u001b[1;33m\u001b[0m\u001b[0m\n\u001b[0m\u001b[0;32m     16\u001b[0m         \u001b[1;32mfor\u001b[0m \u001b[0ml\u001b[0m \u001b[1;32min\u001b[0m \u001b[0mlst\u001b[0m\u001b[1;33m:\u001b[0m\u001b[1;33m\u001b[0m\u001b[0m\n\u001b[0;32m     17\u001b[0m             \u001b[1;32mprint\u001b[0m \u001b[0ml\u001b[0m\u001b[1;33m\u001b[0m\u001b[0m\n",
      "\u001b[1;31mNameError\u001b[0m: global name '_filter' is not defined"
     ]
    }
   ],
   "source": [
    "ftp.pprint('list.gz')"
   ]
  },
  {
   "cell_type": "code",
   "execution_count": null,
   "metadata": {
    "collapsed": true
   },
   "outputs": [],
   "source": []
  }
 ],
 "metadata": {
  "kernelspec": {
   "display_name": "Python 2",
   "language": "python",
   "name": "python2"
  },
  "language_info": {
   "codemirror_mode": {
    "name": "ipython",
    "version": 2
   },
   "file_extension": ".py",
   "mimetype": "text/x-python",
   "name": "python",
   "nbconvert_exporter": "python",
   "pygments_lexer": "ipython2",
   "version": "2.7.11"
  }
 },
 "nbformat": 4,
 "nbformat_minor": 0
}
